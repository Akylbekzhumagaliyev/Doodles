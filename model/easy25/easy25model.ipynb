{
  "nbformat": 4,
  "nbformat_minor": 0,
  "metadata": {
    "colab": {
      "name": "doodle2.ipynb",
      "provenance": [],
      "collapsed_sections": []
    },
    "kernelspec": {
      "name": "python3",
      "display_name": "Python 3"
    },
    "accelerator": "GPU"
  },
  "cells": [
    {
      "cell_type": "code",
      "metadata": {
        "id": "HMS4M6WQTOox",
        "colab_type": "code",
        "colab": {}
      },
      "source": [
        "import os\n",
        "import glob\n",
        "import numpy as np\n",
        "from tensorflow.keras import layers\n",
        "from tensorflow import keras\n",
        "import tensorflow as tf "
      ],
      "execution_count": 1,
      "outputs": []
    },
    {
      "cell_type": "code",
      "metadata": {
        "id": "YtLQivZ0T_Bc",
        "colab_type": "code",
        "colab": {}
      },
      "source": [
        "categories = ['ant','bat','bird','camel','cat','cow','crab','dog','dragon','elephant','fish','frog','giraffe','horse','mouse','apple','banana','grapes','pear','pineapple','airplane','bicycle','bus','car','submarine','truck']"
      ],
      "execution_count": 2,
      "outputs": []
    },
    {
      "cell_type": "code",
      "metadata": {
        "id": "haoLTZKTUIF0",
        "colab_type": "code",
        "colab": {}
      },
      "source": [
        "!mkdir npy"
      ],
      "execution_count": 3,
      "outputs": []
    },
    {
      "cell_type": "markdown",
      "metadata": {
        "id": "e2ZSuSTb_hXJ",
        "colab_type": "text"
      },
      "source": [
        "# New Section"
      ]
    },
    {
      "cell_type": "code",
      "metadata": {
        "id": "kC1flDuthmz3",
        "colab_type": "code",
        "colab": {
          "base_uri": "https://localhost:8080/",
          "height": 451
        },
        "outputId": "f92f61a0-8ea7-4bff-f6bc-ff9455de634a"
      },
      "source": [
        "cat_limit = categories[:25]\n",
        "cat_limit"
      ],
      "execution_count": 4,
      "outputs": [
        {
          "output_type": "execute_result",
          "data": {
            "text/plain": [
              "['ant',\n",
              " 'bat',\n",
              " 'bird',\n",
              " 'camel',\n",
              " 'cat',\n",
              " 'cow',\n",
              " 'crab',\n",
              " 'dog',\n",
              " 'dragon',\n",
              " 'elephant',\n",
              " 'fish',\n",
              " 'frog',\n",
              " 'giraffe',\n",
              " 'horse',\n",
              " 'mouse',\n",
              " 'apple',\n",
              " 'banana',\n",
              " 'grapes',\n",
              " 'pear',\n",
              " 'pineapple',\n",
              " 'airplane',\n",
              " 'bicycle',\n",
              " 'bus',\n",
              " 'car',\n",
              " 'submarine']"
            ]
          },
          "metadata": {
            "tags": []
          },
          "execution_count": 4
        }
      ]
    },
    {
      "cell_type": "code",
      "metadata": {
        "id": "VsqvfHRBUJpY",
        "colab_type": "code",
        "colab": {}
      },
      "source": [
        "import urllib.request\n",
        "\n",
        "\n",
        "def download():\n",
        "  base = 'https://storage.googleapis.com/quickdraw_dataset/full/numpy_bitmap/'\n",
        "  counter = 1\n",
        "  for i in cat_limit:\n",
        "    space = i.replace('_', '%20')\n",
        "    path = base+space+'.npy'\n",
        "    print(f'{path} {counter}/{len(cat_limit)}')\n",
        "    counter += 1\n",
        "    urllib.request.urlretrieve(path, 'npy/'+i+'.npy')"
      ],
      "execution_count": 5,
      "outputs": []
    },
    {
      "cell_type": "code",
      "metadata": {
        "id": "jeBZS2KoUmCd",
        "colab_type": "code",
        "colab": {
          "base_uri": "https://localhost:8080/",
          "height": 451
        },
        "outputId": "f0a7bb96-5517-486a-b0e0-3f38af3a6a54"
      },
      "source": [
        "download()"
      ],
      "execution_count": 6,
      "outputs": [
        {
          "output_type": "stream",
          "text": [
            "https://storage.googleapis.com/quickdraw_dataset/full/numpy_bitmap/ant.npy 1/25\n",
            "https://storage.googleapis.com/quickdraw_dataset/full/numpy_bitmap/bat.npy 2/25\n",
            "https://storage.googleapis.com/quickdraw_dataset/full/numpy_bitmap/bird.npy 3/25\n",
            "https://storage.googleapis.com/quickdraw_dataset/full/numpy_bitmap/camel.npy 4/25\n",
            "https://storage.googleapis.com/quickdraw_dataset/full/numpy_bitmap/cat.npy 5/25\n",
            "https://storage.googleapis.com/quickdraw_dataset/full/numpy_bitmap/cow.npy 6/25\n",
            "https://storage.googleapis.com/quickdraw_dataset/full/numpy_bitmap/crab.npy 7/25\n",
            "https://storage.googleapis.com/quickdraw_dataset/full/numpy_bitmap/dog.npy 8/25\n",
            "https://storage.googleapis.com/quickdraw_dataset/full/numpy_bitmap/dragon.npy 9/25\n",
            "https://storage.googleapis.com/quickdraw_dataset/full/numpy_bitmap/elephant.npy 10/25\n",
            "https://storage.googleapis.com/quickdraw_dataset/full/numpy_bitmap/fish.npy 11/25\n",
            "https://storage.googleapis.com/quickdraw_dataset/full/numpy_bitmap/frog.npy 12/25\n",
            "https://storage.googleapis.com/quickdraw_dataset/full/numpy_bitmap/giraffe.npy 13/25\n",
            "https://storage.googleapis.com/quickdraw_dataset/full/numpy_bitmap/horse.npy 14/25\n",
            "https://storage.googleapis.com/quickdraw_dataset/full/numpy_bitmap/mouse.npy 15/25\n",
            "https://storage.googleapis.com/quickdraw_dataset/full/numpy_bitmap/apple.npy 16/25\n",
            "https://storage.googleapis.com/quickdraw_dataset/full/numpy_bitmap/banana.npy 17/25\n",
            "https://storage.googleapis.com/quickdraw_dataset/full/numpy_bitmap/grapes.npy 18/25\n",
            "https://storage.googleapis.com/quickdraw_dataset/full/numpy_bitmap/pear.npy 19/25\n",
            "https://storage.googleapis.com/quickdraw_dataset/full/numpy_bitmap/pineapple.npy 20/25\n",
            "https://storage.googleapis.com/quickdraw_dataset/full/numpy_bitmap/airplane.npy 21/25\n",
            "https://storage.googleapis.com/quickdraw_dataset/full/numpy_bitmap/bicycle.npy 22/25\n",
            "https://storage.googleapis.com/quickdraw_dataset/full/numpy_bitmap/bus.npy 23/25\n",
            "https://storage.googleapis.com/quickdraw_dataset/full/numpy_bitmap/car.npy 24/25\n",
            "https://storage.googleapis.com/quickdraw_dataset/full/numpy_bitmap/submarine.npy 25/25\n"
          ],
          "name": "stdout"
        }
      ]
    },
    {
      "cell_type": "code",
      "metadata": {
        "id": "-DD_wPWaUtX-",
        "colab_type": "code",
        "colab": {}
      },
      "source": [
        "all_files = glob.glob(os.path.join('npy', '*.npy'))"
      ],
      "execution_count": 44,
      "outputs": []
    },
    {
      "cell_type": "code",
      "metadata": {
        "id": "D1ArXEhHE84s",
        "colab_type": "code",
        "colab": {}
      },
      "source": [
        "X = np.empty([0, 784])\n",
        "y = np.empty([0])\n",
        "label_names = []\n",
        "\n",
        "for idx, file in enumerate(all_files):\n",
        "  data = np.load(file)\n",
        "  data = data[0: 15000, :]\n",
        "  labels = np.full(data.shape[0], idx)\n",
        "\n",
        "  X = np.concatenate((X, data), axis=0)\n",
        "  y = np.append(y, labels)\n",
        "  \n",
        "  label_name, extension = os.path.splitext(os.path.basename(file))\n",
        "  label_names.append(label_name)"
      ],
      "execution_count": 79,
      "outputs": []
    },
    {
      "cell_type": "code",
      "metadata": {
        "colab_type": "code",
        "id": "NR-ZLL8QriUO",
        "colab": {
          "base_uri": "https://localhost:8080/",
          "height": 300
        },
        "outputId": "27e283ab-2239-47de-e669-fbe95a6e7045"
      },
      "source": [
        "import matplotlib.pyplot as plt\n",
        "from random import randint\n",
        "%matplotlib inline\n",
        "idx = randint(0, X.shape[0])\n",
        "print(idx)\n",
        "plt.imshow(X[idx].reshape(28,28), cmap='binary')\n",
        "print(label_names[int(y[idx].item())])\n"
      ],
      "execution_count": 45,
      "outputs": [
        {
          "output_type": "stream",
          "text": [
            "71420\n",
            "horse\n"
          ],
          "name": "stdout"
        },
        {
          "output_type": "display_data",
          "data": {
            "image/png": "[encoded data removed]",
            "text/plain": [
              "<Figure size 432x288 with 1 Axes>"
            ]
          },
          "metadata": {
            "tags": [],
            "needs_background": "light"
          }
        }
      ]
    },
    {
      "cell_type": "code",
      "metadata": {
        "id": "w4Eav4jpWqxl",
        "colab_type": "code",
        "colab": {
          "base_uri": "https://localhost:8080/",
          "height": 451
        },
        "outputId": "b40fe5b0-1248-4a19-98e7-5e7babca550c"
      },
      "source": [
        "label_names"
      ],
      "execution_count": 74,
      "outputs": [
        {
          "output_type": "execute_result",
          "data": {
            "text/plain": [
              "['banana',\n",
              " 'ant',\n",
              " 'bird',\n",
              " 'cow',\n",
              " 'dog',\n",
              " 'horse',\n",
              " 'elephant',\n",
              " 'pineapple',\n",
              " 'apple',\n",
              " 'grapes',\n",
              " 'bus',\n",
              " 'crab',\n",
              " 'camel',\n",
              " 'giraffe',\n",
              " 'car',\n",
              " 'bat',\n",
              " 'cat',\n",
              " 'frog',\n",
              " 'mouse',\n",
              " 'airplane',\n",
              " 'fish',\n",
              " 'dragon',\n",
              " 'bicycle',\n",
              " 'submarine',\n",
              " 'pear']"
            ]
          },
          "metadata": {
            "tags": []
          },
          "execution_count": 74
        }
      ]
    },
    {
      "cell_type": "code",
      "metadata": {
        "id": "SdVMH3bZFYqr",
        "colab_type": "code",
        "colab": {}
      },
      "source": [
        "from sklearn.model_selection import train_test_split\n",
        "\n",
        "X_train, X_test, y_train, y_test = train_test_split(\n",
        "   X, y, test_size=0.20, random_state=24)"
      ],
      "execution_count": 80,
      "outputs": []
    },
    {
      "cell_type": "code",
      "metadata": {
        "id": "JmlaONEAXemD",
        "colab_type": "code",
        "colab": {}
      },
      "source": [
        "X_train, X_test = X_train / 255.0, X_test / 255.0"
      ],
      "execution_count": 81,
      "outputs": []
    },
    {
      "cell_type": "code",
      "metadata": {
        "id": "mqfAClCdvdXD",
        "colab_type": "code",
        "colab": {}
      },
      "source": [
        "X_train = X_train.reshape(X_train.shape[0], 28, 28, 1).astype('float32')\n",
        "X_test = X_test.reshape(X_test.shape[0], 28, 28, 1).astype('float32')"
      ],
      "execution_count": 82,
      "outputs": []
    },
    {
      "cell_type": "code",
      "metadata": {
        "id": "lOT17ETvJcsr",
        "colab_type": "code",
        "colab": {
          "base_uri": "https://localhost:8080/",
          "height": 35
        },
        "outputId": "5442ba2d-2e33-42d7-905e-5a5ae8a92044"
      },
      "source": [
        "X_train.shape[0]"
      ],
      "execution_count": 83,
      "outputs": [
        {
          "output_type": "execute_result",
          "data": {
            "text/plain": [
              "300000"
            ]
          },
          "metadata": {
            "tags": []
          },
          "execution_count": 83
        }
      ]
    },
    {
      "cell_type": "code",
      "metadata": {
        "id": "gH8aJjvWXtNH",
        "colab_type": "code",
        "colab": {
          "base_uri": "https://localhost:8080/",
          "height": 35
        },
        "outputId": "f7ce7611-03cd-456f-937d-9b903ddaa40e"
      },
      "source": [
        "X_train.shape"
      ],
      "execution_count": 84,
      "outputs": [
        {
          "output_type": "execute_result",
          "data": {
            "text/plain": [
              "(300000, 28, 28, 1)"
            ]
          },
          "metadata": {
            "tags": []
          },
          "execution_count": 84
        }
      ]
    },
    {
      "cell_type": "code",
      "metadata": {
        "id": "wU0aEzgoGU9I",
        "colab_type": "code",
        "colab": {}
      },
      "source": [
        "y_train = tf.keras.utils.to_categorical(y_train, num_classes=25)\n",
        "y_test = tf.keras.utils.to_categorical(y_test, num_classes=25)\n",
        "# y_train = tf.convert_to_tensor(y_train)\n",
        "# y_test = tf.convert_to_tensor(y_test)"
      ],
      "execution_count": 85,
      "outputs": []
    },
    {
      "cell_type": "code",
      "metadata": {
        "id": "J3U4yuFtRQD4",
        "colab_type": "code",
        "colab": {
          "base_uri": "https://localhost:8080/",
          "height": 69
        },
        "outputId": "959f4860-5aad-40e3-f9dd-9fcff911ec9a"
      },
      "source": [
        "print(f'{y_test.shape}.{y_train.shape}')\n",
        "print(f'{X_test.shape},{X_train.shape}')\n",
        "y_train.shape"
      ],
      "execution_count": 86,
      "outputs": [
        {
          "output_type": "stream",
          "text": [
            "(75000, 25).(300000, 25)\n",
            "(75000, 28, 28, 1),(300000, 28, 28, 1)\n"
          ],
          "name": "stdout"
        },
        {
          "output_type": "execute_result",
          "data": {
            "text/plain": [
              "(300000, 25)"
            ]
          },
          "metadata": {
            "tags": []
          },
          "execution_count": 86
        }
      ]
    },
    {
      "cell_type": "code",
      "metadata": {
        "id": "NXi9UJ3WLwfO",
        "colab_type": "code",
        "colab": {}
      },
      "source": [
        "# train_dataset = tf.data.Dataset.from_tensor_slices((X_train, y_train)) \\\n",
        "#   .shuffle(2500).batch(32)\n",
        "# test_dataset = tf.data.Dataset.from_tensor_slices((X_test, y_test)) \\\n",
        "#   .batch(32)\n",
        "\n",
        "# BATCH_SIZE = 64\n",
        "# SHUFFLE_BUFFER_SIZE = 100\n",
        "\n",
        "# train_dataset = train_dataset.shuffle(SHUFFLE_BUFFER_SIZE).batch(BATCH_SIZE)\n",
        "# test_dataset = test_dataset.batch(BATCH_SIZE)\n",
        "# print(train_dataset.element_spec)"
      ],
      "execution_count": null,
      "outputs": []
    },
    {
      "cell_type": "code",
      "metadata": {
        "id": "LkOrSkyLIWuA",
        "colab_type": "code",
        "colab": {
          "base_uri": "https://localhost:8080/",
          "height": 624
        },
        "outputId": "83cb0dcb-9229-4c7f-b2aa-51026ec68b2c"
      },
      "source": [
        "model = keras.Sequential()\n",
        "model.add(layers.Convolution2D(16, (3, 3),\n",
        "                        padding='same',\n",
        "                        input_shape=X_train.shape[1:], activation='relu'))\n",
        "model.add(layers.MaxPooling2D(pool_size=(2, 2)))\n",
        "model.add(layers.Convolution2D(32, (3, 3), padding='same', activation= 'relu'))\n",
        "model.add(layers.Convolution2D(32, (3, 3), padding='same', activation= 'relu'))\n",
        "model.add(layers.MaxPooling2D(pool_size=(2, 2)))\n",
        "model.add(layers.Convolution2D(64, (3, 3), padding='same', activation= 'relu'))\n",
        "model.add(layers.Convolution2D(64, (3, 3), padding='same', activation= 'relu'))\n",
        "model.add(layers.MaxPooling2D(pool_size =(2,2)))\n",
        "model.add(layers.Flatten())\n",
        "model.add(layers.Dense(128, activation='relu'))\n",
        "model.add(layers.Dense(128, activation='relu'))\n",
        "model.add(layers.Dense(64, activation='relu'))\n",
        "model.add(layers.Dense(25, activation='softmax'))\n",
        "\n",
        "# top_k=tf.keras.metrics.top_k_categorical_accuracy(k=3)\n",
        "adam = tf.optimizers.Adam()\n",
        "model.compile(loss='categorical_crossentropy',\n",
        "              optimizer=adam,\n",
        "              metrics=['accuracy','top_k_categorical_accuracy'])\n",
        "print(model.summary())"
      ],
      "execution_count": 87,
      "outputs": [
        {
          "output_type": "stream",
          "text": [
            "Model: \"sequential_5\"\n",
            "_________________________________________________________________\n",
            "Layer (type)                 Output Shape              Param #   \n",
            "=================================================================\n",
            "conv2d_22 (Conv2D)           (None, 28, 28, 16)        160       \n",
            "_________________________________________________________________\n",
            "max_pooling2d_15 (MaxPooling (None, 14, 14, 16)        0         \n",
            "_________________________________________________________________\n",
            "conv2d_23 (Conv2D)           (None, 14, 14, 32)        4640      \n",
            "_________________________________________________________________\n",
            "conv2d_24 (Conv2D)           (None, 14, 14, 32)        9248      \n",
            "_________________________________________________________________\n",
            "max_pooling2d_16 (MaxPooling (None, 7, 7, 32)          0         \n",
            "_________________________________________________________________\n",
            "conv2d_25 (Conv2D)           (None, 7, 7, 64)          18496     \n",
            "_________________________________________________________________\n",
            "conv2d_26 (Conv2D)           (None, 7, 7, 64)          36928     \n",
            "_________________________________________________________________\n",
            "max_pooling2d_17 (MaxPooling (None, 3, 3, 64)          0         \n",
            "_________________________________________________________________\n",
            "flatten_5 (Flatten)          (None, 576)               0         \n",
            "_________________________________________________________________\n",
            "dense_16 (Dense)             (None, 128)               73856     \n",
            "_________________________________________________________________\n",
            "dense_17 (Dense)             (None, 128)               16512     \n",
            "_________________________________________________________________\n",
            "dense_18 (Dense)             (None, 64)                8256      \n",
            "_________________________________________________________________\n",
            "dense_19 (Dense)             (None, 25)                1625      \n",
            "=================================================================\n",
            "Total params: 169,721\n",
            "Trainable params: 169,721\n",
            "Non-trainable params: 0\n",
            "_________________________________________________________________\n",
            "None\n"
          ],
          "name": "stdout"
        }
      ]
    },
    {
      "cell_type": "code",
      "metadata": {
        "id": "qTSuiEjzIYnG",
        "colab_type": "code",
        "colab": {
          "base_uri": "https://localhost:8080/",
          "height": 263
        },
        "outputId": "284229aa-e740-4e78-9f03-482626bcba44"
      },
      "source": [
        "model.fit(x=X_train, y=y_train, batch_size=256, validation_split=0.1, verbose=2, epochs=6)"
      ],
      "execution_count": 88,
      "outputs": [
        {
          "output_type": "stream",
          "text": [
            "Epoch 1/6\n",
            "1055/1055 - 9s - loss: 1.2889 - accuracy: 0.6265 - top_k_categorical_accuracy: 0.8689 - val_loss: 0.9210 - val_accuracy: 0.7296 - val_top_k_categorical_accuracy: 0.9309\n",
            "Epoch 2/6\n",
            "1055/1055 - 9s - loss: 0.8066 - accuracy: 0.7637 - top_k_categorical_accuracy: 0.9423 - val_loss: 0.7587 - val_accuracy: 0.7768 - val_top_k_categorical_accuracy: 0.9468\n",
            "Epoch 3/6\n",
            "1055/1055 - 9s - loss: 0.6902 - accuracy: 0.7966 - top_k_categorical_accuracy: 0.9535 - val_loss: 0.7122 - val_accuracy: 0.7922 - val_top_k_categorical_accuracy: 0.9511\n",
            "Epoch 4/6\n",
            "1055/1055 - 9s - loss: 0.6288 - accuracy: 0.8141 - top_k_categorical_accuracy: 0.9587 - val_loss: 0.6551 - val_accuracy: 0.8077 - val_top_k_categorical_accuracy: 0.9552\n",
            "Epoch 5/6\n",
            "1055/1055 - 9s - loss: 0.5876 - accuracy: 0.8254 - top_k_categorical_accuracy: 0.9627 - val_loss: 0.6313 - val_accuracy: 0.8152 - val_top_k_categorical_accuracy: 0.9568\n",
            "Epoch 6/6\n",
            "1055/1055 - 9s - loss: 0.5546 - accuracy: 0.8343 - top_k_categorical_accuracy: 0.9652 - val_loss: 0.6231 - val_accuracy: 0.8154 - val_top_k_categorical_accuracy: 0.9585\n"
          ],
          "name": "stdout"
        },
        {
          "output_type": "execute_result",
          "data": {
            "text/plain": [
              "<tensorflow.python.keras.callbacks.History at 0x7f741c62a208>"
            ]
          },
          "metadata": {
            "tags": []
          },
          "execution_count": 88
        }
      ]
    },
    {
      "cell_type": "markdown",
      "metadata": {
        "id": "oz9adQjIPN_o",
        "colab_type": "text"
      },
      "source": [
        ""
      ]
    },
    {
      "cell_type": "code",
      "metadata": {
        "id": "rU6lQVLhMAN8",
        "colab_type": "code",
        "colab": {
          "base_uri": "https://localhost:8080/",
          "height": 52
        },
        "outputId": "8da56746-a94a-48ed-b1a3-d1a63d907418"
      },
      "source": [
        "score = model.evaluate(X_test, y_test, verbose=1)\n",
        "print('Test accuracy: {:0.2f}%'.format(score[1] * 100))"
      ],
      "execution_count": 89,
      "outputs": [
        {
          "output_type": "stream",
          "text": [
            "2344/2344 [==============================] - 7s 3ms/step - loss: 0.6145 - accuracy: 0.8174 - top_k_categorical_accuracy: 0.9590\n",
            "Test accuracy: 81.74%\n"
          ],
          "name": "stdout"
        }
      ]
    },
    {
      "cell_type": "code",
      "metadata": {
        "colab_type": "code",
        "id": "f-ZB6twccBIG",
        "colab": {
          "base_uri": "https://localhost:8080/",
          "height": 300
        },
        "outputId": "4e9c84d2-1742-471c-be15-1f55df75d4af"
      },
      "source": [
        "import matplotlib.pyplot as plt\n",
        "from random import randint\n",
        "%matplotlib inline\n",
        "idx = randint(0, X.shape[0])\n",
        "print(idx)\n",
        "plt.imshow(X[idx].reshape(28,28), cmap='binary')\n",
        "print(label_names[int(y[idx].item())])\n"
      ],
      "execution_count": 19,
      "outputs": [
        {
          "output_type": "stream",
          "text": [
            "194028\n",
            "bee\n"
          ],
          "name": "stdout"
        },
        {
          "output_type": "display_data",
          "data": {
            "image/png": "[encoded data removed]",
            "text/plain": [
              "<Figure size 432x288 with 1 Axes>"
            ]
          },
          "metadata": {
            "tags": [],
            "needs_background": "light"
          }
        }
      ]
    },
    {
      "cell_type": "code",
      "metadata": {
        "id": "ai2ApJi9qr7m",
        "colab_type": "code",
        "colab": {
          "base_uri": "https://localhost:8080/",
          "height": 1000
        },
        "outputId": "7cd63283-1400-46c0-be19-3f3c00bdbd1e"
      },
      "source": [
        "!pip install tensorflowjs"
      ],
      "execution_count": 90,
      "outputs": [
        {
          "output_type": "stream",
          "text": [
            "Collecting tensorflowjs\n",
            "\u001b[?25l  Downloading https://files.pythonhosted.org/packages/4a/b8/16f378a20a2ee7736233574f65a6cf2154cf8965a8890d27f3d2f33595b2/tensorflowjs-2.0.1-py3-none-any.whl (60kB)\n",
            "\r\u001b[K     |█████▌                          | 10kB 24.1MB/s eta 0:00:01\r\u001b[K     |███████████                     | 20kB 5.5MB/s eta 0:00:01\r\u001b[K     |████████████████▍               | 30kB 6.6MB/s eta 0:00:01\r\u001b[K     |█████████████████████▉          | 40kB 7.4MB/s eta 0:00:01\r\u001b[K     |███████████████████████████▎    | 51kB 6.2MB/s eta 0:00:01\r\u001b[K     |████████████████████████████████| 61kB 4.3MB/s \n",
            "\u001b[?25hRequirement already satisfied: numpy>=1.16.4 in /usr/local/lib/python3.6/dist-packages (from tensorflowjs) (1.18.5)\n",
            "Requirement already satisfied: h5py>=2.8.0 in /usr/local/lib/python3.6/dist-packages (from tensorflowjs) (2.10.0)\n",
            "Collecting tensorflow-cpu>=2.1.0<3\n",
            "\u001b[?25l  Downloading https://files.pythonhosted.org/packages/e7/4f/7bf91c87907873177ad99a31014fb77271a693a3a7cb75e522ac6b556416/tensorflow_cpu-2.2.0-cp36-cp36m-manylinux2010_x86_64.whl (144.4MB)\n",
            "\u001b[K     |████████████████████████████████| 144.4MB 107kB/s \n",
            "\u001b[?25hRequirement already satisfied: six>=1.12.0 in /usr/local/lib/python3.6/dist-packages (from tensorflowjs) (1.12.0)\n",
            "Collecting tensorflow-hub==0.7.0\n",
            "\u001b[?25l  Downloading https://files.pythonhosted.org/packages/00/0e/a91780d07592b1abf9c91344ce459472cc19db3b67fdf3a61dca6ebb2f5c/tensorflow_hub-0.7.0-py2.py3-none-any.whl (89kB)\n",
            "\u001b[K     |████████████████████████████████| 92kB 11.8MB/s \n",
            "\u001b[?25hCollecting PyInquirer==1.0.3\n",
            "  Downloading https://files.pythonhosted.org/packages/fb/4c/434b7c454010a284b49d6f1d446fe8dc5960415613d8c0225b9e2efb6724/PyInquirer-1.0.3.tar.gz\n",
            "Requirement already satisfied: wheel>=0.26; python_version >= \"3\" in /usr/local/lib/python3.6/dist-packages (from tensorflow-cpu>=2.1.0<3->tensorflowjs) (0.34.2)\n",
            "Requirement already satisfied: termcolor>=1.1.0 in /usr/local/lib/python3.6/dist-packages (from tensorflow-cpu>=2.1.0<3->tensorflowjs) (1.1.0)\n",
            "Requirement already satisfied: opt-einsum>=2.3.2 in /usr/local/lib/python3.6/dist-packages (from tensorflow-cpu>=2.1.0<3->tensorflowjs) (3.2.1)\n",
            "Requirement already satisfied: wrapt>=1.11.1 in /usr/local/lib/python3.6/dist-packages (from tensorflow-cpu>=2.1.0<3->tensorflowjs) (1.12.1)\n",
            "Requirement already satisfied: google-pasta>=0.1.8 in /usr/local/lib/python3.6/dist-packages (from tensorflow-cpu>=2.1.0<3->tensorflowjs) (0.2.0)\n",
            "Requirement already satisfied: gast==0.3.3 in /usr/local/lib/python3.6/dist-packages (from tensorflow-cpu>=2.1.0<3->tensorflowjs) (0.3.3)\n",
            "Requirement already satisfied: astunparse==1.6.3 in /usr/local/lib/python3.6/dist-packages (from tensorflow-cpu>=2.1.0<3->tensorflowjs) (1.6.3)\n",
            "Requirement already satisfied: tensorflow-estimator<2.3.0,>=2.2.0 in /usr/local/lib/python3.6/dist-packages (from tensorflow-cpu>=2.1.0<3->tensorflowjs) (2.2.0)\n",
            "Requirement already satisfied: grpcio>=1.8.6 in /usr/local/lib/python3.6/dist-packages (from tensorflow-cpu>=2.1.0<3->tensorflowjs) (1.29.0)\n",
            "Requirement already satisfied: tensorboard<2.3.0,>=2.2.0 in /usr/local/lib/python3.6/dist-packages (from tensorflow-cpu>=2.1.0<3->tensorflowjs) (2.2.2)\n",
            "Requirement already satisfied: scipy==1.4.1; python_version >= \"3\" in /usr/local/lib/python3.6/dist-packages (from tensorflow-cpu>=2.1.0<3->tensorflowjs) (1.4.1)\n",
            "Requirement already satisfied: protobuf>=3.8.0 in /usr/local/lib/python3.6/dist-packages (from tensorflow-cpu>=2.1.0<3->tensorflowjs) (3.10.0)\n",
            "Requirement already satisfied: keras-preprocessing>=1.1.0 in /usr/local/lib/python3.6/dist-packages (from tensorflow-cpu>=2.1.0<3->tensorflowjs) (1.1.2)\n",
            "Requirement already satisfied: absl-py>=0.7.0 in /usr/local/lib/python3.6/dist-packages (from tensorflow-cpu>=2.1.0<3->tensorflowjs) (0.9.0)\n",
            "Collecting prompt_toolkit==1.0.14\n",
            "\u001b[?25l  Downloading https://files.pythonhosted.org/packages/ee/3d/b25d35a9f0d381dd1c02d8e04b37c353caaaff4bc32150328eeebe4931f5/prompt_toolkit-1.0.14-py3-none-any.whl (248kB)\n",
            "\u001b[K     |████████████████████████████████| 256kB 54.3MB/s \n",
            "\u001b[?25hCollecting Pygments>=2.2.0\n",
            "\u001b[?25l  Downloading https://files.pythonhosted.org/packages/2d/68/106af3ae51daf807e9cdcba6a90e518954eb8b70341cee52995540a53ead/Pygments-2.6.1-py3-none-any.whl (914kB)\n",
            "\u001b[K     |████████████████████████████████| 921kB 54.4MB/s \n",
            "\u001b[?25hRequirement already satisfied: regex>=2016.11.21 in /usr/local/lib/python3.6/dist-packages (from PyInquirer==1.0.3->tensorflowjs) (2019.12.20)\n",
            "Requirement already satisfied: google-auth-oauthlib<0.5,>=0.4.1 in /usr/local/lib/python3.6/dist-packages (from tensorboard<2.3.0,>=2.2.0->tensorflow-cpu>=2.1.0<3->tensorflowjs) (0.4.1)\n",
            "Requirement already satisfied: setuptools>=41.0.0 in /usr/local/lib/python3.6/dist-packages (from tensorboard<2.3.0,>=2.2.0->tensorflow-cpu>=2.1.0<3->tensorflowjs) (47.3.1)\n",
            "Requirement already satisfied: werkzeug>=0.11.15 in /usr/local/lib/python3.6/dist-packages (from tensorboard<2.3.0,>=2.2.0->tensorflow-cpu>=2.1.0<3->tensorflowjs) (1.0.1)\n",
            "Requirement already satisfied: google-auth<2,>=1.6.3 in /usr/local/lib/python3.6/dist-packages (from tensorboard<2.3.0,>=2.2.0->tensorflow-cpu>=2.1.0<3->tensorflowjs) (1.17.2)\n",
            "Requirement already satisfied: tensorboard-plugin-wit>=1.6.0 in /usr/local/lib/python3.6/dist-packages (from tensorboard<2.3.0,>=2.2.0->tensorflow-cpu>=2.1.0<3->tensorflowjs) (1.6.0.post3)\n",
            "Requirement already satisfied: requests<3,>=2.21.0 in /usr/local/lib/python3.6/dist-packages (from tensorboard<2.3.0,>=2.2.0->tensorflow-cpu>=2.1.0<3->tensorflowjs) (2.23.0)\n",
            "Requirement already satisfied: markdown>=2.6.8 in /usr/local/lib/python3.6/dist-packages (from tensorboard<2.3.0,>=2.2.0->tensorflow-cpu>=2.1.0<3->tensorflowjs) (3.2.2)\n",
            "Requirement already satisfied: wcwidth in /usr/local/lib/python3.6/dist-packages (from prompt_toolkit==1.0.14->PyInquirer==1.0.3->tensorflowjs) (0.2.4)\n",
            "Requirement already satisfied: requests-oauthlib>=0.7.0 in /usr/local/lib/python3.6/dist-packages (from google-auth-oauthlib<0.5,>=0.4.1->tensorboard<2.3.0,>=2.2.0->tensorflow-cpu>=2.1.0<3->tensorflowjs) (1.3.0)\n",
            "Requirement already satisfied: pyasn1-modules>=0.2.1 in /usr/local/lib/python3.6/dist-packages (from google-auth<2,>=1.6.3->tensorboard<2.3.0,>=2.2.0->tensorflow-cpu>=2.1.0<3->tensorflowjs) (0.2.8)\n",
            "Requirement already satisfied: rsa<5,>=3.1.4; python_version >= \"3\" in /usr/local/lib/python3.6/dist-packages (from google-auth<2,>=1.6.3->tensorboard<2.3.0,>=2.2.0->tensorflow-cpu>=2.1.0<3->tensorflowjs) (4.6)\n",
            "Requirement already satisfied: cachetools<5.0,>=2.0.0 in /usr/local/lib/python3.6/dist-packages (from google-auth<2,>=1.6.3->tensorboard<2.3.0,>=2.2.0->tensorflow-cpu>=2.1.0<3->tensorflowjs) (4.1.0)\n",
            "Requirement already satisfied: idna<3,>=2.5 in /usr/local/lib/python3.6/dist-packages (from requests<3,>=2.21.0->tensorboard<2.3.0,>=2.2.0->tensorflow-cpu>=2.1.0<3->tensorflowjs) (2.9)\n",
            "Requirement already satisfied: certifi>=2017.4.17 in /usr/local/lib/python3.6/dist-packages (from requests<3,>=2.21.0->tensorboard<2.3.0,>=2.2.0->tensorflow-cpu>=2.1.0<3->tensorflowjs) (2020.4.5.2)\n",
            "Requirement already satisfied: urllib3!=1.25.0,!=1.25.1,<1.26,>=1.21.1 in /usr/local/lib/python3.6/dist-packages (from requests<3,>=2.21.0->tensorboard<2.3.0,>=2.2.0->tensorflow-cpu>=2.1.0<3->tensorflowjs) (1.24.3)\n",
            "Requirement already satisfied: chardet<4,>=3.0.2 in /usr/local/lib/python3.6/dist-packages (from requests<3,>=2.21.0->tensorboard<2.3.0,>=2.2.0->tensorflow-cpu>=2.1.0<3->tensorflowjs) (3.0.4)\n",
            "Requirement already satisfied: importlib-metadata; python_version < \"3.8\" in /usr/local/lib/python3.6/dist-packages (from markdown>=2.6.8->tensorboard<2.3.0,>=2.2.0->tensorflow-cpu>=2.1.0<3->tensorflowjs) (1.6.1)\n",
            "Requirement already satisfied: oauthlib>=3.0.0 in /usr/local/lib/python3.6/dist-packages (from requests-oauthlib>=0.7.0->google-auth-oauthlib<0.5,>=0.4.1->tensorboard<2.3.0,>=2.2.0->tensorflow-cpu>=2.1.0<3->tensorflowjs) (3.1.0)\n",
            "Requirement already satisfied: pyasn1<0.5.0,>=0.4.6 in /usr/local/lib/python3.6/dist-packages (from pyasn1-modules>=0.2.1->google-auth<2,>=1.6.3->tensorboard<2.3.0,>=2.2.0->tensorflow-cpu>=2.1.0<3->tensorflowjs) (0.4.8)\n",
            "Requirement already satisfied: zipp>=0.5 in /usr/local/lib/python3.6/dist-packages (from importlib-metadata; python_version < \"3.8\"->markdown>=2.6.8->tensorboard<2.3.0,>=2.2.0->tensorflow-cpu>=2.1.0<3->tensorflowjs) (3.1.0)\n",
            "Building wheels for collected packages: PyInquirer\n",
            "  Building wheel for PyInquirer (setup.py) ... \u001b[?25l\u001b[?25hdone\n",
            "  Created wheel for PyInquirer: filename=PyInquirer-1.0.3-cp36-none-any.whl size=32851 sha256=856f9f52a6bc74934a5f2803a6c0131edc16504eddf5427903de6bd7785a7e18\n",
            "  Stored in directory: /root/.cache/pip/wheels/52/6c/b1/3e4b0e8daf42a92883c7641c0ea8ffb62e0490ebed2faa55ad\n",
            "Successfully built PyInquirer\n",
            "\u001b[31mERROR: datascience 0.10.6 has requirement folium==0.2.1, but you'll have folium 0.8.3 which is incompatible.\u001b[0m\n",
            "Installing collected packages: tensorflow-cpu, tensorflow-hub, prompt-toolkit, Pygments, PyInquirer, tensorflowjs\n",
            "  Found existing installation: tensorflow-hub 0.8.0\n",
            "    Uninstalling tensorflow-hub-0.8.0:\n",
            "      Successfully uninstalled tensorflow-hub-0.8.0\n",
            "  Found existing installation: prompt-toolkit 1.0.18\n",
            "    Uninstalling prompt-toolkit-1.0.18:\n",
            "      Successfully uninstalled prompt-toolkit-1.0.18\n",
            "  Found existing installation: Pygments 2.1.3\n",
            "    Uninstalling Pygments-2.1.3:\n",
            "      Successfully uninstalled Pygments-2.1.3\n",
            "Successfully installed PyInquirer-1.0.3 Pygments-2.6.1 prompt-toolkit-1.0.14 tensorflow-cpu-2.2.0 tensorflow-hub-0.7.0 tensorflowjs-2.0.1\n"
          ],
          "name": "stdout"
        },
        {
          "output_type": "display_data",
          "data": {
            "application/vnd.colab-display-data+json": {
              "pip_warning": {
                "packages": [
                  "prompt_toolkit",
                  "pygments",
                  "tensorflow"
                ]
              }
            }
          },
          "metadata": {
            "tags": []
          }
        }
      ]
    },
    {
      "cell_type": "code",
      "metadata": {
        "id": "uL6HUmCYlD_Q",
        "colab_type": "code",
        "colab": {}
      },
      "source": [
        "with open('easyCategories.json', 'w') as outputFile:\n",
        "  json.dump(label_names, outputFile)"
      ],
      "execution_count": 96,
      "outputs": []
    },
    {
      "cell_type": "code",
      "metadata": {
        "id": "5Y947a_Ommsf",
        "colab_type": "code",
        "colab": {}
      },
      "source": [
        "model.save('kerasEasy25.h5')"
      ],
      "execution_count": 97,
      "outputs": []
    },
    {
      "cell_type": "code",
      "metadata": {
        "id": "f9-Ph5Ayuf_w",
        "colab_type": "code",
        "colab": {}
      },
      "source": [
        "!mkdir model"
      ],
      "execution_count": 98,
      "outputs": []
    },
    {
      "cell_type": "code",
      "metadata": {
        "id": "_6qrDjYrmqGL",
        "colab_type": "code",
        "colab": {}
      },
      "source": [
        "!tensorflowjs_converter --input_format keras kerasEasy25.h5 model/"
      ],
      "execution_count": 99,
      "outputs": []
    },
    {
      "cell_type": "code",
      "metadata": {
        "id": "5qQKsq01m22z",
        "colab_type": "code",
        "colab": {}
      },
      "source": [
        "!cp easyCategories.json model/easyCategories.json"
      ],
      "execution_count": 100,
      "outputs": []
    },
    {
      "cell_type": "code",
      "metadata": {
        "id": "xFLmXinUnmQ8",
        "colab_type": "code",
        "colab": {
          "base_uri": "https://localhost:8080/",
          "height": 87
        },
        "outputId": "71e90fce-b3d8-485b-8f13-81ef52d09ade"
      },
      "source": [
        "!zip -r modelEasy25.zip model"
      ],
      "execution_count": 102,
      "outputs": [
        {
          "output_type": "stream",
          "text": [
            "  adding: model/ (stored 0%)\n",
            "  adding: model/easyCategories.json (deflated 45%)\n",
            "  adding: model/group1-shard1of1.bin (deflated 7%)\n",
            "  adding: model/model.json (deflated 87%)\n"
          ],
          "name": "stdout"
        }
      ]
    },
    {
      "cell_type": "code",
      "metadata": {
        "id": "My1A62VGnvyj",
        "colab_type": "code",
        "colab": {}
      },
      "source": [
        "from google.colab import files\n",
        "files.download('modelEasy25.zip')"
      ],
      "execution_count": 103,
      "outputs": []
    },
    {
      "cell_type": "code",
      "metadata": {
        "id": "kAFcpJTqn5WP",
        "colab_type": "code",
        "colab": {}
      },
      "source": [
        "import matplotlib.pyplot as plt\n",
        "import numpy as np\n",
        "import random\n",
        "%matplotlib inline"
      ],
      "execution_count": null,
      "outputs": []
    },
    {
      "cell_type": "code",
      "metadata": {
        "colab_type": "code",
        "id": "V63fBqz3nN-W",
        "colab": {
          "base_uri": "https://localhost:8080/",
          "height": 284
        },
        "outputId": "a083041e-a3e1-41f6-a7cd-b1dc95b71359"
      },
      "source": [
        "rand = np.floor(np.random.random((28,28)) + .5)\n",
        "all_black = np.full((28,28, 3), 0)\n",
        "all_white = np.ones((28,28))\n",
        "diag = np.eye(28)\n",
        "diag_low = np.eye(28, k=-15)\n",
        "diag_high = np.eye(28, k=15)\n",
        "\n",
        "plt.subplot(231)\n",
        "plt.imshow(all_white, cmap='binary')\n",
        "plt.subplot(232)\n",
        "plt.imshow(rand, cmap='binary')\n",
        "plt.subplot(233)\n",
        "plt.imshow(all_black, cmap='binary')\n",
        "plt.subplot(234)\n",
        "plt.imshow(diag_low, cmap='binary')\n",
        "plt.subplot(235)\n",
        "plt.imshow(diag, cmap='binary')\n",
        "plt.subplot(236)\n",
        "plt.imshow(diag_high, cmap='binary')"
      ],
      "execution_count": null,
      "outputs": [
        {
          "output_type": "execute_result",
          "data": {
            "text/plain": [
              "<matplotlib.image.AxesImage at 0x7f83956e96d8>"
            ]
          },
          "metadata": {
            "tags": []
          },
          "execution_count": 133
        },
        {
          "output_type": "display_data",
          "data": {
            "image/png": "[encoded data removed]",
            "text/plain": [
              "<Figure size 432x288 with 6 Axes>"
            ]
          },
          "metadata": {
            "tags": [],
            "needs_background": "light"
          }
        }
      ]
    },
    {
      "cell_type": "code",
      "metadata": {
        "id": "YWQfcaLbnEx2",
        "colab_type": "code",
        "colab": {
          "base_uri": "https://localhost:8080/",
          "height": 34
        },
        "outputId": "69b44c8b-2303-4555-9759-1a94d59e0545"
      },
      "source": [
        "first6 = cat_limit[:6]\n",
        "first6"
      ],
      "execution_count": null,
      "outputs": [
        {
          "output_type": "execute_result",
          "data": {
            "text/plain": [
              "['ant', 'bat', 'bear', 'bee', 'bird', 'butterfly']"
            ]
          },
          "metadata": {
            "tags": []
          },
          "execution_count": 243
        }
      ]
    },
    {
      "cell_type": "code",
      "metadata": {
        "id": "OvsldMITufM6",
        "colab_type": "code",
        "colab": {}
      },
      "source": [
        "dummy_files = glob.glob(os.path.join('npy', '*.npy'))\n",
        "dummy_data = []\n",
        "for index, file in enumerate(dummy_files):\n",
        "  test_data = np.load(file)\n",
        "  dummy_data.append(test_data[:])"
      ],
      "execution_count": null,
      "outputs": []
    },
    {
      "cell_type": "markdown",
      "metadata": {
        "id": "0wi-wUzbgqwj",
        "colab_type": "text"
      },
      "source": [
        "You can change which category of doodles by changing the index number of dummy_data below."
      ]
    },
    {
      "cell_type": "code",
      "metadata": {
        "id": "qDeTvPtIZpXm",
        "colab_type": "code",
        "colab": {
          "base_uri": "https://localhost:8080/",
          "height": 34
        },
        "outputId": "8f4e765a-8e13-42fd-8685-646463ee0aa9"
      },
      "source": [
        "category_array = np.array(dummy_data[0])\n",
        "category_array.shape"
      ],
      "execution_count": null,
      "outputs": [
        {
          "output_type": "execute_result",
          "data": {
            "text/plain": [
              "(124612, 784)"
            ]
          },
          "metadata": {
            "tags": []
          },
          "execution_count": 253
        }
      ]
    },
    {
      "cell_type": "markdown",
      "metadata": {
        "id": "nLmIog2IhEUq",
        "colab_type": "text"
      },
      "source": [
        "Set up to take select a random image from the corresponding category and reshapes it so it is plot-able.\n",
        "\n",
        "Feel free to select your own index if you prefer."
      ]
    },
    {
      "cell_type": "code",
      "metadata": {
        "id": "QzWDA_oqG36T",
        "colab_type": "code",
        "colab": {}
      },
      "source": [
        "plot_me = category_array[random.randrange(len(category_array[0]))]\n",
        "plot_me = plot_me.reshape(28,28)"
      ],
      "execution_count": null,
      "outputs": []
    },
    {
      "cell_type": "code",
      "metadata": {
        "id": "krBW8PhmP1Ly",
        "colab_type": "code",
        "colab": {
          "base_uri": "https://localhost:8080/",
          "height": 282
        },
        "outputId": "c77dbda7-f68c-44e2-ceaf-8344ac09d120"
      },
      "source": [
        "plt.imshow(plot_me, cmap='binary')"
      ],
      "execution_count": null,
      "outputs": [
        {
          "output_type": "execute_result",
          "data": {
            "text/plain": [
              "<matplotlib.image.AxesImage at 0x7f8393c35b00>"
            ]
          },
          "metadata": {
            "tags": []
          },
          "execution_count": 242
        },
        {
          "output_type": "display_data",
          "data": {
            "image/png": "[encoded data removed]",
            "text/plain": [
              "<Figure size 432x288 with 1 Axes>"
            ]
          },
          "metadata": {
            "tags": [],
            "needs_background": "light"
          }
        }
      ]
    },
    {
      "cell_type": "code",
      "metadata": {
        "id": "fQDro12NQskW",
        "colab_type": "code",
        "colab": {}
      },
      "source": [
        "butterfly = dummy_files[1]"
      ],
      "execution_count": null,
      "outputs": []
    },
    {
      "cell_type": "code",
      "metadata": {
        "id": "XM1F7E7GY0Tz",
        "colab_type": "code",
        "colab": {
          "base_uri": "https://localhost:8080/",
          "height": 34
        },
        "outputId": "00741e18-be33-491f-f95f-86588fd30d90"
      },
      "source": [
        "butterfly_data = np.load(butterfly)\n",
        "butterfly_data.shape"
      ],
      "execution_count": null,
      "outputs": [
        {
          "output_type": "execute_result",
          "data": {
            "text/plain": [
              "(117999, 784)"
            ]
          },
          "metadata": {
            "tags": []
          },
          "execution_count": 214
        }
      ]
    },
    {
      "cell_type": "code",
      "metadata": {
        "id": "r1oxonR_Y8h_",
        "colab_type": "code",
        "colab": {}
      },
      "source": [
        "ones =np.ones([28,28])\n",
        "ones=ones.reshape(1,28,28,1)"
      ],
      "execution_count": 104,
      "outputs": []
    },
    {
      "cell_type": "code",
      "metadata": {
        "id": "ltgKqII4C8Rh",
        "colab_type": "code",
        "colab": {
          "base_uri": "https://localhost:8080/",
          "height": 121
        },
        "outputId": "75f9f731-fc26-4bbb-f138-795ae92b34e4"
      },
      "source": [
        "model.predict(ones)"
      ],
      "execution_count": 105,
      "outputs": [
        {
          "output_type": "execute_result",
          "data": {
            "text/plain": [
              "array([[0.05005997, 0.01184717, 0.04558736, 0.04362584, 0.02204407,\n",
              "        0.06559951, 0.05600084, 0.02055573, 0.05122136, 0.02558563,\n",
              "        0.00980531, 0.02383332, 0.05444693, 0.02104958, 0.01648631,\n",
              "        0.09021016, 0.05272031, 0.04814658, 0.01485575, 0.03192919,\n",
              "        0.01324272, 0.15478133, 0.00801054, 0.03575868, 0.03259582]],\n",
              "      dtype=float32)"
            ]
          },
          "metadata": {
            "tags": []
          },
          "execution_count": 105
        }
      ]
    },
    {
      "cell_type": "code",
      "metadata": {
        "id": "lRkNecLVC_KP",
        "colab_type": "code",
        "colab": {
          "base_uri": "https://localhost:8080/",
          "height": 121
        },
        "outputId": "eedf55cf-b593-42f2-86fe-d91033399429"
      },
      "source": [
        "zeros =np.zeros([28,28])\n",
        "zeros=zeros.reshape(1,28,28,1)\n",
        "model.predict(zeros)"
      ],
      "execution_count": 106,
      "outputs": [
        {
          "output_type": "execute_result",
          "data": {
            "text/plain": [
              "array([[0.02020535, 0.1562366 , 0.05586105, 0.03443788, 0.03176537,\n",
              "        0.03282676, 0.0322974 , 0.01527396, 0.02775441, 0.06543364,\n",
              "        0.0307864 , 0.03830386, 0.02638768, 0.02407292, 0.04167271,\n",
              "        0.04052861, 0.01413848, 0.05032329, 0.03085005, 0.05697093,\n",
              "        0.04769019, 0.02509855, 0.03176983, 0.03484134, 0.03447267]],\n",
              "      dtype=float32)"
            ]
          },
          "metadata": {
            "tags": []
          },
          "execution_count": 106
        }
      ]
    },
    {
      "cell_type": "code",
      "metadata": {
        "id": "ImxfGxkaDI_y",
        "colab_type": "code",
        "colab": {
          "base_uri": "https://localhost:8080/",
          "height": 283
        },
        "outputId": "a431fbb1-4332-4fce-ab91-eef14970a1a9"
      },
      "source": [
        "testI=18\n",
        "plt.imshow(X_test[testI].reshape(28,28), cmap='binary')"
      ],
      "execution_count": 109,
      "outputs": [
        {
          "output_type": "execute_result",
          "data": {
            "text/plain": [
              "<matplotlib.image.AxesImage at 0x7f7424412240>"
            ]
          },
          "metadata": {
            "tags": []
          },
          "execution_count": 109
        },
        {
          "output_type": "display_data",
          "data": {
            "image/png": "[encoded data removed]",
            "text/plain": [
              "<Figure size 432x288 with 1 Axes>"
            ]
          },
          "metadata": {
            "tags": [],
            "needs_background": "light"
          }
        }
      ]
    },
    {
      "cell_type": "code",
      "metadata": {
        "id": "d3V5-BFcDuTB",
        "colab_type": "code",
        "colab": {
          "base_uri": "https://localhost:8080/",
          "height": 69
        },
        "outputId": "75d64d96-b3ae-4ff3-d9ad-52000beee6ac"
      },
      "source": [
        "prediction = model.predict(tf.expand_dims(tf.reshape(X_test[testI],[28,28,1]),0))\n",
        "i=0\n",
        "maxI = 0\n",
        "max = prediction[0][0]\n",
        "for i in range(len(prediction[0])):\n",
        "  if (prediction[0][i]>max):\n",
        "    max = prediction[0][i]\n",
        "    maxI=i\n",
        "  i+=1\n",
        "print(label_names[maxI])\n",
        "# print(categories[y_test[150]])\n",
        "print(max)\n",
        "for ind in range(len(y_test[testI])):\n",
        "  if y_test[testI][ind]==1:\n",
        "    print(label_names[ind])"
      ],
      "execution_count": 110,
      "outputs": [
        {
          "output_type": "stream",
          "text": [
            "horse\n",
            "0.79343593\n",
            "horse\n"
          ],
          "name": "stdout"
        }
      ]
    },
    {
      "cell_type": "code",
      "metadata": {
        "id": "LQVhHnwjQP37",
        "colab_type": "code",
        "colab": {}
      },
      "source": [
        ""
      ],
      "execution_count": null,
      "outputs": []
    }
  ]
}