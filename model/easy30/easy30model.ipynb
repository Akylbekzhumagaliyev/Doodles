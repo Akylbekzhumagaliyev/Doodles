{
  "cells": [
    {
      "cell_type": "code",
      "metadata": {
        "id": "HMS4M6WQTOox",
        "colab_type": "code",
        "colab": {}
      },
      "source": [
        "# jupyter notebook to run on google collab\n",
        "# Will train a CNN model for quick doodles base on google quickdraw data set"
      ],
      "execution_count": 1,
      "outputs": []
    },
    {
      "cell_type": "code",
      "metadata": {
        "id": "bZFyQREn4Gg1",
        "colab_type": "code",
        "colab": {}
      },
      "source": [
        "import os\n",
        "import glob\n",
        "import numpy as np\n",
        "from tensorflow.keras import layers\n",
        "from tensorflow import keras\n",
        "import tensorflow as tf "
      ],
      "execution_count": 2,
      "outputs": []
    },
    {
      "cell_type": "code",
      "metadata": {
        "id": "YtLQivZ0T_Bc",
        "colab_type": "code",
        "colab": {}
      },
      "source": [
        "# set up limited category list\n",
        "categories = ['snake','bat','bird','camel','cat','cow','crab','dog','dragon','elephant','fish','frog','giraffe','horse','mouse','shark','apple','banana','grapes','pear','pineapple','strawberry','airplane','bicycle','bus','car','submarine','truck','van','sailboat','train']\n"
      ],
      "execution_count": 3,
      "outputs": []
    },
    {
      "cell_type": "code",
      "metadata": {
        "id": "haoLTZKTUIF0",
        "colab_type": "code",
        "colab": {}
      },
      "source": [
        "!mkdir npy"
      ],
      "execution_count": 4,
      "outputs": []
    },
    {
      "cell_type": "code",
      "metadata": {
        "id": "kC1flDuthmz3",
        "colab_type": "code",
        "colab": {
          "base_uri": "https://localhost:8080/",
          "height": 537
        },
        "outputId": "27151b0f-54a6-4bf9-b4c7-fb5737420821"
      },
      "source": [
        "cat_limit = categories[:30]\n",
        "cat_limit"
      ],
      "execution_count": 5,
      "outputs": [
        {
          "output_type": "execute_result",
          "data": {
            "text/plain": [
              "['snake',\n",
              " 'bat',\n",
              " 'bird',\n",
              " 'camel',\n",
              " 'cat',\n",
              " 'cow',\n",
              " 'crab',\n",
              " 'dog',\n",
              " 'dragon',\n",
              " 'elephant',\n",
              " 'fish',\n",
              " 'frog',\n",
              " 'giraffe',\n",
              " 'horse',\n",
              " 'mouse',\n",
              " 'shark',\n",
              " 'apple',\n",
              " 'banana',\n",
              " 'grapes',\n",
              " 'pear',\n",
              " 'pineapple',\n",
              " 'strawberry',\n",
              " 'airplane',\n",
              " 'bicycle',\n",
              " 'bus',\n",
              " 'car',\n",
              " 'submarine',\n",
              " 'truck',\n",
              " 'van',\n",
              " 'sailboat']"
            ]
          },
          "metadata": {
            "tags": []
          },
          "execution_count": 5
        }
      ]
    },
    {
      "cell_type": "code",
      "metadata": {
        "id": "VsqvfHRBUJpY",
        "colab_type": "code",
        "colab": {
          "base_uri": "https://localhost:8080/",
          "height": 537
        },
        "outputId": "fb454f93-e3b8-4f1e-952c-11f4b2afc728"
      },
      "source": [
        "# download npy data from google\n",
        "import urllib.request\n",
        "def download():\n",
        "  base = 'https://storage.googleapis.com/quickdraw_dataset/full/numpy_bitmap/'\n",
        "  counter = 1\n",
        "  for i in cat_limit:\n",
        "    space = i.replace('_', '%20')\n",
        "    path = base+space+'.npy'\n",
        "    print(f'{path} {counter}/{len(cat_limit)}')\n",
        "    counter += 1\n",
        "    urllib.request.urlretrieve(path, 'npy/'+i+'.npy')\n",
        "download()"
      ],
      "execution_count": 7,
      "outputs": [
        {
          "output_type": "stream",
          "text": [
            "https://storage.googleapis.com/quickdraw_dataset/full/numpy_bitmap/snake.npy 1/30\n",
            "https://storage.googleapis.com/quickdraw_dataset/full/numpy_bitmap/bat.npy 2/30\n",
            "https://storage.googleapis.com/quickdraw_dataset/full/numpy_bitmap/bird.npy 3/30\n",
            "https://storage.googleapis.com/quickdraw_dataset/full/numpy_bitmap/camel.npy 4/30\n",
            "https://storage.googleapis.com/quickdraw_dataset/full/numpy_bitmap/cat.npy 5/30\n",
            "https://storage.googleapis.com/quickdraw_dataset/full/numpy_bitmap/cow.npy 6/30\n",
            "https://storage.googleapis.com/quickdraw_dataset/full/numpy_bitmap/crab.npy 7/30\n",
            "https://storage.googleapis.com/quickdraw_dataset/full/numpy_bitmap/dog.npy 8/30\n",
            "https://storage.googleapis.com/quickdraw_dataset/full/numpy_bitmap/dragon.npy 9/30\n",
            "https://storage.googleapis.com/quickdraw_dataset/full/numpy_bitmap/elephant.npy 10/30\n",
            "https://storage.googleapis.com/quickdraw_dataset/full/numpy_bitmap/fish.npy 11/30\n",
            "https://storage.googleapis.com/quickdraw_dataset/full/numpy_bitmap/frog.npy 12/30\n",
            "https://storage.googleapis.com/quickdraw_dataset/full/numpy_bitmap/giraffe.npy 13/30\n",
            "https://storage.googleapis.com/quickdraw_dataset/full/numpy_bitmap/horse.npy 14/30\n",
            "https://storage.googleapis.com/quickdraw_dataset/full/numpy_bitmap/mouse.npy 15/30\n",
            "https://storage.googleapis.com/quickdraw_dataset/full/numpy_bitmap/shark.npy 16/30\n",
            "https://storage.googleapis.com/quickdraw_dataset/full/numpy_bitmap/apple.npy 17/30\n",
            "https://storage.googleapis.com/quickdraw_dataset/full/numpy_bitmap/banana.npy 18/30\n",
            "https://storage.googleapis.com/quickdraw_dataset/full/numpy_bitmap/grapes.npy 19/30\n",
            "https://storage.googleapis.com/quickdraw_dataset/full/numpy_bitmap/pear.npy 20/30\n",
            "https://storage.googleapis.com/quickdraw_dataset/full/numpy_bitmap/pineapple.npy 21/30\n",
            "https://storage.googleapis.com/quickdraw_dataset/full/numpy_bitmap/strawberry.npy 22/30\n",
            "https://storage.googleapis.com/quickdraw_dataset/full/numpy_bitmap/airplane.npy 23/30\n",
            "https://storage.googleapis.com/quickdraw_dataset/full/numpy_bitmap/bicycle.npy 24/30\n",
            "https://storage.googleapis.com/quickdraw_dataset/full/numpy_bitmap/bus.npy 25/30\n",
            "https://storage.googleapis.com/quickdraw_dataset/full/numpy_bitmap/car.npy 26/30\n",
            "https://storage.googleapis.com/quickdraw_dataset/full/numpy_bitmap/submarine.npy 27/30\n",
            "https://storage.googleapis.com/quickdraw_dataset/full/numpy_bitmap/truck.npy 28/30\n",
            "https://storage.googleapis.com/quickdraw_dataset/full/numpy_bitmap/van.npy 29/30\n",
            "https://storage.googleapis.com/quickdraw_dataset/full/numpy_bitmap/sailboat.npy 30/30\n"
          ],
          "name": "stdout"
        }
      ]
    },
    {
      "cell_type": "code",
      "metadata": {
        "id": "-DD_wPWaUtX-",
        "colab_type": "code",
        "colab": {}
      },
      "source": [
        "all_files = glob.glob(os.path.join('npy', '*.npy'))"
      ],
      "execution_count": 8,
      "outputs": []
    },
    {
      "cell_type": "code",
      "metadata": {
        "id": "D1ArXEhHE84s",
        "colab_type": "code",
        "colab": {}
      },
      "source": [
        "# load all files downlad in collab\n",
        "# Join all of them in X and y\n",
        "X = np.empty([0, 784])\n",
        "y = np.empty([0])\n",
        "async_categories = []\n",
        "\n",
        "for idx, file in enumerate(all_files):\n",
        "  data = np.load(file)\n",
        "  data = data[0: 16000, :]\n",
        "  labels = np.full(data.shape[0], idx)\n",
        "\n",
        "  X = np.concatenate((X, data), axis=0)\n",
        "  y = np.append(y, labels)\n",
        "  \n",
        "  category, extension = os.path.splitext(os.path.basename(file))\n",
        "  async_categories.append(category)"
      ],
      "execution_count": 9,
      "outputs": []
    },
    {
      "cell_type": "code",
      "metadata": {
        "colab_type": "code",
        "id": "NR-ZLL8QriUO",
        "colab": {
          "base_uri": "https://localhost:8080/",
          "height": 283
        },
        "outputId": "73e7f75d-536b-4dae-864a-eb23ca39837c"
      },
      "source": [
        "# Test a random image\n",
        "import matplotlib.pyplot as plt\n",
        "%matplotlib inline\n",
        "testIndex=1000\n",
        "plt.imshow(X[testIndex].reshape(28,28), cmap='binary')\n",
        "print(async_categories[int(y[idx].item())])\n"
      ],
      "execution_count": 10,
      "outputs": [
        {
          "output_type": "stream",
          "text": [
            "banana\n"
          ],
          "name": "stdout"
        },
        {
          "output_type": "display_data",
          "data": {
            "image/png": "[encoded data removed]",
            "text/plain": [
              "<Figure size 432x288 with 1 Axes>"
            ]
          },
          "metadata": {
            "tags": [],
            "needs_background": "light"
          }
        }
      ]
    },
    {
      "cell_type": "code",
      "metadata": {
        "id": "w4Eav4jpWqxl",
        "colab_type": "code",
        "colab": {
          "base_uri": "https://localhost:8080/",
          "height": 537
        },
        "outputId": "55723506-655c-43b5-a093-3e33ef507af5"
      },
      "source": [
        "async_categories"
      ],
      "execution_count": 11,
      "outputs": [
        {
          "output_type": "execute_result",
          "data": {
            "text/plain": [
              "['banana',\n",
              " 'shark',\n",
              " 'truck',\n",
              " 'bird',\n",
              " 'cow',\n",
              " 'dog',\n",
              " 'horse',\n",
              " 'elephant',\n",
              " 'pineapple',\n",
              " 'apple',\n",
              " 'grapes',\n",
              " 'strawberry',\n",
              " 'bus',\n",
              " 'crab',\n",
              " 'camel',\n",
              " 'giraffe',\n",
              " 'snake',\n",
              " 'car',\n",
              " 'bat',\n",
              " 'cat',\n",
              " 'frog',\n",
              " 'van',\n",
              " 'mouse',\n",
              " 'airplane',\n",
              " 'fish',\n",
              " 'sailboat',\n",
              " 'dragon',\n",
              " 'bicycle',\n",
              " 'submarine',\n",
              " 'pear']"
            ]
          },
          "metadata": {
            "tags": []
          },
          "execution_count": 11
        }
      ]
    },
    {
      "cell_type": "code",
      "metadata": {
        "id": "SdVMH3bZFYqr",
        "colab_type": "code",
        "colab": {}
      },
      "source": [
        "# Scramble data a split data into test and train set\n",
        "from sklearn.model_selection import train_test_split\n",
        "\n",
        "X_train, X_test, y_train, y_test = train_test_split(\n",
        "   X, y, test_size=0.20, random_state=24)"
      ],
      "execution_count": 12,
      "outputs": []
    },
    {
      "cell_type": "code",
      "metadata": {
        "id": "JmlaONEAXemD",
        "colab_type": "code",
        "colab": {}
      },
      "source": [
        "# Normalize to 1\n",
        "X_train, X_test = X_train / 255.0, X_test / 255.0"
      ],
      "execution_count": 13,
      "outputs": []
    },
    {
      "cell_type": "code",
      "metadata": {
        "id": "mqfAClCdvdXD",
        "colab_type": "code",
        "colab": {}
      },
      "source": [
        "# reshape input\n",
        "X_train = X_train.reshape(X_train.shape[0], 28, 28, 1)\n",
        "X_test = X_test.reshape(X_test.shape[0], 28, 28, 1)"
      ],
      "execution_count": 14,
      "outputs": []
    },
    {
      "cell_type": "code",
      "metadata": {
        "id": "lOT17ETvJcsr",
        "colab_type": "code",
        "colab": {
          "base_uri": "https://localhost:8080/",
          "height": 35
        },
        "outputId": "ed0505bb-1328-4d04-d60d-c05e25141889"
      },
      "source": [
        "X_train.shape[0]"
      ],
      "execution_count": 15,
      "outputs": [
        {
          "output_type": "execute_result",
          "data": {
            "text/plain": [
              "384000"
            ]
          },
          "metadata": {
            "tags": []
          },
          "execution_count": 15
        }
      ]
    },
    {
      "cell_type": "code",
      "metadata": {
        "id": "gH8aJjvWXtNH",
        "colab_type": "code",
        "colab": {
          "base_uri": "https://localhost:8080/",
          "height": 35
        },
        "outputId": "d2ece109-6d3e-4143-8250-59a794d9e7ad"
      },
      "source": [
        "X_train.shape"
      ],
      "execution_count": 16,
      "outputs": [
        {
          "output_type": "execute_result",
          "data": {
            "text/plain": [
              "(384000, 28, 28, 1)"
            ]
          },
          "metadata": {
            "tags": []
          },
          "execution_count": 16
        }
      ]
    },
    {
      "cell_type": "code",
      "metadata": {
        "id": "wU0aEzgoGU9I",
        "colab_type": "code",
        "colab": {}
      },
      "source": [
        "# one hot encode y category\n",
        "y_train = tf.keras.utils.to_categorical(y_train, num_classes=len(async_categories))\n",
        "y_test = tf.keras.utils.to_categorical(y_test, num_classes=len(async_categories))"
      ],
      "execution_count": 17,
      "outputs": []
    },
    {
      "cell_type": "code",
      "metadata": {
        "id": "J3U4yuFtRQD4",
        "colab_type": "code",
        "colab": {
          "base_uri": "https://localhost:8080/",
          "height": 69
        },
        "outputId": "d709d49d-7b1a-42d6-80e7-8762e94e5e0a"
      },
      "source": [
        "print(f'{y_test.shape}.{y_train.shape}')\n",
        "print(f'{X_test.shape},{X_train.shape}')\n",
        "y_train.shape"
      ],
      "execution_count": 18,
      "outputs": [
        {
          "output_type": "stream",
          "text": [
            "(96000, 30).(384000, 30)\n",
            "(96000, 28, 28, 1),(384000, 28, 28, 1)\n"
          ],
          "name": "stdout"
        },
        {
          "output_type": "execute_result",
          "data": {
            "text/plain": [
              "(384000, 30)"
            ]
          },
          "metadata": {
            "tags": []
          },
          "execution_count": 18
        }
      ]
    },
    {
      "cell_type": "code",
      "metadata": {
        "id": "LkOrSkyLIWuA",
        "colab_type": "code",
        "colab": {
          "base_uri": "https://localhost:8080/",
          "height": 624
        },
        "outputId": "e395a999-73df-4b3a-ed1e-1f232c450388"
      },
      "source": [
        "# set up model\n",
        "model = keras.Sequential()\n",
        "model.add(layers.Convolution2D(16, (3, 3),\n",
        "                        padding='same',\n",
        "                        input_shape=X_train.shape[1:], activation='relu'))\n",
        "model.add(layers.MaxPooling2D(pool_size=(2, 2)))\n",
        "model.add(layers.Convolution2D(32, (3, 3), padding='same', activation= 'relu'))\n",
        "model.add(layers.Convolution2D(32, (3, 3), padding='same', activation= 'relu'))\n",
        "model.add(layers.MaxPooling2D(pool_size=(2, 2)))\n",
        "model.add(layers.Convolution2D(64, (3, 3), padding='same', activation= 'relu'))\n",
        "model.add(layers.Convolution2D(64, (3, 3), padding='same', activation= 'relu'))\n",
        "model.add(layers.MaxPooling2D(pool_size =(2,2)))\n",
        "model.add(layers.Flatten())\n",
        "model.add(layers.Dense(128, activation='relu'))\n",
        "model.add(layers.Dense(128, activation='relu'))\n",
        "model.add(layers.Dense(128, activation='relu'))\n",
        "model.add(layers.Dense(len(async_categories), activation='softmax'))\n",
        "\n",
        "# top_k=tf.keras.metrics.top_k_categorical_accuracy(k=3)\n",
        "adam = tf.optimizers.Adam()\n",
        "model.compile(loss='categorical_crossentropy',\n",
        "              optimizer=adam,\n",
        "              metrics=['accuracy','top_k_categorical_accuracy'])\n",
        "print(model.summary())"
      ],
      "execution_count": 19,
      "outputs": [
        {
          "output_type": "stream",
          "text": [
            "Model: \"sequential\"\n",
            "_________________________________________________________________\n",
            "Layer (type)                 Output Shape              Param #   \n",
            "=================================================================\n",
            "conv2d (Conv2D)              (None, 28, 28, 16)        160       \n",
            "_________________________________________________________________\n",
            "max_pooling2d (MaxPooling2D) (None, 14, 14, 16)        0         \n",
            "_________________________________________________________________\n",
            "conv2d_1 (Conv2D)            (None, 14, 14, 32)        4640      \n",
            "_________________________________________________________________\n",
            "conv2d_2 (Conv2D)            (None, 14, 14, 32)        9248      \n",
            "_________________________________________________________________\n",
            "max_pooling2d_1 (MaxPooling2 (None, 7, 7, 32)          0         \n",
            "_________________________________________________________________\n",
            "conv2d_3 (Conv2D)            (None, 7, 7, 64)          18496     \n",
            "_________________________________________________________________\n",
            "conv2d_4 (Conv2D)            (None, 7, 7, 64)          36928     \n",
            "_________________________________________________________________\n",
            "max_pooling2d_2 (MaxPooling2 (None, 3, 3, 64)          0         \n",
            "_________________________________________________________________\n",
            "flatten (Flatten)            (None, 576)               0         \n",
            "_________________________________________________________________\n",
            "dense (Dense)                (None, 128)               73856     \n",
            "_________________________________________________________________\n",
            "dense_1 (Dense)              (None, 128)               16512     \n",
            "_________________________________________________________________\n",
            "dense_2 (Dense)              (None, 128)               16512     \n",
            "_________________________________________________________________\n",
            "dense_3 (Dense)              (None, 30)                3870      \n",
            "=================================================================\n",
            "Total params: 180,222\n",
            "Trainable params: 180,222\n",
            "Non-trainable params: 0\n",
            "_________________________________________________________________\n",
            "None\n"
          ],
          "name": "stdout"
        }
      ]
    },
    {
      "cell_type": "code",
      "metadata": {
        "id": "qTSuiEjzIYnG",
        "colab_type": "code",
        "colab": {
          "base_uri": "https://localhost:8080/",
          "height": 332
        },
        "outputId": "e3b2a340-3401-4768-ee7a-5b499a1fcf7e"
      },
      "source": [
        "# train model\n",
        "model.fit(x=X_train, y=y_train, batch_size=256, validation_split=0.1, verbose=2, epochs=8)"
      ],
      "execution_count": 20,
      "outputs": [
        {
          "output_type": "stream",
          "text": [
            "Epoch 1/8\n",
            "1350/1350 - 25s - loss: 1.3262 - accuracy: 0.6128 - top_k_categorical_accuracy: 0.8714 - val_loss: 0.9574 - val_accuracy: 0.7172 - val_top_k_categorical_accuracy: 0.9324\n",
            "Epoch 2/8\n",
            "1350/1350 - 24s - loss: 0.8426 - accuracy: 0.7482 - top_k_categorical_accuracy: 0.9429 - val_loss: 0.7777 - val_accuracy: 0.7671 - val_top_k_categorical_accuracy: 0.9502\n",
            "Epoch 3/8\n",
            "1350/1350 - 24s - loss: 0.7279 - accuracy: 0.7802 - top_k_categorical_accuracy: 0.9539 - val_loss: 0.7176 - val_accuracy: 0.7846 - val_top_k_categorical_accuracy: 0.9550\n",
            "Epoch 4/8\n",
            "1350/1350 - 24s - loss: 0.6674 - accuracy: 0.7977 - top_k_categorical_accuracy: 0.9591 - val_loss: 0.6794 - val_accuracy: 0.7932 - val_top_k_categorical_accuracy: 0.9579\n",
            "Epoch 5/8\n",
            "1350/1350 - 24s - loss: 0.6274 - accuracy: 0.8095 - top_k_categorical_accuracy: 0.9622 - val_loss: 0.6642 - val_accuracy: 0.8001 - val_top_k_categorical_accuracy: 0.9584\n",
            "Epoch 6/8\n",
            "1350/1350 - 24s - loss: 0.5957 - accuracy: 0.8179 - top_k_categorical_accuracy: 0.9651 - val_loss: 0.6470 - val_accuracy: 0.8073 - val_top_k_categorical_accuracy: 0.9602\n",
            "Epoch 7/8\n",
            "1350/1350 - 24s - loss: 0.5689 - accuracy: 0.8254 - top_k_categorical_accuracy: 0.9672 - val_loss: 0.6358 - val_accuracy: 0.8075 - val_top_k_categorical_accuracy: 0.9620\n",
            "Epoch 8/8\n",
            "1350/1350 - 24s - loss: 0.5474 - accuracy: 0.8320 - top_k_categorical_accuracy: 0.9691 - val_loss: 0.6466 - val_accuracy: 0.8064 - val_top_k_categorical_accuracy: 0.9611\n"
          ],
          "name": "stdout"
        },
        {
          "output_type": "execute_result",
          "data": {
            "text/plain": [
              "<tensorflow.python.keras.callbacks.History at 0x7fa2b06e7e10>"
            ]
          },
          "metadata": {
            "tags": []
          },
          "execution_count": 20
        }
      ]
    },
    {
      "cell_type": "markdown",
      "metadata": {
        "id": "oz9adQjIPN_o",
        "colab_type": "text"
      },
      "source": [
        ""
      ]
    },
    {
      "cell_type": "code",
      "metadata": {
        "id": "rU6lQVLhMAN8",
        "colab_type": "code",
        "colab": {
          "base_uri": "https://localhost:8080/",
          "height": 52
        },
        "outputId": "e8ed62c8-fed1-4184-d11c-4b39fb3e5da3"
      },
      "source": [
        "# evaluate model\n",
        "score = model.evaluate(X_test, y_test, verbose=1)\n",
        "print('Test accuracy: {:0.2f}%'.format(score[1] * 100))"
      ],
      "execution_count": 21,
      "outputs": [
        {
          "output_type": "stream",
          "text": [
            "3000/3000 [==============================] - 13s 4ms/step - loss: 0.6502 - accuracy: 0.8056 - top_k_categorical_accuracy: 0.9599\n",
            "Test accuracy: 80.56%\n"
          ],
          "name": "stdout"
        }
      ]
    },
    {
      "cell_type": "code",
      "metadata": {
        "id": "ai2ApJi9qr7m",
        "colab_type": "code",
        "colab": {
          "base_uri": "https://localhost:8080/",
          "height": 1000
        },
        "outputId": "e9adef9e-5c01-4b7d-aa8f-742016d1fe2e"
      },
      "source": [
        "# save and covert model with tensorflowjs\n",
        "!pip install tensorflowjs"
      ],
      "execution_count": 22,
      "outputs": [
        {
          "output_type": "stream",
          "text": [
            "Collecting tensorflowjs\n",
            "\u001b[?25l  Downloading https://files.pythonhosted.org/packages/4a/b8/16f378a20a2ee7736233574f65a6cf2154cf8965a8890d27f3d2f33595b2/tensorflowjs-2.0.1-py3-none-any.whl (60kB)\n",
            "\u001b[K     |████████████████████████████████| 61kB 2.1MB/s \n",
            "\u001b[?25hCollecting tensorflow-cpu>=2.1.0<3\n",
            "\u001b[?25l  Downloading https://files.pythonhosted.org/packages/e7/4f/7bf91c87907873177ad99a31014fb77271a693a3a7cb75e522ac6b556416/tensorflow_cpu-2.2.0-cp36-cp36m-manylinux2010_x86_64.whl (144.4MB)\n",
            "\u001b[K     |████████████████████████████████| 144.4MB 106kB/s \n",
            "\u001b[?25hCollecting PyInquirer==1.0.3\n",
            "  Downloading https://files.pythonhosted.org/packages/fb/4c/434b7c454010a284b49d6f1d446fe8dc5960415613d8c0225b9e2efb6724/PyInquirer-1.0.3.tar.gz\n",
            "Requirement already satisfied: six>=1.12.0 in /usr/local/lib/python3.6/dist-packages (from tensorflowjs) (1.12.0)\n",
            "Requirement already satisfied: numpy>=1.16.4 in /usr/local/lib/python3.6/dist-packages (from tensorflowjs) (1.18.5)\n",
            "Collecting tensorflow-hub==0.7.0\n",
            "\u001b[?25l  Downloading https://files.pythonhosted.org/packages/00/0e/a91780d07592b1abf9c91344ce459472cc19db3b67fdf3a61dca6ebb2f5c/tensorflow_hub-0.7.0-py2.py3-none-any.whl (89kB)\n",
            "\u001b[K     |████████████████████████████████| 92kB 8.0MB/s \n",
            "\u001b[?25hRequirement already satisfied: h5py>=2.8.0 in /usr/local/lib/python3.6/dist-packages (from tensorflowjs) (2.10.0)\n",
            "Requirement already satisfied: astunparse==1.6.3 in /usr/local/lib/python3.6/dist-packages (from tensorflow-cpu>=2.1.0<3->tensorflowjs) (1.6.3)\n",
            "Requirement already satisfied: google-pasta>=0.1.8 in /usr/local/lib/python3.6/dist-packages (from tensorflow-cpu>=2.1.0<3->tensorflowjs) (0.2.0)\n",
            "Requirement already satisfied: wrapt>=1.11.1 in /usr/local/lib/python3.6/dist-packages (from tensorflow-cpu>=2.1.0<3->tensorflowjs) (1.12.1)\n",
            "Requirement already satisfied: opt-einsum>=2.3.2 in /usr/local/lib/python3.6/dist-packages (from tensorflow-cpu>=2.1.0<3->tensorflowjs) (3.2.1)\n",
            "Requirement already satisfied: keras-preprocessing>=1.1.0 in /usr/local/lib/python3.6/dist-packages (from tensorflow-cpu>=2.1.0<3->tensorflowjs) (1.1.2)\n",
            "Requirement already satisfied: tensorflow-estimator<2.3.0,>=2.2.0 in /usr/local/lib/python3.6/dist-packages (from tensorflow-cpu>=2.1.0<3->tensorflowjs) (2.2.0)\n",
            "Requirement already satisfied: termcolor>=1.1.0 in /usr/local/lib/python3.6/dist-packages (from tensorflow-cpu>=2.1.0<3->tensorflowjs) (1.1.0)\n",
            "Requirement already satisfied: tensorboard<2.3.0,>=2.2.0 in /usr/local/lib/python3.6/dist-packages (from tensorflow-cpu>=2.1.0<3->tensorflowjs) (2.2.2)\n",
            "Requirement already satisfied: grpcio>=1.8.6 in /usr/local/lib/python3.6/dist-packages (from tensorflow-cpu>=2.1.0<3->tensorflowjs) (1.29.0)\n",
            "Requirement already satisfied: wheel>=0.26; python_version >= \"3\" in /usr/local/lib/python3.6/dist-packages (from tensorflow-cpu>=2.1.0<3->tensorflowjs) (0.34.2)\n",
            "Requirement already satisfied: scipy==1.4.1; python_version >= \"3\" in /usr/local/lib/python3.6/dist-packages (from tensorflow-cpu>=2.1.0<3->tensorflowjs) (1.4.1)\n",
            "Requirement already satisfied: protobuf>=3.8.0 in /usr/local/lib/python3.6/dist-packages (from tensorflow-cpu>=2.1.0<3->tensorflowjs) (3.10.0)\n",
            "Requirement already satisfied: absl-py>=0.7.0 in /usr/local/lib/python3.6/dist-packages (from tensorflow-cpu>=2.1.0<3->tensorflowjs) (0.9.0)\n",
            "Requirement already satisfied: gast==0.3.3 in /usr/local/lib/python3.6/dist-packages (from tensorflow-cpu>=2.1.0<3->tensorflowjs) (0.3.3)\n",
            "Collecting prompt_toolkit==1.0.14\n",
            "\u001b[?25l  Downloading https://files.pythonhosted.org/packages/ee/3d/b25d35a9f0d381dd1c02d8e04b37c353caaaff4bc32150328eeebe4931f5/prompt_toolkit-1.0.14-py3-none-any.whl (248kB)\n",
            "\u001b[K     |████████████████████████████████| 256kB 28.5MB/s \n",
            "\u001b[?25hCollecting Pygments>=2.2.0\n",
            "\u001b[?25l  Downloading https://files.pythonhosted.org/packages/2d/68/106af3ae51daf807e9cdcba6a90e518954eb8b70341cee52995540a53ead/Pygments-2.6.1-py3-none-any.whl (914kB)\n",
            "\u001b[K     |████████████████████████████████| 921kB 39.4MB/s \n",
            "\u001b[?25hRequirement already satisfied: regex>=2016.11.21 in /usr/local/lib/python3.6/dist-packages (from PyInquirer==1.0.3->tensorflowjs) (2019.12.20)\n",
            "Requirement already satisfied: google-auth<2,>=1.6.3 in /usr/local/lib/python3.6/dist-packages (from tensorboard<2.3.0,>=2.2.0->tensorflow-cpu>=2.1.0<3->tensorflowjs) (1.17.2)\n",
            "Requirement already satisfied: google-auth-oauthlib<0.5,>=0.4.1 in /usr/local/lib/python3.6/dist-packages (from tensorboard<2.3.0,>=2.2.0->tensorflow-cpu>=2.1.0<3->tensorflowjs) (0.4.1)\n",
            "Requirement already satisfied: setuptools>=41.0.0 in /usr/local/lib/python3.6/dist-packages (from tensorboard<2.3.0,>=2.2.0->tensorflow-cpu>=2.1.0<3->tensorflowjs) (47.3.1)\n",
            "Requirement already satisfied: werkzeug>=0.11.15 in /usr/local/lib/python3.6/dist-packages (from tensorboard<2.3.0,>=2.2.0->tensorflow-cpu>=2.1.0<3->tensorflowjs) (1.0.1)\n",
            "Requirement already satisfied: requests<3,>=2.21.0 in /usr/local/lib/python3.6/dist-packages (from tensorboard<2.3.0,>=2.2.0->tensorflow-cpu>=2.1.0<3->tensorflowjs) (2.23.0)\n",
            "Requirement already satisfied: tensorboard-plugin-wit>=1.6.0 in /usr/local/lib/python3.6/dist-packages (from tensorboard<2.3.0,>=2.2.0->tensorflow-cpu>=2.1.0<3->tensorflowjs) (1.6.0.post3)\n",
            "Requirement already satisfied: markdown>=2.6.8 in /usr/local/lib/python3.6/dist-packages (from tensorboard<2.3.0,>=2.2.0->tensorflow-cpu>=2.1.0<3->tensorflowjs) (3.2.2)\n",
            "Requirement already satisfied: wcwidth in /usr/local/lib/python3.6/dist-packages (from prompt_toolkit==1.0.14->PyInquirer==1.0.3->tensorflowjs) (0.2.4)\n",
            "Requirement already satisfied: rsa<5,>=3.1.4; python_version >= \"3\" in /usr/local/lib/python3.6/dist-packages (from google-auth<2,>=1.6.3->tensorboard<2.3.0,>=2.2.0->tensorflow-cpu>=2.1.0<3->tensorflowjs) (4.6)\n",
            "Requirement already satisfied: pyasn1-modules>=0.2.1 in /usr/local/lib/python3.6/dist-packages (from google-auth<2,>=1.6.3->tensorboard<2.3.0,>=2.2.0->tensorflow-cpu>=2.1.0<3->tensorflowjs) (0.2.8)\n",
            "Requirement already satisfied: cachetools<5.0,>=2.0.0 in /usr/local/lib/python3.6/dist-packages (from google-auth<2,>=1.6.3->tensorboard<2.3.0,>=2.2.0->tensorflow-cpu>=2.1.0<3->tensorflowjs) (4.1.0)\n",
            "Requirement already satisfied: requests-oauthlib>=0.7.0 in /usr/local/lib/python3.6/dist-packages (from google-auth-oauthlib<0.5,>=0.4.1->tensorboard<2.3.0,>=2.2.0->tensorflow-cpu>=2.1.0<3->tensorflowjs) (1.3.0)\n",
            "Requirement already satisfied: urllib3!=1.25.0,!=1.25.1,<1.26,>=1.21.1 in /usr/local/lib/python3.6/dist-packages (from requests<3,>=2.21.0->tensorboard<2.3.0,>=2.2.0->tensorflow-cpu>=2.1.0<3->tensorflowjs) (1.24.3)\n",
            "Requirement already satisfied: chardet<4,>=3.0.2 in /usr/local/lib/python3.6/dist-packages (from requests<3,>=2.21.0->tensorboard<2.3.0,>=2.2.0->tensorflow-cpu>=2.1.0<3->tensorflowjs) (3.0.4)\n",
            "Requirement already satisfied: idna<3,>=2.5 in /usr/local/lib/python3.6/dist-packages (from requests<3,>=2.21.0->tensorboard<2.3.0,>=2.2.0->tensorflow-cpu>=2.1.0<3->tensorflowjs) (2.9)\n",
            "Requirement already satisfied: certifi>=2017.4.17 in /usr/local/lib/python3.6/dist-packages (from requests<3,>=2.21.0->tensorboard<2.3.0,>=2.2.0->tensorflow-cpu>=2.1.0<3->tensorflowjs) (2020.4.5.2)\n",
            "Requirement already satisfied: importlib-metadata; python_version < \"3.8\" in /usr/local/lib/python3.6/dist-packages (from markdown>=2.6.8->tensorboard<2.3.0,>=2.2.0->tensorflow-cpu>=2.1.0<3->tensorflowjs) (1.6.1)\n",
            "Requirement already satisfied: pyasn1>=0.1.3 in /usr/local/lib/python3.6/dist-packages (from rsa<5,>=3.1.4; python_version >= \"3\"->google-auth<2,>=1.6.3->tensorboard<2.3.0,>=2.2.0->tensorflow-cpu>=2.1.0<3->tensorflowjs) (0.4.8)\n",
            "Requirement already satisfied: oauthlib>=3.0.0 in /usr/local/lib/python3.6/dist-packages (from requests-oauthlib>=0.7.0->google-auth-oauthlib<0.5,>=0.4.1->tensorboard<2.3.0,>=2.2.0->tensorflow-cpu>=2.1.0<3->tensorflowjs) (3.1.0)\n",
            "Requirement already satisfied: zipp>=0.5 in /usr/local/lib/python3.6/dist-packages (from importlib-metadata; python_version < \"3.8\"->markdown>=2.6.8->tensorboard<2.3.0,>=2.2.0->tensorflow-cpu>=2.1.0<3->tensorflowjs) (3.1.0)\n",
            "Building wheels for collected packages: PyInquirer\n",
            "  Building wheel for PyInquirer (setup.py) ... \u001b[?25l\u001b[?25hdone\n",
            "  Created wheel for PyInquirer: filename=PyInquirer-1.0.3-cp36-none-any.whl size=32851 sha256=868c4a7d643e52d74d6b321f81d89780d1acdd3971d26b0d8ae750ce63b3671e\n",
            "  Stored in directory: /root/.cache/pip/wheels/52/6c/b1/3e4b0e8daf42a92883c7641c0ea8ffb62e0490ebed2faa55ad\n",
            "Successfully built PyInquirer\n",
            "\u001b[31mERROR: datascience 0.10.6 has requirement folium==0.2.1, but you'll have folium 0.8.3 which is incompatible.\u001b[0m\n",
            "Installing collected packages: tensorflow-cpu, prompt-toolkit, Pygments, PyInquirer, tensorflow-hub, tensorflowjs\n",
            "  Found existing installation: prompt-toolkit 1.0.18\n",
            "    Uninstalling prompt-toolkit-1.0.18:\n",
            "      Successfully uninstalled prompt-toolkit-1.0.18\n",
            "  Found existing installation: Pygments 2.1.3\n",
            "    Uninstalling Pygments-2.1.3:\n",
            "      Successfully uninstalled Pygments-2.1.3\n",
            "  Found existing installation: tensorflow-hub 0.8.0\n",
            "    Uninstalling tensorflow-hub-0.8.0:\n",
            "      Successfully uninstalled tensorflow-hub-0.8.0\n",
            "Successfully installed PyInquirer-1.0.3 Pygments-2.6.1 prompt-toolkit-1.0.14 tensorflow-cpu-2.2.0 tensorflow-hub-0.7.0 tensorflowjs-2.0.1\n"
          ],
          "name": "stdout"
        },
        {
          "output_type": "display_data",
          "data": {
            "application/vnd.colab-display-data+json": {
              "pip_warning": {
                "packages": [
                  "prompt_toolkit",
                  "pygments",
                  "tensorflow"
                ]
              }
            }
          },
          "metadata": {
            "tags": []
          }
        }
      ]
    },
    {
      "cell_type": "code",
      "metadata": {
        "id": "uL6HUmCYlD_Q",
        "colab_type": "code",
        "colab": {}
      },
      "source": [
        "import json\n",
        "with open('easyCategories.json', 'w') as outputFile:\n",
        "  json.dump(async_categories, outputFile)"
      ],
      "execution_count": 23,
      "outputs": []
    },
    {
      "cell_type": "code",
      "metadata": {
        "id": "5Y947a_Ommsf",
        "colab_type": "code",
        "colab": {}
      },
      "source": [
        "model.save('kerasEasy30.h5')"
      ],
      "execution_count": 24,
      "outputs": []
    },
    {
      "cell_type": "code",
      "metadata": {
        "id": "f9-Ph5Ayuf_w",
        "colab_type": "code",
        "colab": {}
      },
      "source": [
        "!mkdir model"
      ],
      "execution_count": 25,
      "outputs": []
    },
    {
      "cell_type": "code",
      "metadata": {
        "id": "_6qrDjYrmqGL",
        "colab_type": "code",
        "colab": {}
      },
      "source": [
        "!tensorflowjs_converter --input_format keras kerasEasy30.h5 model/"
      ],
      "execution_count": 26,
      "outputs": []
    },
    {
      "cell_type": "code",
      "metadata": {
        "id": "5qQKsq01m22z",
        "colab_type": "code",
        "colab": {}
      },
      "source": [
        "!cp easyCategories.json model/easyCategories.json"
      ],
      "execution_count": 27,
      "outputs": []
    },
    {
      "cell_type": "code",
      "metadata": {
        "id": "xFLmXinUnmQ8",
        "colab_type": "code",
        "colab": {
          "base_uri": "https://localhost:8080/",
          "height": 87
        },
        "outputId": "7782958b-653b-47d5-80d3-26e9714a0dc8"
      },
      "source": [
        "!zip -r modelEasy30.zip model"
      ],
      "execution_count": 28,
      "outputs": [
        {
          "output_type": "stream",
          "text": [
            "  adding: model/ (stored 0%)\n",
            "  adding: model/easyCategories.json (deflated 46%)\n",
            "  adding: model/group1-shard1of1.bin (deflated 7%)\n",
            "  adding: model/model.json (deflated 87%)\n"
          ],
          "name": "stdout"
        }
      ]
    },
    {
      "cell_type": "code",
      "metadata": {
        "id": "My1A62VGnvyj",
        "colab_type": "code",
        "colab": {}
      },
      "source": [
        "from google.colab import files\n",
        "files.download('modelEasy30.zip')"
      ],
      "execution_count": 29,
      "outputs": []
    },
    {
      "cell_type": "code",
      "metadata": {
        "id": "uR93iPE24Ghp",
        "colab_type": "code",
        "colab": {
          "base_uri": "https://localhost:8080/",
          "height": 139
        },
        "outputId": "fe6adbd0-39b2-4c68-d3cf-53db3cc75c61"
      },
      "source": [
        "ones =np.ones([28,28])\n",
        "ones=ones.reshape(1,28,28,1)\n",
        "model.predict(ones)"
      ],
      "execution_count": 30,
      "outputs": [
        {
          "output_type": "execute_result",
          "data": {
            "text/plain": [
              "array([[0.01077043, 0.00528294, 0.04222935, 0.00478502, 0.00784956,\n",
              "        0.00446659, 0.00449696, 0.00616009, 0.01704045, 0.01679915,\n",
              "        0.0974049 , 0.01264833, 0.07147704, 0.00620979, 0.00905091,\n",
              "        0.01469143, 0.02118821, 0.06661358, 0.1192056 , 0.00950108,\n",
              "        0.21063432, 0.13450639, 0.02310885, 0.01046708, 0.01300052,\n",
              "        0.02887196, 0.0110563 , 0.00411573, 0.00579259, 0.01057484]],\n",
              "      dtype=float32)"
            ]
          },
          "metadata": {
            "tags": []
          },
          "execution_count": 30
        }
      ]
    },
    {
      "cell_type": "code",
      "metadata": {
        "id": "lRkNecLVC_KP",
        "colab_type": "code",
        "colab": {
          "base_uri": "https://localhost:8080/",
          "height": 139
        },
        "outputId": "58a92a5b-f6d1-4274-df7b-d6e6e5495949"
      },
      "source": [
        "zeros =np.zeros([28,28])\n",
        "zeros=zeros.reshape(1,28,28,1)\n",
        "model.predict(zeros)"
      ],
      "execution_count": 31,
      "outputs": [
        {
          "output_type": "execute_result",
          "data": {
            "text/plain": [
              "array([[0.0573484 , 0.02588618, 0.02773172, 0.04620425, 0.03585477,\n",
              "        0.02180571, 0.02138193, 0.0371766 , 0.01935319, 0.01844175,\n",
              "        0.03427422, 0.0282335 , 0.0128475 , 0.01713167, 0.0143264 ,\n",
              "        0.01538852, 0.02042506, 0.02001949, 0.17796049, 0.0442769 ,\n",
              "        0.03503576, 0.0316308 , 0.03587952, 0.03851935, 0.05847427,\n",
              "        0.02127187, 0.01570784, 0.00945824, 0.02463738, 0.03331678]],\n",
              "      dtype=float32)"
            ]
          },
          "metadata": {
            "tags": []
          },
          "execution_count": 31
        }
      ]
    },
    {
      "cell_type": "code",
      "metadata": {
        "id": "ImxfGxkaDI_y",
        "colab_type": "code",
        "colab": {
          "base_uri": "https://localhost:8080/",
          "height": 283
        },
        "outputId": "adaf7ba1-7734-4216-9361-deb12a6f182b"
      },
      "source": [
        "testI=25\n",
        "plt.imshow(X_test[testI].reshape(28,28), cmap='binary')"
      ],
      "execution_count": 32,
      "outputs": [
        {
          "output_type": "execute_result",
          "data": {
            "text/plain": [
              "<matplotlib.image.AxesImage at 0x7fa2b033dfd0>"
            ]
          },
          "metadata": {
            "tags": []
          },
          "execution_count": 32
        },
        {
          "output_type": "display_data",
          "data": {
            "image/png": "[encoded data removed]",
            "text/plain": [
              "<Figure size 432x288 with 1 Axes>"
            ]
          },
          "metadata": {
            "tags": [],
            "needs_background": "light"
          }
        }
      ]
    },
    {
      "cell_type": "code",
      "metadata": {
        "id": "d3V5-BFcDuTB",
        "colab_type": "code",
        "colab": {
          "base_uri": "https://localhost:8080/",
          "height": 69
        },
        "outputId": "22060d7f-652e-4910-9be4-b7cab4050cfd"
      },
      "source": [
        "prediction = model.predict(tf.expand_dims(tf.reshape(X_test[testI],[28,28,1]),0))\n",
        "i=0\n",
        "maxI = 0\n",
        "max = prediction[0][0]\n",
        "for i in range(len(prediction[0])):\n",
        "  if (prediction[0][i]>max):\n",
        "    max = prediction[0][i]\n",
        "    maxI=i\n",
        "  i+=1\n",
        "print(async_categories[maxI])\n",
        "# print(categories[y_test[150]])\n",
        "print(max)\n",
        "for ind in range(len(y_test[testI])):\n",
        "  if y_test[testI][ind]==1:\n",
        "    print(async_categories[ind])"
      ],
      "execution_count": 33,
      "outputs": [
        {
          "output_type": "stream",
          "text": [
            "grapes\n",
            "0.9971733\n",
            "grapes\n"
          ],
          "name": "stdout"
        }
      ]
    },
    {
      "cell_type": "code",
      "metadata": {
        "id": "LQVhHnwjQP37",
        "colab_type": "code",
        "colab": {
          "base_uri": "https://localhost:8080/",
          "height": 901
        },
        "outputId": "0941f38f-b6c6-44e3-8478-9685df84d940"
      },
      "source": [
        "convol1=model.layer[0]\n",
        "convol1.get_weights()"
      ],
      "execution_count": 36,
      "outputs": [
        {
          "output_type": "execute_result",
          "data": {
            "text/plain": [
              "[array([[[[-0.16053987, -0.01696151, -0.13195609, -0.1007449 ,\n",
              "            0.04488418,  0.12038724, -0.05424661, -0.09064208,\n",
              "            0.10231151,  0.06592949,  0.09882298, -0.31661108,\n",
              "           -0.09143399,  0.15551819, -0.14046447,  0.15649532]],\n",
              " \n",
              "         [[ 0.21475159, -0.11610334,  0.33608988, -0.08478241,\n",
              "            0.1148032 ,  0.05999648,  0.14592205, -0.14693746,\n",
              "            0.29830799,  0.07562134,  0.08061723,  0.16737232,\n",
              "            0.07044883,  0.03287732, -0.2543688 ,  0.08179861]],\n",
              " \n",
              "         [[-0.07714632,  0.13068104, -0.22261408,  0.14402829,\n",
              "           -0.06249876,  0.0916011 ,  0.03560975, -0.24664691,\n",
              "            0.14914635,  0.04527962, -0.10653634,  0.09615467,\n",
              "            0.14309093, -0.21669047,  0.09087022, -0.13092278]]],\n",
              " \n",
              " \n",
              "        [[[ 0.2075569 ,  0.13374732, -0.21564665, -0.14430381,\n",
              "            0.12677598,  0.10928212,  0.01151757,  0.07105356,\n",
              "           -0.34568447,  0.09585033, -0.15463929,  0.06031884,\n",
              "           -0.21149297,  0.02783475, -0.04297303, -0.18093102]],\n",
              " \n",
              "         [[-0.32151532, -0.10651133,  0.36152327,  0.22945212,\n",
              "           -0.0055629 ,  0.1969292 ,  0.18460648,  0.133045  ,\n",
              "           -0.40060654,  0.06364202,  0.21069266,  0.26942158,\n",
              "            0.04118338,  0.25856698,  0.36363274,  0.1630195 ]],\n",
              " \n",
              "         [[ 0.11968186, -0.10327473, -0.13650529,  0.07321194,\n",
              "            0.15193553,  0.16067623, -0.04724551,  0.15171422,\n",
              "            0.09001631, -0.10199978,  0.07637256, -0.3010979 ,\n",
              "            0.20508634, -0.27384695,  0.12103128,  0.1827139 ]]],\n",
              " \n",
              " \n",
              "        [[[-0.01518477,  0.20805089, -0.10219191,  0.16300312,\n",
              "            0.0653553 , -0.011967  ,  0.04963473,  0.0595025 ,\n",
              "            0.22580379,  0.05300339, -0.15621367, -0.00622363,\n",
              "           -0.221049  , -0.04579631,  0.11149046, -0.03439267]],\n",
              " \n",
              "         [[ 0.03122852, -0.10019924,  0.11247143,  0.1335251 ,\n",
              "            0.09838437, -0.08707221,  0.18382008,  0.03836781,\n",
              "            0.0135489 ,  0.08785096, -0.07419799, -0.0284722 ,\n",
              "            0.07245618, -0.05366809, -0.05690382, -0.21159805]],\n",
              " \n",
              "         [[-0.02916737, -0.11388462, -0.025207  , -0.04387628,\n",
              "            0.12154119, -0.14726636, -0.17226169,  0.07595437,\n",
              "           -0.11799548,  0.04935279,  0.20416535, -0.03180416,\n",
              "            0.18014304,  0.09032403, -0.24364841, -0.01443027]]]],\n",
              "       dtype=float32),\n",
              " array([ 0.0033396 , -0.00656337, -0.002486  , -0.22032948, -0.18139   ,\n",
              "        -0.15815274, -0.15932396, -0.03122642, -0.0243921 , -0.21433252,\n",
              "        -0.11201883, -0.01685519, -0.0723272 , -0.01468499, -0.01628011,\n",
              "        -0.00715846], dtype=float32)]"
            ]
          },
          "metadata": {
            "tags": []
          },
          "execution_count": 36
        }
      ]
    },
    {
      "cell_type": "code",
      "metadata": {
        "id": "ZoUty4e1Mjn6",
        "colab_type": "code",
        "colab": {}
      },
      "source": [],
      "execution_count": 1,
      "outputs": [
        {
          "output_type": "error",
          "ename": "NameError",
          "evalue": "name 'model' is not defined",
          "traceback": [
            "\u001b[1;31m---------------------------------------------------------------------------\u001b[0m",
            "\u001b[1;31mNameError\u001b[0m                                 Traceback (most recent call last)",
            "\u001b[1;32m<ipython-input-1-cc8b2d6a05c1>\u001b[0m in \u001b[0;36m<module>\u001b[1;34m\u001b[0m\n\u001b[1;32m----> 1\u001b[1;33m \u001b[0mearlyPredictor\u001b[0m \u001b[1;33m=\u001b[0m \u001b[0mmodel\u001b[0m\u001b[1;33m(\u001b[0m\u001b[0mX_test\u001b[0m\u001b[1;33m[\u001b[0m\u001b[0mtestI\u001b[0m\u001b[1;33m]\u001b[0m\u001b[1;33m,\u001b[0m \u001b[0mmodel\u001b[0m\u001b[1;33m.\u001b[0m\u001b[0mlayers\u001b[0m\u001b[1;33m[\u001b[0m\u001b[1;36m0\u001b[0m\u001b[1;33m]\u001b[0m\u001b[1;33m.\u001b[0m\u001b[0moutputs\u001b[0m\u001b[1;33m)\u001b[0m\u001b[1;33m\u001b[0m\u001b[1;33m\u001b[0m\u001b[0m\n\u001b[0m",
            "\u001b[1;31mNameError\u001b[0m: name 'model' is not defined"
          ]
        }
      ]
    },
    {
      "cell_type": "code",
      "execution_count": null,
      "metadata": {},
      "outputs": [],
      "source": []
    }
  ],
  "metadata": {
    "colab": {
      "name": "easy25model.ipynb",
      "provenance": [],
      "collapsed_sections": []
    },
    "kernelspec": {
      "name": "python3",
      "display_name": "Python 3"
    },
    "accelerator": "GPU"
  },
  "nbformat": 4,
  "nbformat_minor": 0
}