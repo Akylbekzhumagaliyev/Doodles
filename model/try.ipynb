{
  "nbformat": 4,
  "nbformat_minor": 0,
  "metadata": {
    "colab": {
      "name": "easy25model.ipynb",
      "provenance": [],
      "collapsed_sections": []
    },
    "kernelspec": {
      "name": "python3",
      "display_name": "Python 3"
    },
    "accelerator": "GPU"
  },
  "cells": [
    {
      "cell_type": "code",
      "metadata": {
        "id": "HMS4M6WQTOox",
        "colab_type": "code",
        "colab": {}
      },
      "source": [
        "# jupyter notebook to run on google collab\n",
        "# Will train a CNN model for quick doodles base on google quickdraw data set"
      ],
      "execution_count": null,
      "outputs": []
    },
    {
      "cell_type": "code",
      "metadata": {
        "id": "bZFyQREn4Gg1",
        "colab_type": "code",
        "colab": {}
      },
      "source": [
        "import os\n",
        "import glob\n",
        "import numpy as np\n",
        "from tensorflow.keras import layers\n",
        "from tensorflow import keras\n",
        "import tensorflow as tf "
      ],
      "execution_count": 1,
      "outputs": []
    },
    {
      "cell_type": "code",
      "metadata": {
        "id": "YtLQivZ0T_Bc",
        "colab_type": "code",
        "colab": {}
      },
      "source": [
        "# set up limited category list\n",
        "categories = ['ant','bat','bird','camel','cat','cow','crab','dog','dragon','elephant','fish','frog','giraffe','horse','mouse','shark','apple','banana','grapes','pear','pineapple','strawberry','airplane','bicycle','bus','car','submarine','truck','van','sailboat','train']\n"
      ],
      "execution_count": 2,
      "outputs": []
    },
    {
      "cell_type": "code",
      "metadata": {
        "id": "haoLTZKTUIF0",
        "colab_type": "code",
        "colab": {
          "base_uri": "https://localhost:8080/",
          "height": 35
        },
        "outputId": "8e6e3fe1-7e64-4411-eb84-4297c8fb9ef0"
      },
      "source": [
        "!mkdir npy"
      ],
      "execution_count": 3,
      "outputs": [
        {
          "output_type": "stream",
          "text": [
            "mkdir: cannot create directory ‘npy’: File exists\n"
          ],
          "name": "stdout"
        }
      ]
    },
    {
      "cell_type": "code",
      "metadata": {
        "id": "kC1flDuthmz3",
        "colab_type": "code",
        "colab": {
          "base_uri": "https://localhost:8080/",
          "height": 537
        },
        "outputId": "1e64cd57-5625-4e22-a80f-5c2cf42002b1"
      },
      "source": [
        "cat_limit = categories[:30]\n",
        "cat_limit"
      ],
      "execution_count": 4,
      "outputs": [
        {
          "output_type": "execute_result",
          "data": {
            "text/plain": [
              "['ant',\n",
              " 'bat',\n",
              " 'bird',\n",
              " 'camel',\n",
              " 'cat',\n",
              " 'cow',\n",
              " 'crab',\n",
              " 'dog',\n",
              " 'dragon',\n",
              " 'elephant',\n",
              " 'fish',\n",
              " 'frog',\n",
              " 'giraffe',\n",
              " 'horse',\n",
              " 'mouse',\n",
              " 'shark',\n",
              " 'apple',\n",
              " 'banana',\n",
              " 'grapes',\n",
              " 'pear',\n",
              " 'pineapple',\n",
              " 'strawberry',\n",
              " 'airplane',\n",
              " 'bicycle',\n",
              " 'bus',\n",
              " 'car',\n",
              " 'submarine',\n",
              " 'truck',\n",
              " 'van',\n",
              " 'sailboat']"
            ]
          },
          "metadata": {
            "tags": []
          },
          "execution_count": 4
        }
      ]
    },
    {
      "cell_type": "code",
      "metadata": {
        "id": "U5H57wNn806A",
        "colab_type": "code",
        "colab": {
          "base_uri": "https://localhost:8080/",
          "height": 35
        },
        "outputId": "218ba904-8042-4883-b97d-ffc10ac72379"
      },
      "source": [
        "len(async_categories)"
      ],
      "execution_count": 38,
      "outputs": [
        {
          "output_type": "execute_result",
          "data": {
            "text/plain": [
              "30"
            ]
          },
          "metadata": {
            "tags": []
          },
          "execution_count": 38
        }
      ]
    },
    {
      "cell_type": "code",
      "metadata": {
        "id": "VsqvfHRBUJpY",
        "colab_type": "code",
        "colab": {
          "base_uri": "https://localhost:8080/",
          "height": 537
        },
        "outputId": "97ccb70e-eb59-42f9-ed9a-404ece412556"
      },
      "source": [
        "# download npy data from google\n",
        "import urllib.request\n",
        "def download():\n",
        "  base = 'https://storage.googleapis.com/quickdraw_dataset/full/numpy_bitmap/'\n",
        "  counter = 1\n",
        "  for i in cat_limit:\n",
        "    space = i.replace('_', '%20')\n",
        "    path = base+space+'.npy'\n",
        "    print(f'{path} {counter}/{len(cat_limit)}')\n",
        "    counter += 1\n",
        "    urllib.request.urlretrieve(path, 'npy/'+i+'.npy')\n",
        "download()"
      ],
      "execution_count": 5,
      "outputs": [
        {
          "output_type": "stream",
          "text": [
            "https://storage.googleapis.com/quickdraw_dataset/full/numpy_bitmap/ant.npy 1/30\n",
            "https://storage.googleapis.com/quickdraw_dataset/full/numpy_bitmap/bat.npy 2/30\n",
            "https://storage.googleapis.com/quickdraw_dataset/full/numpy_bitmap/bird.npy 3/30\n",
            "https://storage.googleapis.com/quickdraw_dataset/full/numpy_bitmap/camel.npy 4/30\n",
            "https://storage.googleapis.com/quickdraw_dataset/full/numpy_bitmap/cat.npy 5/30\n",
            "https://storage.googleapis.com/quickdraw_dataset/full/numpy_bitmap/cow.npy 6/30\n",
            "https://storage.googleapis.com/quickdraw_dataset/full/numpy_bitmap/crab.npy 7/30\n",
            "https://storage.googleapis.com/quickdraw_dataset/full/numpy_bitmap/dog.npy 8/30\n",
            "https://storage.googleapis.com/quickdraw_dataset/full/numpy_bitmap/dragon.npy 9/30\n",
            "https://storage.googleapis.com/quickdraw_dataset/full/numpy_bitmap/elephant.npy 10/30\n",
            "https://storage.googleapis.com/quickdraw_dataset/full/numpy_bitmap/fish.npy 11/30\n",
            "https://storage.googleapis.com/quickdraw_dataset/full/numpy_bitmap/frog.npy 12/30\n",
            "https://storage.googleapis.com/quickdraw_dataset/full/numpy_bitmap/giraffe.npy 13/30\n",
            "https://storage.googleapis.com/quickdraw_dataset/full/numpy_bitmap/horse.npy 14/30\n",
            "https://storage.googleapis.com/quickdraw_dataset/full/numpy_bitmap/mouse.npy 15/30\n",
            "https://storage.googleapis.com/quickdraw_dataset/full/numpy_bitmap/shark.npy 16/30\n",
            "https://storage.googleapis.com/quickdraw_dataset/full/numpy_bitmap/apple.npy 17/30\n",
            "https://storage.googleapis.com/quickdraw_dataset/full/numpy_bitmap/banana.npy 18/30\n",
            "https://storage.googleapis.com/quickdraw_dataset/full/numpy_bitmap/grapes.npy 19/30\n",
            "https://storage.googleapis.com/quickdraw_dataset/full/numpy_bitmap/pear.npy 20/30\n",
            "https://storage.googleapis.com/quickdraw_dataset/full/numpy_bitmap/pineapple.npy 21/30\n",
            "https://storage.googleapis.com/quickdraw_dataset/full/numpy_bitmap/strawberry.npy 22/30\n",
            "https://storage.googleapis.com/quickdraw_dataset/full/numpy_bitmap/airplane.npy 23/30\n",
            "https://storage.googleapis.com/quickdraw_dataset/full/numpy_bitmap/bicycle.npy 24/30\n",
            "https://storage.googleapis.com/quickdraw_dataset/full/numpy_bitmap/bus.npy 25/30\n",
            "https://storage.googleapis.com/quickdraw_dataset/full/numpy_bitmap/car.npy 26/30\n",
            "https://storage.googleapis.com/quickdraw_dataset/full/numpy_bitmap/submarine.npy 27/30\n",
            "https://storage.googleapis.com/quickdraw_dataset/full/numpy_bitmap/truck.npy 28/30\n",
            "https://storage.googleapis.com/quickdraw_dataset/full/numpy_bitmap/van.npy 29/30\n",
            "https://storage.googleapis.com/quickdraw_dataset/full/numpy_bitmap/sailboat.npy 30/30\n"
          ],
          "name": "stdout"
        }
      ]
    },
    {
      "cell_type": "code",
      "metadata": {
        "id": "-DD_wPWaUtX-",
        "colab_type": "code",
        "colab": {}
      },
      "source": [
        "all_files = glob.glob(os.path.join('npy', '*.npy'))"
      ],
      "execution_count": 6,
      "outputs": []
    },
    {
      "cell_type": "code",
      "metadata": {
        "id": "D1ArXEhHE84s",
        "colab_type": "code",
        "colab": {}
      },
      "source": [
        "# load all files downlad in collab\n",
        "# Join all of them in X and y\n",
        "X = np.empty([0, 784])\n",
        "y = np.empty([0])\n",
        "async_categories = []\n",
        "\n",
        "for idx, file in enumerate(all_files):\n",
        "  data = np.load(file)\n",
        "  data = data[0: 16500, :]\n",
        "  labels = np.full(data.shape[0], idx)\n",
        "\n",
        "  X = np.concatenate((X, data), axis=0)\n",
        "  y = np.append(y, labels)\n",
        "  \n",
        "  category, extension = os.path.splitext(os.path.basename(file))\n",
        "  async_categories.append(category)"
      ],
      "execution_count": 22,
      "outputs": []
    },
    {
      "cell_type": "code",
      "metadata": {
        "colab_type": "code",
        "id": "NR-ZLL8QriUO",
        "colab": {
          "base_uri": "https://localhost:8080/",
          "height": 283
        },
        "outputId": "a1a2b385-9142-4cb6-d389-fbd05dcbcb25"
      },
      "source": [
        "# Test a random image\n",
        "import matplotlib.pyplot as plt\n",
        "%matplotlib inline\n",
        "testIndex=1000\n",
        "plt.imshow(X[testIndex].reshape(28,28), cmap='binary')\n",
        "print(async_categories[int(y[idx].item())])\n"
      ],
      "execution_count": 23,
      "outputs": [
        {
          "output_type": "stream",
          "text": [
            "banana\n"
          ],
          "name": "stdout"
        },
        {
          "output_type": "display_data",
          "data": {
            "image/png": "[encoded data removed]",
            "text/plain": [
              "<Figure size 432x288 with 1 Axes>"
            ]
          },
          "metadata": {
            "tags": [],
            "needs_background": "light"
          }
        }
      ]
    },
    {
      "cell_type": "code",
      "metadata": {
        "id": "w4Eav4jpWqxl",
        "colab_type": "code",
        "colab": {
          "base_uri": "https://localhost:8080/",
          "height": 537
        },
        "outputId": "70e1642f-c2cb-45d4-a2ee-eed5b79bb91e"
      },
      "source": [
        "async_categories"
      ],
      "execution_count": 24,
      "outputs": [
        {
          "output_type": "execute_result",
          "data": {
            "text/plain": [
              "['banana',\n",
              " 'shark',\n",
              " 'truck',\n",
              " 'ant',\n",
              " 'bird',\n",
              " 'cow',\n",
              " 'dog',\n",
              " 'horse',\n",
              " 'elephant',\n",
              " 'pineapple',\n",
              " 'apple',\n",
              " 'grapes',\n",
              " 'strawberry',\n",
              " 'bus',\n",
              " 'crab',\n",
              " 'camel',\n",
              " 'giraffe',\n",
              " 'car',\n",
              " 'bat',\n",
              " 'cat',\n",
              " 'frog',\n",
              " 'van',\n",
              " 'mouse',\n",
              " 'airplane',\n",
              " 'fish',\n",
              " 'sailboat',\n",
              " 'dragon',\n",
              " 'bicycle',\n",
              " 'submarine',\n",
              " 'pear']"
            ]
          },
          "metadata": {
            "tags": []
          },
          "execution_count": 24
        }
      ]
    },
    {
      "cell_type": "code",
      "metadata": {
        "id": "SdVMH3bZFYqr",
        "colab_type": "code",
        "colab": {}
      },
      "source": [
        "# Scramble data a split data into test and train set\n",
        "from sklearn.model_selection import train_test_split\n",
        "\n",
        "X_train, X_test, y_train, y_test = train_test_split(\n",
        "   X, y, test_size=0.20, random_state=24)"
      ],
      "execution_count": 25,
      "outputs": []
    },
    {
      "cell_type": "code",
      "metadata": {
        "id": "JmlaONEAXemD",
        "colab_type": "code",
        "colab": {}
      },
      "source": [
        "# Normalize to 1\n",
        "X_train, X_test = X_train / 255.0, X_test / 255.0"
      ],
      "execution_count": 26,
      "outputs": []
    },
    {
      "cell_type": "code",
      "metadata": {
        "id": "mqfAClCdvdXD",
        "colab_type": "code",
        "colab": {}
      },
      "source": [
        "# reshape input\n",
        "X_train = X_train.reshape(X_train.shape[0], 28, 28, 1)\n",
        "X_test = X_test.reshape(X_test.shape[0], 28, 28, 1)"
      ],
      "execution_count": 27,
      "outputs": []
    },
    {
      "cell_type": "code",
      "metadata": {
        "id": "lOT17ETvJcsr",
        "colab_type": "code",
        "colab": {
          "base_uri": "https://localhost:8080/",
          "height": 35
        },
        "outputId": "92523cfc-f7ff-4bc3-e549-29b42a3a3e70"
      },
      "source": [
        "X_train.shape[0]"
      ],
      "execution_count": 28,
      "outputs": [
        {
          "output_type": "execute_result",
          "data": {
            "text/plain": [
              "396000"
            ]
          },
          "metadata": {
            "tags": []
          },
          "execution_count": 28
        }
      ]
    },
    {
      "cell_type": "code",
      "metadata": {
        "id": "gH8aJjvWXtNH",
        "colab_type": "code",
        "colab": {
          "base_uri": "https://localhost:8080/",
          "height": 35
        },
        "outputId": "f6e40287-353c-4ac1-e990-a6fb4864d322"
      },
      "source": [
        "X_train.shape"
      ],
      "execution_count": 29,
      "outputs": [
        {
          "output_type": "execute_result",
          "data": {
            "text/plain": [
              "(396000, 28, 28, 1)"
            ]
          },
          "metadata": {
            "tags": []
          },
          "execution_count": 29
        }
      ]
    },
    {
      "cell_type": "code",
      "metadata": {
        "id": "wU0aEzgoGU9I",
        "colab_type": "code",
        "colab": {}
      },
      "source": [
        "# one hot encode y category\n",
        "y_train = tf.keras.utils.to_categorical(y_train, num_classes=len(async_categories))\n",
        "y_test = tf.keras.utils.to_categorical(y_test, num_classes=len(async_categories))"
      ],
      "execution_count": 30,
      "outputs": []
    },
    {
      "cell_type": "code",
      "metadata": {
        "id": "J3U4yuFtRQD4",
        "colab_type": "code",
        "colab": {
          "base_uri": "https://localhost:8080/",
          "height": 69
        },
        "outputId": "d5aa5cd6-1f9d-4065-b7c5-ed475a150f0d"
      },
      "source": [
        "print(f'{y_test.shape}.{y_train.shape}')\n",
        "print(f'{X_test.shape},{X_train.shape}')\n",
        "y_train.shape"
      ],
      "execution_count": 31,
      "outputs": [
        {
          "output_type": "stream",
          "text": [
            "(99000, 30).(396000, 30)\n",
            "(99000, 28, 28, 1),(396000, 28, 28, 1)\n"
          ],
          "name": "stdout"
        },
        {
          "output_type": "execute_result",
          "data": {
            "text/plain": [
              "(396000, 30)"
            ]
          },
          "metadata": {
            "tags": []
          },
          "execution_count": 31
        }
      ]
    },
    {
      "cell_type": "code",
      "metadata": {
        "id": "LkOrSkyLIWuA",
        "colab_type": "code",
        "colab": {
          "base_uri": "https://localhost:8080/",
          "height": 624
        },
        "outputId": "61a6e6df-e7e8-4dea-deeb-2b0ef266783f"
      },
      "source": [
        "# set up model\n",
        "model = keras.Sequential()\n",
        "model.add(layers.Convolution2D(16, (3, 3),\n",
        "                        padding='same',\n",
        "                        input_shape=X_train.shape[1:], activation='relu'))\n",
        "model.add(layers.MaxPooling2D(pool_size=(2, 2)))\n",
        "model.add(layers.Convolution2D(32, (3, 3), padding='same', activation= 'relu'))\n",
        "model.add(layers.Convolution2D(32, (3, 3), padding='same', activation= 'relu'))\n",
        "model.add(layers.MaxPooling2D(pool_size=(2, 2)))\n",
        "model.add(layers.Convolution2D(64, (3, 3), padding='same', activation= 'relu'))\n",
        "model.add(layers.Convolution2D(64, (3, 3), padding='same', activation= 'relu'))\n",
        "model.add(layers.MaxPooling2D(pool_size =(2,2)))\n",
        "model.add(layers.Flatten())\n",
        "model.add(layers.Dense(128, activation='relu'))\n",
        "model.add(layers.Dense(128, activation='relu'))\n",
        "model.add(layers.Dense(128, activation='relu'))\n",
        "model.add(layers.Dense(len(async_categories), activation='softmax'))\n",
        "\n",
        "# top_k=tf.keras.metrics.top_k_categorical_accuracy(k=3)\n",
        "adam = tf.optimizers.Adam()\n",
        "model.compile(loss='categorical_crossentropy',\n",
        "              optimizer=adam,\n",
        "              metrics=['accuracy','top_k_categorical_accuracy'])\n",
        "print(model.summary())"
      ],
      "execution_count": 32,
      "outputs": [
        {
          "output_type": "stream",
          "text": [
            "Model: \"sequential_3\"\n",
            "_________________________________________________________________\n",
            "Layer (type)                 Output Shape              Param #   \n",
            "=================================================================\n",
            "conv2d_3 (Conv2D)            (None, 28, 28, 16)        160       \n",
            "_________________________________________________________________\n",
            "max_pooling2d (MaxPooling2D) (None, 14, 14, 16)        0         \n",
            "_________________________________________________________________\n",
            "conv2d_4 (Conv2D)            (None, 14, 14, 32)        4640      \n",
            "_________________________________________________________________\n",
            "conv2d_5 (Conv2D)            (None, 14, 14, 32)        9248      \n",
            "_________________________________________________________________\n",
            "max_pooling2d_1 (MaxPooling2 (None, 7, 7, 32)          0         \n",
            "_________________________________________________________________\n",
            "conv2d_6 (Conv2D)            (None, 7, 7, 64)          18496     \n",
            "_________________________________________________________________\n",
            "conv2d_7 (Conv2D)            (None, 7, 7, 64)          36928     \n",
            "_________________________________________________________________\n",
            "max_pooling2d_2 (MaxPooling2 (None, 3, 3, 64)          0         \n",
            "_________________________________________________________________\n",
            "flatten (Flatten)            (None, 576)               0         \n",
            "_________________________________________________________________\n",
            "dense (Dense)                (None, 128)               73856     \n",
            "_________________________________________________________________\n",
            "dense_1 (Dense)              (None, 128)               16512     \n",
            "_________________________________________________________________\n",
            "dense_2 (Dense)              (None, 128)               16512     \n",
            "_________________________________________________________________\n",
            "dense_3 (Dense)              (None, 30)                3870      \n",
            "=================================================================\n",
            "Total params: 180,222\n",
            "Trainable params: 180,222\n",
            "Non-trainable params: 0\n",
            "_________________________________________________________________\n",
            "None\n"
          ],
          "name": "stdout"
        }
      ]
    },
    {
      "cell_type": "code",
      "metadata": {
        "id": "qTSuiEjzIYnG",
        "colab_type": "code",
        "colab": {
          "base_uri": "https://localhost:8080/",
          "height": 332
        },
        "outputId": "cee2cae0-3d54-4d17-ef00-773fbfe5d626"
      },
      "source": [
        "# train model\n",
        "model.fit(x=X_train, y=y_train, batch_size=256, validation_split=0.1, verbose=2, epochs=8)"
      ],
      "execution_count": 33,
      "outputs": [
        {
          "output_type": "stream",
          "text": [
            "Epoch 1/8\n",
            "1393/1393 - 13s - loss: 1.2598 - accuracy: 0.6306 - top_k_categorical_accuracy: 0.8828 - val_loss: 0.9347 - val_accuracy: 0.7246 - val_top_k_categorical_accuracy: 0.9334\n",
            "Epoch 2/8\n",
            "1393/1393 - 12s - loss: 0.8278 - accuracy: 0.7524 - top_k_categorical_accuracy: 0.9448 - val_loss: 0.8292 - val_accuracy: 0.7549 - val_top_k_categorical_accuracy: 0.9433\n",
            "Epoch 3/8\n",
            "1393/1393 - 12s - loss: 0.7285 - accuracy: 0.7801 - top_k_categorical_accuracy: 0.9541 - val_loss: 0.7310 - val_accuracy: 0.7833 - val_top_k_categorical_accuracy: 0.9527\n",
            "Epoch 4/8\n",
            "1393/1393 - 12s - loss: 0.6694 - accuracy: 0.7977 - top_k_categorical_accuracy: 0.9591 - val_loss: 0.6998 - val_accuracy: 0.7902 - val_top_k_categorical_accuracy: 0.9547\n",
            "Epoch 5/8\n",
            "1393/1393 - 12s - loss: 0.6304 - accuracy: 0.8087 - top_k_categorical_accuracy: 0.9622 - val_loss: 0.6763 - val_accuracy: 0.7976 - val_top_k_categorical_accuracy: 0.9562\n",
            "Epoch 6/8\n",
            "1393/1393 - 12s - loss: 0.6001 - accuracy: 0.8172 - top_k_categorical_accuracy: 0.9644 - val_loss: 0.6652 - val_accuracy: 0.8010 - val_top_k_categorical_accuracy: 0.9588\n",
            "Epoch 7/8\n",
            "1393/1393 - 12s - loss: 0.5722 - accuracy: 0.8249 - top_k_categorical_accuracy: 0.9668 - val_loss: 0.6452 - val_accuracy: 0.8073 - val_top_k_categorical_accuracy: 0.9596\n",
            "Epoch 8/8\n",
            "1393/1393 - 12s - loss: 0.5525 - accuracy: 0.8307 - top_k_categorical_accuracy: 0.9684 - val_loss: 0.6593 - val_accuracy: 0.8052 - val_top_k_categorical_accuracy: 0.9601\n"
          ],
          "name": "stdout"
        },
        {
          "output_type": "execute_result",
          "data": {
            "text/plain": [
              "<tensorflow.python.keras.callbacks.History at 0x7f391045a208>"
            ]
          },
          "metadata": {
            "tags": []
          },
          "execution_count": 33
        }
      ]
    },
    {
      "cell_type": "markdown",
      "metadata": {
        "id": "oz9adQjIPN_o",
        "colab_type": "text"
      },
      "source": [
        ""
      ]
    },
    {
      "cell_type": "code",
      "metadata": {
        "id": "rU6lQVLhMAN8",
        "colab_type": "code",
        "colab": {
          "base_uri": "https://localhost:8080/",
          "height": 52
        },
        "outputId": "ab48dd7c-35fc-4f43-a1e0-c4df1c3261dd"
      },
      "source": [
        "# evaluate model\n",
        "score = model.evaluate(X_test, y_test, verbose=1)\n",
        "print('Test accuracy: {:0.2f}%'.format(score[1] * 100))"
      ],
      "execution_count": 34,
      "outputs": [
        {
          "output_type": "stream",
          "text": [
            "3094/3094 [==============================] - 10s 3ms/step - loss: 0.6516 - accuracy: 0.8054 - top_k_categorical_accuracy: 0.9599\n",
            "Test accuracy: 80.54%\n"
          ],
          "name": "stdout"
        }
      ]
    },
    {
      "cell_type": "code",
      "metadata": {
        "id": "ai2ApJi9qr7m",
        "colab_type": "code",
        "colab": {
          "base_uri": "https://localhost:8080/",
          "height": 1000
        },
        "outputId": "d3a4c184-4d9b-40e0-9bc1-7440885aeef5"
      },
      "source": [
        "# save and covert model with tensorflowjs\n",
        "!pip install tensorflowjs"
      ],
      "execution_count": 35,
      "outputs": [
        {
          "output_type": "stream",
          "text": [
            "Collecting tensorflowjs\n",
            "\u001b[?25l  Downloading https://files.pythonhosted.org/packages/4a/b8/16f378a20a2ee7736233574f65a6cf2154cf8965a8890d27f3d2f33595b2/tensorflowjs-2.0.1-py3-none-any.whl (60kB)\n",
            "\u001b[K     |████████████████████████████████| 61kB 6.5MB/s \n",
            "\u001b[?25hCollecting tensorflow-cpu>=2.1.0<3\n",
            "\u001b[?25l  Downloading https://files.pythonhosted.org/packages/e7/4f/7bf91c87907873177ad99a31014fb77271a693a3a7cb75e522ac6b556416/tensorflow_cpu-2.2.0-cp36-cp36m-manylinux2010_x86_64.whl (144.4MB)\n",
            "\u001b[K     |████████████████████████████████| 144.4MB 114kB/s \n",
            "\u001b[?25hRequirement already satisfied: h5py>=2.8.0 in /usr/local/lib/python3.6/dist-packages (from tensorflowjs) (2.10.0)\n",
            "Requirement already satisfied: six>=1.12.0 in /usr/local/lib/python3.6/dist-packages (from tensorflowjs) (1.12.0)\n",
            "Collecting PyInquirer==1.0.3\n",
            "  Downloading https://files.pythonhosted.org/packages/fb/4c/434b7c454010a284b49d6f1d446fe8dc5960415613d8c0225b9e2efb6724/PyInquirer-1.0.3.tar.gz\n",
            "Requirement already satisfied: numpy>=1.16.4 in /usr/local/lib/python3.6/dist-packages (from tensorflowjs) (1.18.5)\n",
            "Collecting tensorflow-hub==0.7.0\n",
            "\u001b[?25l  Downloading https://files.pythonhosted.org/packages/00/0e/a91780d07592b1abf9c91344ce459472cc19db3b67fdf3a61dca6ebb2f5c/tensorflow_hub-0.7.0-py2.py3-none-any.whl (89kB)\n",
            "\u001b[K     |████████████████████████████████| 92kB 13.6MB/s \n",
            "\u001b[?25hRequirement already satisfied: wheel>=0.26; python_version >= \"3\" in /usr/local/lib/python3.6/dist-packages (from tensorflow-cpu>=2.1.0<3->tensorflowjs) (0.34.2)\n",
            "Requirement already satisfied: protobuf>=3.8.0 in /usr/local/lib/python3.6/dist-packages (from tensorflow-cpu>=2.1.0<3->tensorflowjs) (3.10.0)\n",
            "Requirement already satisfied: scipy==1.4.1; python_version >= \"3\" in /usr/local/lib/python3.6/dist-packages (from tensorflow-cpu>=2.1.0<3->tensorflowjs) (1.4.1)\n",
            "Requirement already satisfied: google-pasta>=0.1.8 in /usr/local/lib/python3.6/dist-packages (from tensorflow-cpu>=2.1.0<3->tensorflowjs) (0.2.0)\n",
            "Requirement already satisfied: keras-preprocessing>=1.1.0 in /usr/local/lib/python3.6/dist-packages (from tensorflow-cpu>=2.1.0<3->tensorflowjs) (1.1.2)\n",
            "Requirement already satisfied: opt-einsum>=2.3.2 in /usr/local/lib/python3.6/dist-packages (from tensorflow-cpu>=2.1.0<3->tensorflowjs) (3.2.1)\n",
            "Requirement already satisfied: gast==0.3.3 in /usr/local/lib/python3.6/dist-packages (from tensorflow-cpu>=2.1.0<3->tensorflowjs) (0.3.3)\n",
            "Requirement already satisfied: tensorboard<2.3.0,>=2.2.0 in /usr/local/lib/python3.6/dist-packages (from tensorflow-cpu>=2.1.0<3->tensorflowjs) (2.2.2)\n",
            "Requirement already satisfied: termcolor>=1.1.0 in /usr/local/lib/python3.6/dist-packages (from tensorflow-cpu>=2.1.0<3->tensorflowjs) (1.1.0)\n",
            "Requirement already satisfied: tensorflow-estimator<2.3.0,>=2.2.0 in /usr/local/lib/python3.6/dist-packages (from tensorflow-cpu>=2.1.0<3->tensorflowjs) (2.2.0)\n",
            "Requirement already satisfied: wrapt>=1.11.1 in /usr/local/lib/python3.6/dist-packages (from tensorflow-cpu>=2.1.0<3->tensorflowjs) (1.12.1)\n",
            "Requirement already satisfied: astunparse==1.6.3 in /usr/local/lib/python3.6/dist-packages (from tensorflow-cpu>=2.1.0<3->tensorflowjs) (1.6.3)\n",
            "Requirement already satisfied: absl-py>=0.7.0 in /usr/local/lib/python3.6/dist-packages (from tensorflow-cpu>=2.1.0<3->tensorflowjs) (0.9.0)\n",
            "Requirement already satisfied: grpcio>=1.8.6 in /usr/local/lib/python3.6/dist-packages (from tensorflow-cpu>=2.1.0<3->tensorflowjs) (1.29.0)\n",
            "Collecting prompt_toolkit==1.0.14\n",
            "\u001b[?25l  Downloading https://files.pythonhosted.org/packages/ee/3d/b25d35a9f0d381dd1c02d8e04b37c353caaaff4bc32150328eeebe4931f5/prompt_toolkit-1.0.14-py3-none-any.whl (248kB)\n",
            "\u001b[K     |████████████████████████████████| 256kB 51.1MB/s \n",
            "\u001b[?25hCollecting Pygments>=2.2.0\n",
            "\u001b[?25l  Downloading https://files.pythonhosted.org/packages/2d/68/106af3ae51daf807e9cdcba6a90e518954eb8b70341cee52995540a53ead/Pygments-2.6.1-py3-none-any.whl (914kB)\n",
            "\u001b[K     |████████████████████████████████| 921kB 44.0MB/s \n",
            "\u001b[?25hRequirement already satisfied: regex>=2016.11.21 in /usr/local/lib/python3.6/dist-packages (from PyInquirer==1.0.3->tensorflowjs) (2019.12.20)\n",
            "Requirement already satisfied: setuptools in /usr/local/lib/python3.6/dist-packages (from protobuf>=3.8.0->tensorflow-cpu>=2.1.0<3->tensorflowjs) (47.3.1)\n",
            "Requirement already satisfied: google-auth-oauthlib<0.5,>=0.4.1 in /usr/local/lib/python3.6/dist-packages (from tensorboard<2.3.0,>=2.2.0->tensorflow-cpu>=2.1.0<3->tensorflowjs) (0.4.1)\n",
            "Requirement already satisfied: werkzeug>=0.11.15 in /usr/local/lib/python3.6/dist-packages (from tensorboard<2.3.0,>=2.2.0->tensorflow-cpu>=2.1.0<3->tensorflowjs) (1.0.1)\n",
            "Requirement already satisfied: requests<3,>=2.21.0 in /usr/local/lib/python3.6/dist-packages (from tensorboard<2.3.0,>=2.2.0->tensorflow-cpu>=2.1.0<3->tensorflowjs) (2.23.0)\n",
            "Requirement already satisfied: google-auth<2,>=1.6.3 in /usr/local/lib/python3.6/dist-packages (from tensorboard<2.3.0,>=2.2.0->tensorflow-cpu>=2.1.0<3->tensorflowjs) (1.17.2)\n",
            "Requirement already satisfied: markdown>=2.6.8 in /usr/local/lib/python3.6/dist-packages (from tensorboard<2.3.0,>=2.2.0->tensorflow-cpu>=2.1.0<3->tensorflowjs) (3.2.2)\n",
            "Requirement already satisfied: tensorboard-plugin-wit>=1.6.0 in /usr/local/lib/python3.6/dist-packages (from tensorboard<2.3.0,>=2.2.0->tensorflow-cpu>=2.1.0<3->tensorflowjs) (1.6.0.post3)\n",
            "Requirement already satisfied: wcwidth in /usr/local/lib/python3.6/dist-packages (from prompt_toolkit==1.0.14->PyInquirer==1.0.3->tensorflowjs) (0.2.4)\n",
            "Requirement already satisfied: requests-oauthlib>=0.7.0 in /usr/local/lib/python3.6/dist-packages (from google-auth-oauthlib<0.5,>=0.4.1->tensorboard<2.3.0,>=2.2.0->tensorflow-cpu>=2.1.0<3->tensorflowjs) (1.3.0)\n",
            "Requirement already satisfied: chardet<4,>=3.0.2 in /usr/local/lib/python3.6/dist-packages (from requests<3,>=2.21.0->tensorboard<2.3.0,>=2.2.0->tensorflow-cpu>=2.1.0<3->tensorflowjs) (3.0.4)\n",
            "Requirement already satisfied: urllib3!=1.25.0,!=1.25.1,<1.26,>=1.21.1 in /usr/local/lib/python3.6/dist-packages (from requests<3,>=2.21.0->tensorboard<2.3.0,>=2.2.0->tensorflow-cpu>=2.1.0<3->tensorflowjs) (1.24.3)\n",
            "Requirement already satisfied: idna<3,>=2.5 in /usr/local/lib/python3.6/dist-packages (from requests<3,>=2.21.0->tensorboard<2.3.0,>=2.2.0->tensorflow-cpu>=2.1.0<3->tensorflowjs) (2.9)\n",
            "Requirement already satisfied: certifi>=2017.4.17 in /usr/local/lib/python3.6/dist-packages (from requests<3,>=2.21.0->tensorboard<2.3.0,>=2.2.0->tensorflow-cpu>=2.1.0<3->tensorflowjs) (2020.4.5.2)\n",
            "Requirement already satisfied: pyasn1-modules>=0.2.1 in /usr/local/lib/python3.6/dist-packages (from google-auth<2,>=1.6.3->tensorboard<2.3.0,>=2.2.0->tensorflow-cpu>=2.1.0<3->tensorflowjs) (0.2.8)\n",
            "Requirement already satisfied: rsa<5,>=3.1.4; python_version >= \"3\" in /usr/local/lib/python3.6/dist-packages (from google-auth<2,>=1.6.3->tensorboard<2.3.0,>=2.2.0->tensorflow-cpu>=2.1.0<3->tensorflowjs) (4.6)\n",
            "Requirement already satisfied: cachetools<5.0,>=2.0.0 in /usr/local/lib/python3.6/dist-packages (from google-auth<2,>=1.6.3->tensorboard<2.3.0,>=2.2.0->tensorflow-cpu>=2.1.0<3->tensorflowjs) (4.1.0)\n",
            "Requirement already satisfied: importlib-metadata; python_version < \"3.8\" in /usr/local/lib/python3.6/dist-packages (from markdown>=2.6.8->tensorboard<2.3.0,>=2.2.0->tensorflow-cpu>=2.1.0<3->tensorflowjs) (1.6.1)\n",
            "Requirement already satisfied: oauthlib>=3.0.0 in /usr/local/lib/python3.6/dist-packages (from requests-oauthlib>=0.7.0->google-auth-oauthlib<0.5,>=0.4.1->tensorboard<2.3.0,>=2.2.0->tensorflow-cpu>=2.1.0<3->tensorflowjs) (3.1.0)\n",
            "Requirement already satisfied: pyasn1<0.5.0,>=0.4.6 in /usr/local/lib/python3.6/dist-packages (from pyasn1-modules>=0.2.1->google-auth<2,>=1.6.3->tensorboard<2.3.0,>=2.2.0->tensorflow-cpu>=2.1.0<3->tensorflowjs) (0.4.8)\n",
            "Requirement already satisfied: zipp>=0.5 in /usr/local/lib/python3.6/dist-packages (from importlib-metadata; python_version < \"3.8\"->markdown>=2.6.8->tensorboard<2.3.0,>=2.2.0->tensorflow-cpu>=2.1.0<3->tensorflowjs) (3.1.0)\n",
            "Building wheels for collected packages: PyInquirer\n",
            "  Building wheel for PyInquirer (setup.py) ... \u001b[?25l\u001b[?25hdone\n",
            "  Created wheel for PyInquirer: filename=PyInquirer-1.0.3-cp36-none-any.whl size=32851 sha256=008dc826c24ce5687192efe56fd858a3c331b05826d78f684702383e7931d877\n",
            "  Stored in directory: /root/.cache/pip/wheels/52/6c/b1/3e4b0e8daf42a92883c7641c0ea8ffb62e0490ebed2faa55ad\n",
            "Successfully built PyInquirer\n",
            "\u001b[31mERROR: datascience 0.10.6 has requirement folium==0.2.1, but you'll have folium 0.8.3 which is incompatible.\u001b[0m\n",
            "Installing collected packages: tensorflow-cpu, prompt-toolkit, Pygments, PyInquirer, tensorflow-hub, tensorflowjs\n",
            "  Found existing installation: prompt-toolkit 1.0.18\n",
            "    Uninstalling prompt-toolkit-1.0.18:\n",
            "      Successfully uninstalled prompt-toolkit-1.0.18\n",
            "  Found existing installation: Pygments 2.1.3\n",
            "    Uninstalling Pygments-2.1.3:\n",
            "      Successfully uninstalled Pygments-2.1.3\n",
            "  Found existing installation: tensorflow-hub 0.8.0\n",
            "    Uninstalling tensorflow-hub-0.8.0:\n",
            "      Successfully uninstalled tensorflow-hub-0.8.0\n",
            "Successfully installed PyInquirer-1.0.3 Pygments-2.6.1 prompt-toolkit-1.0.14 tensorflow-cpu-2.2.0 tensorflow-hub-0.7.0 tensorflowjs-2.0.1\n"
          ],
          "name": "stdout"
        },
        {
          "output_type": "display_data",
          "data": {
            "application/vnd.colab-display-data+json": {
              "pip_warning": {
                "packages": [
                  "prompt_toolkit",
                  "pygments",
                  "tensorflow"
                ]
              }
            }
          },
          "metadata": {
            "tags": []
          }
        }
      ]
    },
    {
      "cell_type": "code",
      "metadata": {
        "id": "uL6HUmCYlD_Q",
        "colab_type": "code",
        "colab": {}
      },
      "source": [
        "import json\n",
        "with open('easyCategories30.json', 'w') as outputFile:\n",
        "  json.dump(async_categories, outputFile)"
      ],
      "execution_count": 39,
      "outputs": []
    },
    {
      "cell_type": "code",
      "metadata": {
        "id": "5Y947a_Ommsf",
        "colab_type": "code",
        "colab": {}
      },
      "source": [
        "model.save('kerasEasy30.h5')"
      ],
      "execution_count": 40,
      "outputs": []
    },
    {
      "cell_type": "code",
      "metadata": {
        "id": "f9-Ph5Ayuf_w",
        "colab_type": "code",
        "colab": {}
      },
      "source": [
        "!mkdir model30"
      ],
      "execution_count": 41,
      "outputs": []
    },
    {
      "cell_type": "code",
      "metadata": {
        "id": "_6qrDjYrmqGL",
        "colab_type": "code",
        "colab": {
          "base_uri": "https://localhost:8080/",
          "height": 225
        },
        "outputId": "7f2d4d8e-9de0-4e7d-a879-149d2f1376f7"
      },
      "source": [
        "!tensorflowjs_converter --input_format keras kerasEasy25.h5 model30/"
      ],
      "execution_count": 42,
      "outputs": [
        {
          "output_type": "stream",
          "text": [
            "Traceback (most recent call last):\n",
            "  File \"/usr/local/bin/tensorflowjs_converter\", line 8, in <module>\n",
            "    sys.exit(pip_main())\n",
            "  File \"/usr/local/lib/python3.6/dist-packages/tensorflowjs/converters/converter.py\", line 735, in pip_main\n",
            "    main([' '.join(sys.argv[1:])])\n",
            "  File \"/usr/local/lib/python3.6/dist-packages/tensorflowjs/converters/converter.py\", line 739, in main\n",
            "    convert(argv[0].split(' '))\n",
            "  File \"/usr/local/lib/python3.6/dist-packages/tensorflowjs/converters/converter.py\", line 654, in convert\n",
            "    weight_shard_size_bytes=weight_shard_size_bytes)\n",
            "  File \"/usr/local/lib/python3.6/dist-packages/tensorflowjs/converters/converter.py\", line 74, in dispatch_keras_h5_to_tfjs_layers_model_conversion\n",
            "    raise ValueError('Nonexistent path to HDF5 file: %s' % h5_path)\n",
            "ValueError: Nonexistent path to HDF5 file: kerasEasy25.h5\n"
          ],
          "name": "stdout"
        }
      ]
    },
    {
      "cell_type": "code",
      "metadata": {
        "id": "5qQKsq01m22z",
        "colab_type": "code",
        "colab": {
          "base_uri": "https://localhost:8080/",
          "height": 35
        },
        "outputId": "48c39960-5f00-4608-bcdc-2713c51e053a"
      },
      "source": [
        "!cp easyCategories.json model30/easyCategories30.json"
      ],
      "execution_count": 44,
      "outputs": [
        {
          "output_type": "stream",
          "text": [
            "cp: cannot stat 'easyCategories.json': No such file or directory\n"
          ],
          "name": "stdout"
        }
      ]
    },
    {
      "cell_type": "code",
      "metadata": {
        "id": "xFLmXinUnmQ8",
        "colab_type": "code",
        "colab": {
          "base_uri": "https://localhost:8080/",
          "height": 35
        },
        "outputId": "bac8d4b0-3ab7-4e37-cfb4-84a945657d74"
      },
      "source": [
        "!zip -r modelEasy30.zip model30"
      ],
      "execution_count": 46,
      "outputs": [
        {
          "output_type": "stream",
          "text": [
            "  adding: model30/ (stored 0%)\n"
          ],
          "name": "stdout"
        }
      ]
    },
    {
      "cell_type": "code",
      "metadata": {
        "id": "My1A62VGnvyj",
        "colab_type": "code",
        "colab": {}
      },
      "source": [
        "from google.colab import files\n",
        "files.download('modelEasy30.zip')"
      ],
      "execution_count": 47,
      "outputs": []
    },
    {
      "cell_type": "code",
      "metadata": {
        "id": "uR93iPE24Ghp",
        "colab_type": "code",
        "colab": {
          "base_uri": "https://localhost:8080/",
          "height": 139
        },
        "outputId": "3f8414f4-6946-4a88-d1fa-aaba958eb86b"
      },
      "source": [
        "ones =np.ones([28,28])\n",
        "ones=ones.reshape(1,28,28,1)\n",
        "model.predict(ones)"
      ],
      "execution_count": 49,
      "outputs": [
        {
          "output_type": "execute_result",
          "data": {
            "text/plain": [
              "array([[0.1125915 , 0.01288508, 0.01104837, 0.03050333, 0.05023453,\n",
              "        0.02812885, 0.01063731, 0.02219381, 0.02418934, 0.0183125 ,\n",
              "        0.01371581, 0.05518846, 0.01418327, 0.02066994, 0.06384679,\n",
              "        0.01466418, 0.0074479 , 0.02709231, 0.05385209, 0.01279513,\n",
              "        0.1090198 , 0.07127214, 0.0125962 , 0.03320799, 0.02094271,\n",
              "        0.02076095, 0.06007454, 0.0025926 , 0.04330595, 0.02204667]],\n",
              "      dtype=float32)"
            ]
          },
          "metadata": {
            "tags": []
          },
          "execution_count": 49
        }
      ]
    },
    {
      "cell_type": "code",
      "metadata": {
        "id": "lRkNecLVC_KP",
        "colab_type": "code",
        "colab": {
          "base_uri": "https://localhost:8080/",
          "height": 139
        },
        "outputId": "3fa700e6-f2b8-4c00-fbfc-911d4de7135f"
      },
      "source": [
        "zeros =np.zeros([28,28])\n",
        "zeros=zeros.reshape(1,28,28,1)\n",
        "model.predict(zeros)"
      ],
      "execution_count": 50,
      "outputs": [
        {
          "output_type": "execute_result",
          "data": {
            "text/plain": [
              "array([[0.03118444, 0.05128253, 0.04679228, 0.10333785, 0.04525694,\n",
              "        0.03904418, 0.02130629, 0.0198996 , 0.02459828, 0.01163408,\n",
              "        0.03070415, 0.05364661, 0.03274484, 0.03369369, 0.01878326,\n",
              "        0.01818565, 0.00763363, 0.03046033, 0.03358366, 0.02137038,\n",
              "        0.0209191 , 0.04622415, 0.03751025, 0.04571803, 0.04694395,\n",
              "        0.03007615, 0.00782565, 0.00778745, 0.02781604, 0.05403662]],\n",
              "      dtype=float32)"
            ]
          },
          "metadata": {
            "tags": []
          },
          "execution_count": 50
        }
      ]
    },
    {
      "cell_type": "code",
      "metadata": {
        "id": "ImxfGxkaDI_y",
        "colab_type": "code",
        "colab": {
          "base_uri": "https://localhost:8080/",
          "height": 283
        },
        "outputId": "e0da86bd-8a62-45a1-ff32-656d8c1cc445"
      },
      "source": [
        "testI=18\n",
        "plt.imshow(X_test[testI].reshape(28,28), cmap='binary')"
      ],
      "execution_count": 51,
      "outputs": [
        {
          "output_type": "execute_result",
          "data": {
            "text/plain": [
              "<matplotlib.image.AxesImage at 0x7f39100ad550>"
            ]
          },
          "metadata": {
            "tags": []
          },
          "execution_count": 51
        },
        {
          "output_type": "display_data",
          "data": {
            "image/png": "[encoded data removed]",
            "text/plain": [
              "<Figure size 432x288 with 1 Axes>"
            ]
          },
          "metadata": {
            "tags": [],
            "needs_background": "light"
          }
        }
      ]
    },
    {
      "cell_type": "code",
      "metadata": {
        "id": "d3V5-BFcDuTB",
        "colab_type": "code",
        "colab": {
          "base_uri": "https://localhost:8080/",
          "height": 69
        },
        "outputId": "27af972c-c948-4c6a-bc35-6e1e942ed36b"
      },
      "source": [
        "prediction = model.predict(tf.expand_dims(tf.reshape(X_test[testI],[28,28,1]),0))\n",
        "i=0\n",
        "maxI = 0\n",
        "max = prediction[0][0]\n",
        "for i in range(len(prediction[0])):\n",
        "  if (prediction[0][i]>max):\n",
        "    max = prediction[0][i]\n",
        "    maxI=i\n",
        "  i+=1\n",
        "print(async_categories[maxI])\n",
        "# print(categories[y_test[150]])\n",
        "print(max)\n",
        "for ind in range(len(y_test[testI])):\n",
        "  if y_test[testI][ind]==1:\n",
        "    print(async_categories[ind])"
      ],
      "execution_count": 53,
      "outputs": [
        {
          "output_type": "stream",
          "text": [
            "ant\n",
            "0.9960232\n",
            "ant\n"
          ],
          "name": "stdout"
        }
      ]
    },
    {
      "cell_type": "code",
      "metadata": {
        "id": "LQVhHnwjQP37",
        "colab_type": "code",
        "colab": {}
      },
      "source": [
        ""
      ],
      "execution_count": null,
      "outputs": []
    }
  ]
}