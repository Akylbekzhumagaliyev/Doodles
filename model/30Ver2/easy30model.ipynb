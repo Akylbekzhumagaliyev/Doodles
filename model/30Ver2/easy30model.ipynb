{
  "nbformat": 4,
  "nbformat_minor": 0,
  "metadata": {
    "colab": {
      "name": "easy30model.ipynb",
      "provenance": [],
      "collapsed_sections": []
    },
    "kernelspec": {
      "name": "python3",
      "display_name": "Python 3"
    },
    "accelerator": "GPU"
  },
  "cells": [
    {
      "cell_type": "code",
      "metadata": {
        "id": "HMS4M6WQTOox",
        "colab_type": "code",
        "colab": {}
      },
      "source": [
        "# jupyter notebook to run on google collab\n",
        "# Will train a CNN model for quick doodles base on google quickdraw data set"
      ],
      "execution_count": 1,
      "outputs": []
    },
    {
      "cell_type": "code",
      "metadata": {
        "id": "bZFyQREn4Gg1",
        "colab_type": "code",
        "colab": {}
      },
      "source": [
        "import os\n",
        "import glob\n",
        "import numpy as np\n",
        "from tensorflow.keras import layers\n",
        "from tensorflow import keras\n",
        "import tensorflow as tf "
      ],
      "execution_count": 2,
      "outputs": []
    },
    {
      "cell_type": "code",
      "metadata": {
        "id": "YtLQivZ0T_Bc",
        "colab_type": "code",
        "colab": {}
      },
      "source": [
        "# set up limited category list\n",
        "categories = ['snake','bat','bird','camel','cat','cow','crab','dog','dragon','elephant','fish','frog','giraffe','horse','mouse','shark','apple','banana','grapes','pear','pineapple','strawberry','airplane','bicycle','bus','car','submarine','truck','van','sailboat','train']\n"
      ],
      "execution_count": 3,
      "outputs": []
    },
    {
      "cell_type": "code",
      "metadata": {
        "id": "haoLTZKTUIF0",
        "colab_type": "code",
        "colab": {}
      },
      "source": [
        "!mkdir npy"
      ],
      "execution_count": 4,
      "outputs": []
    },
    {
      "cell_type": "code",
      "metadata": {
        "id": "kC1flDuthmz3",
        "colab_type": "code",
        "colab": {
          "base_uri": "https://localhost:8080/",
          "height": 521
        },
        "outputId": "e4591c55-b89a-47d6-8054-3a02ec00203d"
      },
      "source": [
        "cat_limit = categories[:30]\n",
        "cat_limit"
      ],
      "execution_count": 5,
      "outputs": [
        {
          "output_type": "execute_result",
          "data": {
            "text/plain": [
              "['snake',\n",
              " 'bat',\n",
              " 'bird',\n",
              " 'camel',\n",
              " 'cat',\n",
              " 'cow',\n",
              " 'crab',\n",
              " 'dog',\n",
              " 'dragon',\n",
              " 'elephant',\n",
              " 'fish',\n",
              " 'frog',\n",
              " 'giraffe',\n",
              " 'horse',\n",
              " 'mouse',\n",
              " 'shark',\n",
              " 'apple',\n",
              " 'banana',\n",
              " 'grapes',\n",
              " 'pear',\n",
              " 'pineapple',\n",
              " 'strawberry',\n",
              " 'airplane',\n",
              " 'bicycle',\n",
              " 'bus',\n",
              " 'car',\n",
              " 'submarine',\n",
              " 'truck',\n",
              " 'van',\n",
              " 'sailboat']"
            ]
          },
          "metadata": {
            "tags": []
          },
          "execution_count": 5
        }
      ]
    },
    {
      "cell_type": "code",
      "metadata": {
        "id": "VsqvfHRBUJpY",
        "colab_type": "code",
        "colab": {
          "base_uri": "https://localhost:8080/",
          "height": 521
        },
        "outputId": "a976f4c7-f614-441b-bd80-5f68cfe94d3a"
      },
      "source": [
        "# download npy data from google\n",
        "import urllib.request\n",
        "def download():\n",
        "  base = 'https://storage.googleapis.com/quickdraw_dataset/full/numpy_bitmap/'\n",
        "  counter = 1\n",
        "  for i in cat_limit:\n",
        "    space = i.replace('_', '%20')\n",
        "    path = base+space+'.npy'\n",
        "    print(f'{path} {counter}/{len(cat_limit)}')\n",
        "    counter += 1\n",
        "    urllib.request.urlretrieve(path, 'npy/'+i+'.npy')\n",
        "download()"
      ],
      "execution_count": 6,
      "outputs": [
        {
          "output_type": "stream",
          "text": [
            "https://storage.googleapis.com/quickdraw_dataset/full/numpy_bitmap/snake.npy 1/30\n",
            "https://storage.googleapis.com/quickdraw_dataset/full/numpy_bitmap/bat.npy 2/30\n",
            "https://storage.googleapis.com/quickdraw_dataset/full/numpy_bitmap/bird.npy 3/30\n",
            "https://storage.googleapis.com/quickdraw_dataset/full/numpy_bitmap/camel.npy 4/30\n",
            "https://storage.googleapis.com/quickdraw_dataset/full/numpy_bitmap/cat.npy 5/30\n",
            "https://storage.googleapis.com/quickdraw_dataset/full/numpy_bitmap/cow.npy 6/30\n",
            "https://storage.googleapis.com/quickdraw_dataset/full/numpy_bitmap/crab.npy 7/30\n",
            "https://storage.googleapis.com/quickdraw_dataset/full/numpy_bitmap/dog.npy 8/30\n",
            "https://storage.googleapis.com/quickdraw_dataset/full/numpy_bitmap/dragon.npy 9/30\n",
            "https://storage.googleapis.com/quickdraw_dataset/full/numpy_bitmap/elephant.npy 10/30\n",
            "https://storage.googleapis.com/quickdraw_dataset/full/numpy_bitmap/fish.npy 11/30\n",
            "https://storage.googleapis.com/quickdraw_dataset/full/numpy_bitmap/frog.npy 12/30\n",
            "https://storage.googleapis.com/quickdraw_dataset/full/numpy_bitmap/giraffe.npy 13/30\n",
            "https://storage.googleapis.com/quickdraw_dataset/full/numpy_bitmap/horse.npy 14/30\n",
            "https://storage.googleapis.com/quickdraw_dataset/full/numpy_bitmap/mouse.npy 15/30\n",
            "https://storage.googleapis.com/quickdraw_dataset/full/numpy_bitmap/shark.npy 16/30\n",
            "https://storage.googleapis.com/quickdraw_dataset/full/numpy_bitmap/apple.npy 17/30\n",
            "https://storage.googleapis.com/quickdraw_dataset/full/numpy_bitmap/banana.npy 18/30\n",
            "https://storage.googleapis.com/quickdraw_dataset/full/numpy_bitmap/grapes.npy 19/30\n",
            "https://storage.googleapis.com/quickdraw_dataset/full/numpy_bitmap/pear.npy 20/30\n",
            "https://storage.googleapis.com/quickdraw_dataset/full/numpy_bitmap/pineapple.npy 21/30\n",
            "https://storage.googleapis.com/quickdraw_dataset/full/numpy_bitmap/strawberry.npy 22/30\n",
            "https://storage.googleapis.com/quickdraw_dataset/full/numpy_bitmap/airplane.npy 23/30\n",
            "https://storage.googleapis.com/quickdraw_dataset/full/numpy_bitmap/bicycle.npy 24/30\n",
            "https://storage.googleapis.com/quickdraw_dataset/full/numpy_bitmap/bus.npy 25/30\n",
            "https://storage.googleapis.com/quickdraw_dataset/full/numpy_bitmap/car.npy 26/30\n",
            "https://storage.googleapis.com/quickdraw_dataset/full/numpy_bitmap/submarine.npy 27/30\n",
            "https://storage.googleapis.com/quickdraw_dataset/full/numpy_bitmap/truck.npy 28/30\n",
            "https://storage.googleapis.com/quickdraw_dataset/full/numpy_bitmap/van.npy 29/30\n",
            "https://storage.googleapis.com/quickdraw_dataset/full/numpy_bitmap/sailboat.npy 30/30\n"
          ],
          "name": "stdout"
        }
      ]
    },
    {
      "cell_type": "code",
      "metadata": {
        "id": "-DD_wPWaUtX-",
        "colab_type": "code",
        "colab": {}
      },
      "source": [
        "all_files = glob.glob(os.path.join('npy', '*.npy'))"
      ],
      "execution_count": 7,
      "outputs": []
    },
    {
      "cell_type": "code",
      "metadata": {
        "id": "D1ArXEhHE84s",
        "colab_type": "code",
        "colab": {}
      },
      "source": [
        "# load all files downlad in collab\n",
        "# Join all of them in X and y\n",
        "X = np.empty([0, 784])\n",
        "y = np.empty([0])\n",
        "async_categories = []\n",
        "\n",
        "for idx, file in enumerate(all_files):\n",
        "  data = np.load(file)\n",
        "  data = data[0: 16000, :]\n",
        "  labels = np.full(data.shape[0], idx)\n",
        "\n",
        "  X = np.concatenate((X, data), axis=0)\n",
        "  y = np.append(y, labels)\n",
        "  \n",
        "  category, extension = os.path.splitext(os.path.basename(file))\n",
        "  async_categories.append(category)"
      ],
      "execution_count": 8,
      "outputs": []
    },
    {
      "cell_type": "code",
      "metadata": {
        "colab_type": "code",
        "id": "NR-ZLL8QriUO",
        "colab": {
          "base_uri": "https://localhost:8080/",
          "height": 282
        },
        "outputId": "80be8aaf-372a-4e4e-bf84-012813a96e88"
      },
      "source": [
        "# Test a random image\n",
        "import matplotlib.pyplot as plt\n",
        "%matplotlib inline\n",
        "testIndex=1000\n",
        "plt.imshow(X[testIndex].reshape(28,28), cmap='binary')\n",
        "print(async_categories[int(y[idx].item())])\n"
      ],
      "execution_count": 9,
      "outputs": [
        {
          "output_type": "stream",
          "text": [
            "banana\n"
          ],
          "name": "stdout"
        },
        {
          "output_type": "display_data",
          "data": {
            "image/png": "[encoded data removed]",
            "text/plain": [
              "<Figure size 432x288 with 1 Axes>"
            ]
          },
          "metadata": {
            "tags": [],
            "needs_background": "light"
          }
        }
      ]
    },
    {
      "cell_type": "code",
      "metadata": {
        "id": "w4Eav4jpWqxl",
        "colab_type": "code",
        "colab": {
          "base_uri": "https://localhost:8080/",
          "height": 521
        },
        "outputId": "9e9f5098-dc06-4bb9-bcb8-ca4d351d1347"
      },
      "source": [
        "async_categories"
      ],
      "execution_count": 10,
      "outputs": [
        {
          "output_type": "execute_result",
          "data": {
            "text/plain": [
              "['banana',\n",
              " 'shark',\n",
              " 'truck',\n",
              " 'bird',\n",
              " 'cow',\n",
              " 'dog',\n",
              " 'horse',\n",
              " 'elephant',\n",
              " 'pineapple',\n",
              " 'apple',\n",
              " 'grapes',\n",
              " 'strawberry',\n",
              " 'bus',\n",
              " 'crab',\n",
              " 'camel',\n",
              " 'giraffe',\n",
              " 'snake',\n",
              " 'car',\n",
              " 'bat',\n",
              " 'cat',\n",
              " 'frog',\n",
              " 'van',\n",
              " 'mouse',\n",
              " 'airplane',\n",
              " 'fish',\n",
              " 'sailboat',\n",
              " 'dragon',\n",
              " 'bicycle',\n",
              " 'submarine',\n",
              " 'pear']"
            ]
          },
          "metadata": {
            "tags": []
          },
          "execution_count": 10
        }
      ]
    },
    {
      "cell_type": "code",
      "metadata": {
        "id": "SdVMH3bZFYqr",
        "colab_type": "code",
        "colab": {}
      },
      "source": [
        "# Scramble data a split data into test and train set\n",
        "from sklearn.model_selection import train_test_split\n",
        "\n",
        "X_train, X_test, y_train, y_test = train_test_split(\n",
        "   X, y, test_size=0.20, random_state=24)"
      ],
      "execution_count": 11,
      "outputs": []
    },
    {
      "cell_type": "code",
      "metadata": {
        "id": "JmlaONEAXemD",
        "colab_type": "code",
        "colab": {}
      },
      "source": [
        "# Normalize to 1\n",
        "X_train, X_test = X_train / 255.0, X_test / 255.0"
      ],
      "execution_count": 12,
      "outputs": []
    },
    {
      "cell_type": "code",
      "metadata": {
        "id": "mqfAClCdvdXD",
        "colab_type": "code",
        "colab": {}
      },
      "source": [
        "# reshape input\n",
        "X_train = X_train.reshape(X_train.shape[0], 28, 28, 1)\n",
        "X_test = X_test.reshape(X_test.shape[0], 28, 28, 1)"
      ],
      "execution_count": 13,
      "outputs": []
    },
    {
      "cell_type": "code",
      "metadata": {
        "id": "lOT17ETvJcsr",
        "colab_type": "code",
        "colab": {
          "base_uri": "https://localhost:8080/",
          "height": 34
        },
        "outputId": "61705849-2140-4f25-c864-0cd20441b4e9"
      },
      "source": [
        "X_train.shape[0]"
      ],
      "execution_count": 14,
      "outputs": [
        {
          "output_type": "execute_result",
          "data": {
            "text/plain": [
              "384000"
            ]
          },
          "metadata": {
            "tags": []
          },
          "execution_count": 14
        }
      ]
    },
    {
      "cell_type": "code",
      "metadata": {
        "id": "gH8aJjvWXtNH",
        "colab_type": "code",
        "colab": {
          "base_uri": "https://localhost:8080/",
          "height": 34
        },
        "outputId": "6676bb2b-61fc-4d02-88e3-28b45e86e5ed"
      },
      "source": [
        "X_train.shape"
      ],
      "execution_count": 15,
      "outputs": [
        {
          "output_type": "execute_result",
          "data": {
            "text/plain": [
              "(384000, 28, 28, 1)"
            ]
          },
          "metadata": {
            "tags": []
          },
          "execution_count": 15
        }
      ]
    },
    {
      "cell_type": "code",
      "metadata": {
        "id": "wU0aEzgoGU9I",
        "colab_type": "code",
        "colab": {}
      },
      "source": [
        "# one hot encode y category\n",
        "y_train = tf.keras.utils.to_categorical(y_train, num_classes=len(async_categories))\n",
        "y_test = tf.keras.utils.to_categorical(y_test, num_classes=len(async_categories))"
      ],
      "execution_count": 16,
      "outputs": []
    },
    {
      "cell_type": "code",
      "metadata": {
        "id": "J3U4yuFtRQD4",
        "colab_type": "code",
        "colab": {
          "base_uri": "https://localhost:8080/",
          "height": 67
        },
        "outputId": "95f78c96-8359-43b5-c896-fbf50ee44098"
      },
      "source": [
        "print(f'{y_test.shape}.{y_train.shape}')\n",
        "print(f'{X_test.shape},{X_train.shape}')\n",
        "y_train.shape"
      ],
      "execution_count": 17,
      "outputs": [
        {
          "output_type": "stream",
          "text": [
            "(96000, 30).(384000, 30)\n",
            "(96000, 28, 28, 1),(384000, 28, 28, 1)\n"
          ],
          "name": "stdout"
        },
        {
          "output_type": "execute_result",
          "data": {
            "text/plain": [
              "(384000, 30)"
            ]
          },
          "metadata": {
            "tags": []
          },
          "execution_count": 17
        }
      ]
    },
    {
      "cell_type": "code",
      "metadata": {
        "id": "LkOrSkyLIWuA",
        "colab_type": "code",
        "colab": {
          "base_uri": "https://localhost:8080/",
          "height": 589
        },
        "outputId": "dbfe041b-6175-45b6-f9d7-7eaf922c5e05"
      },
      "source": [
        "# set up model\n",
        "model = keras.Sequential()\n",
        "model.add(layers.Convolution2D(16, (3, 3),\n",
        "                        padding='same',\n",
        "                        input_shape=X_train.shape[1:], activation='relu'))\n",
        "model.add(layers.MaxPooling2D(pool_size=(2, 2)))\n",
        "model.add(layers.Convolution2D(32, (3, 3), padding='same', activation= 'relu'))\n",
        "model.add(layers.Convolution2D(32, (3, 3), padding='same', activation= 'relu'))\n",
        "model.add(layers.MaxPooling2D(pool_size=(2, 2)))\n",
        "model.add(layers.Convolution2D(64, (3, 3), padding='same', activation= 'relu'))\n",
        "model.add(layers.Convolution2D(64, (3, 3), padding='same', activation= 'relu'))\n",
        "model.add(layers.Flatten())\n",
        "model.add(layers.Dense(128, activation='relu'))\n",
        "model.add(layers.Dense(64, activation='relu'))\n",
        "model.add(layers.Dense(64, activation='relu'))\n",
        "model.add(layers.Dense(len(async_categories), activation='softmax'))\n",
        "\n",
        "# top_k=tf.keras.metrics.top_k_categorical_accuracy(k=3)\n",
        "adam = tf.optimizers.Adam()\n",
        "model.compile(loss='categorical_crossentropy',\n",
        "              optimizer=adam,\n",
        "              metrics=['accuracy'])\n",
        "print(model.summary())"
      ],
      "execution_count": 18,
      "outputs": [
        {
          "output_type": "stream",
          "text": [
            "Model: \"sequential\"\n",
            "_________________________________________________________________\n",
            "Layer (type)                 Output Shape              Param #   \n",
            "=================================================================\n",
            "conv2d (Conv2D)              (None, 28, 28, 16)        160       \n",
            "_________________________________________________________________\n",
            "max_pooling2d (MaxPooling2D) (None, 14, 14, 16)        0         \n",
            "_________________________________________________________________\n",
            "conv2d_1 (Conv2D)            (None, 14, 14, 32)        4640      \n",
            "_________________________________________________________________\n",
            "conv2d_2 (Conv2D)            (None, 14, 14, 32)        9248      \n",
            "_________________________________________________________________\n",
            "max_pooling2d_1 (MaxPooling2 (None, 7, 7, 32)          0         \n",
            "_________________________________________________________________\n",
            "conv2d_3 (Conv2D)            (None, 7, 7, 64)          18496     \n",
            "_________________________________________________________________\n",
            "conv2d_4 (Conv2D)            (None, 7, 7, 64)          36928     \n",
            "_________________________________________________________________\n",
            "flatten (Flatten)            (None, 3136)              0         \n",
            "_________________________________________________________________\n",
            "dense (Dense)                (None, 128)               401536    \n",
            "_________________________________________________________________\n",
            "dense_1 (Dense)              (None, 64)                8256      \n",
            "_________________________________________________________________\n",
            "dense_2 (Dense)              (None, 64)                4160      \n",
            "_________________________________________________________________\n",
            "dense_3 (Dense)              (None, 30)                1950      \n",
            "=================================================================\n",
            "Total params: 485,374\n",
            "Trainable params: 485,374\n",
            "Non-trainable params: 0\n",
            "_________________________________________________________________\n",
            "None\n"
          ],
          "name": "stdout"
        }
      ]
    },
    {
      "cell_type": "code",
      "metadata": {
        "id": "qTSuiEjzIYnG",
        "colab_type": "code",
        "colab": {
          "base_uri": "https://localhost:8080/",
          "height": 312
        },
        "outputId": "199aa4e6-3c79-417a-d163-9b9b12d2e17f"
      },
      "source": [
        "# train model\n",
        "model.fit(x=X_train, y=y_train, batch_size=256, validation_split=0.1, verbose=2, epochs=8)"
      ],
      "execution_count": 19,
      "outputs": [
        {
          "output_type": "stream",
          "text": [
            "Epoch 1/8\n",
            "1350/1350 - 9s - loss: 1.2555 - accuracy: 0.6353 - val_loss: 0.8811 - val_accuracy: 0.7387\n",
            "Epoch 2/8\n",
            "1350/1350 - 9s - loss: 0.7921 - accuracy: 0.7638 - val_loss: 0.7448 - val_accuracy: 0.7769\n",
            "Epoch 3/8\n",
            "1350/1350 - 9s - loss: 0.6852 - accuracy: 0.7944 - val_loss: 0.6864 - val_accuracy: 0.7954\n",
            "Epoch 4/8\n",
            "1350/1350 - 9s - loss: 0.6241 - accuracy: 0.8115 - val_loss: 0.6582 - val_accuracy: 0.8029\n",
            "Epoch 5/8\n",
            "1350/1350 - 9s - loss: 0.5801 - accuracy: 0.8238 - val_loss: 0.6570 - val_accuracy: 0.8024\n",
            "Epoch 6/8\n",
            "1350/1350 - 9s - loss: 0.5458 - accuracy: 0.8327 - val_loss: 0.6461 - val_accuracy: 0.8093\n",
            "Epoch 7/8\n",
            "1350/1350 - 9s - loss: 0.5153 - accuracy: 0.8413 - val_loss: 0.6484 - val_accuracy: 0.8073\n",
            "Epoch 8/8\n",
            "1350/1350 - 9s - loss: 0.4882 - accuracy: 0.8489 - val_loss: 0.6487 - val_accuracy: 0.8127\n"
          ],
          "name": "stdout"
        },
        {
          "output_type": "execute_result",
          "data": {
            "text/plain": [
              "<tensorflow.python.keras.callbacks.History at 0x7fe5a02f6160>"
            ]
          },
          "metadata": {
            "tags": []
          },
          "execution_count": 19
        }
      ]
    },
    {
      "cell_type": "markdown",
      "metadata": {
        "id": "oz9adQjIPN_o",
        "colab_type": "text"
      },
      "source": [
        ""
      ]
    },
    {
      "cell_type": "code",
      "metadata": {
        "id": "rU6lQVLhMAN8",
        "colab_type": "code",
        "colab": {
          "base_uri": "https://localhost:8080/",
          "height": 52
        },
        "outputId": "010afcb4-e14a-4240-df04-8920f06eb539"
      },
      "source": [
        "# evaluate model\n",
        "score = model.evaluate(X_test, y_test, verbose=1)\n",
        "print('Test accuracy: {:0.2f}%'.format(score[1] * 100))"
      ],
      "execution_count": 20,
      "outputs": [
        {
          "output_type": "stream",
          "text": [
            "3000/3000 [==============================] - 6s 2ms/step - loss: 0.6476 - accuracy: 0.8129\n",
            "Test accuracy: 81.29%\n"
          ],
          "name": "stdout"
        }
      ]
    },
    {
      "cell_type": "code",
      "metadata": {
        "id": "ai2ApJi9qr7m",
        "colab_type": "code",
        "colab": {
          "base_uri": "https://localhost:8080/",
          "height": 1000
        },
        "outputId": "9dbce288-6456-4c15-f62f-86b15148c8c9"
      },
      "source": [
        "# save and covert model with tensorflowjs\n",
        "!pip install tensorflowjs"
      ],
      "execution_count": 34,
      "outputs": [
        {
          "output_type": "stream",
          "text": [
            "Collecting tensorflowjs\n",
            "\u001b[?25l  Downloading https://files.pythonhosted.org/packages/4a/b8/16f378a20a2ee7736233574f65a6cf2154cf8965a8890d27f3d2f33595b2/tensorflowjs-2.0.1-py3-none-any.whl (60kB)\n",
            "\r\u001b[K     |█████▌                          | 10kB 22.3MB/s eta 0:00:01\r\u001b[K     |███████████                     | 20kB 3.0MB/s eta 0:00:01\r\u001b[K     |████████████████▍               | 30kB 4.0MB/s eta 0:00:01\r\u001b[K     |█████████████████████▉          | 40kB 4.3MB/s eta 0:00:01\r\u001b[K     |███████████████████████████▎    | 51kB 3.5MB/s eta 0:00:01\r\u001b[K     |████████████████████████████████| 61kB 2.9MB/s \n",
            "\u001b[?25hCollecting tensorflow-hub==0.7.0\n",
            "\u001b[?25l  Downloading https://files.pythonhosted.org/packages/00/0e/a91780d07592b1abf9c91344ce459472cc19db3b67fdf3a61dca6ebb2f5c/tensorflow_hub-0.7.0-py2.py3-none-any.whl (89kB)\n",
            "\r\u001b[K     |███▊                            | 10kB 25.9MB/s eta 0:00:01\r\u001b[K     |███████▍                        | 20kB 33.7MB/s eta 0:00:01\r\u001b[K     |███████████                     | 30kB 24.5MB/s eta 0:00:01\r\u001b[K     |██████████████▊                 | 40kB 28.9MB/s eta 0:00:01\r\u001b[K     |██████████████████▍             | 51kB 22.9MB/s eta 0:00:01\r\u001b[K     |██████████████████████          | 61kB 19.9MB/s eta 0:00:01\r\u001b[K     |█████████████████████████▊      | 71kB 10.4MB/s eta 0:00:01\r\u001b[K     |█████████████████████████████▍  | 81kB 10.5MB/s eta 0:00:01\r\u001b[K     |████████████████████████████████| 92kB 3.8MB/s \n",
            "\u001b[?25hRequirement already satisfied: numpy>=1.16.4 in /usr/local/lib/python3.6/dist-packages (from tensorflowjs) (1.18.5)\n",
            "Requirement already satisfied: h5py>=2.8.0 in /usr/local/lib/python3.6/dist-packages (from tensorflowjs) (2.10.0)\n",
            "Collecting tensorflow-cpu>=2.1.0<3\n",
            "\u001b[?25l  Downloading https://files.pythonhosted.org/packages/e7/4f/7bf91c87907873177ad99a31014fb77271a693a3a7cb75e522ac6b556416/tensorflow_cpu-2.2.0-cp36-cp36m-manylinux2010_x86_64.whl (144.4MB)\n",
            "\u001b[K     |████████████████████████████████| 144.4MB 114kB/s \n",
            "\u001b[?25hCollecting PyInquirer==1.0.3\n",
            "  Downloading https://files.pythonhosted.org/packages/fb/4c/434b7c454010a284b49d6f1d446fe8dc5960415613d8c0225b9e2efb6724/PyInquirer-1.0.3.tar.gz\n",
            "Requirement already satisfied: six>=1.12.0 in /usr/local/lib/python3.6/dist-packages (from tensorflowjs) (1.12.0)\n",
            "Requirement already satisfied: protobuf>=3.4.0 in /usr/local/lib/python3.6/dist-packages (from tensorflow-hub==0.7.0->tensorflowjs) (3.10.0)\n",
            "Requirement already satisfied: gast==0.3.3 in /usr/local/lib/python3.6/dist-packages (from tensorflow-cpu>=2.1.0<3->tensorflowjs) (0.3.3)\n",
            "Requirement already satisfied: tensorboard<2.3.0,>=2.2.0 in /usr/local/lib/python3.6/dist-packages (from tensorflow-cpu>=2.1.0<3->tensorflowjs) (2.2.2)\n",
            "Requirement already satisfied: tensorflow-estimator<2.3.0,>=2.2.0 in /usr/local/lib/python3.6/dist-packages (from tensorflow-cpu>=2.1.0<3->tensorflowjs) (2.2.0)\n",
            "Requirement already satisfied: scipy==1.4.1; python_version >= \"3\" in /usr/local/lib/python3.6/dist-packages (from tensorflow-cpu>=2.1.0<3->tensorflowjs) (1.4.1)\n",
            "Requirement already satisfied: grpcio>=1.8.6 in /usr/local/lib/python3.6/dist-packages (from tensorflow-cpu>=2.1.0<3->tensorflowjs) (1.29.0)\n",
            "Requirement already satisfied: termcolor>=1.1.0 in /usr/local/lib/python3.6/dist-packages (from tensorflow-cpu>=2.1.0<3->tensorflowjs) (1.1.0)\n",
            "Requirement already satisfied: google-pasta>=0.1.8 in /usr/local/lib/python3.6/dist-packages (from tensorflow-cpu>=2.1.0<3->tensorflowjs) (0.2.0)\n",
            "Requirement already satisfied: wheel>=0.26; python_version >= \"3\" in /usr/local/lib/python3.6/dist-packages (from tensorflow-cpu>=2.1.0<3->tensorflowjs) (0.34.2)\n",
            "Requirement already satisfied: opt-einsum>=2.3.2 in /usr/local/lib/python3.6/dist-packages (from tensorflow-cpu>=2.1.0<3->tensorflowjs) (3.2.1)\n",
            "Requirement already satisfied: astunparse==1.6.3 in /usr/local/lib/python3.6/dist-packages (from tensorflow-cpu>=2.1.0<3->tensorflowjs) (1.6.3)\n",
            "Requirement already satisfied: keras-preprocessing>=1.1.0 in /usr/local/lib/python3.6/dist-packages (from tensorflow-cpu>=2.1.0<3->tensorflowjs) (1.1.2)\n",
            "Requirement already satisfied: absl-py>=0.7.0 in /usr/local/lib/python3.6/dist-packages (from tensorflow-cpu>=2.1.0<3->tensorflowjs) (0.9.0)\n",
            "Requirement already satisfied: wrapt>=1.11.1 in /usr/local/lib/python3.6/dist-packages (from tensorflow-cpu>=2.1.0<3->tensorflowjs) (1.12.1)\n",
            "Collecting prompt_toolkit==1.0.14\n",
            "\u001b[?25l  Downloading https://files.pythonhosted.org/packages/ee/3d/b25d35a9f0d381dd1c02d8e04b37c353caaaff4bc32150328eeebe4931f5/prompt_toolkit-1.0.14-py3-none-any.whl (248kB)\n",
            "\u001b[K     |████████████████████████████████| 256kB 51.8MB/s \n",
            "\u001b[?25hCollecting Pygments>=2.2.0\n",
            "\u001b[?25l  Downloading https://files.pythonhosted.org/packages/2d/68/106af3ae51daf807e9cdcba6a90e518954eb8b70341cee52995540a53ead/Pygments-2.6.1-py3-none-any.whl (914kB)\n",
            "\u001b[K     |████████████████████████████████| 921kB 52.9MB/s \n",
            "\u001b[?25hRequirement already satisfied: regex>=2016.11.21 in /usr/local/lib/python3.6/dist-packages (from PyInquirer==1.0.3->tensorflowjs) (2019.12.20)\n",
            "Requirement already satisfied: setuptools in /usr/local/lib/python3.6/dist-packages (from protobuf>=3.4.0->tensorflow-hub==0.7.0->tensorflowjs) (47.3.1)\n",
            "Requirement already satisfied: requests<3,>=2.21.0 in /usr/local/lib/python3.6/dist-packages (from tensorboard<2.3.0,>=2.2.0->tensorflow-cpu>=2.1.0<3->tensorflowjs) (2.23.0)\n",
            "Requirement already satisfied: google-auth<2,>=1.6.3 in /usr/local/lib/python3.6/dist-packages (from tensorboard<2.3.0,>=2.2.0->tensorflow-cpu>=2.1.0<3->tensorflowjs) (1.17.2)\n",
            "Requirement already satisfied: google-auth-oauthlib<0.5,>=0.4.1 in /usr/local/lib/python3.6/dist-packages (from tensorboard<2.3.0,>=2.2.0->tensorflow-cpu>=2.1.0<3->tensorflowjs) (0.4.1)\n",
            "Requirement already satisfied: tensorboard-plugin-wit>=1.6.0 in /usr/local/lib/python3.6/dist-packages (from tensorboard<2.3.0,>=2.2.0->tensorflow-cpu>=2.1.0<3->tensorflowjs) (1.6.0.post3)\n",
            "Requirement already satisfied: markdown>=2.6.8 in /usr/local/lib/python3.6/dist-packages (from tensorboard<2.3.0,>=2.2.0->tensorflow-cpu>=2.1.0<3->tensorflowjs) (3.2.2)\n",
            "Requirement already satisfied: werkzeug>=0.11.15 in /usr/local/lib/python3.6/dist-packages (from tensorboard<2.3.0,>=2.2.0->tensorflow-cpu>=2.1.0<3->tensorflowjs) (1.0.1)\n",
            "Requirement already satisfied: wcwidth in /usr/local/lib/python3.6/dist-packages (from prompt_toolkit==1.0.14->PyInquirer==1.0.3->tensorflowjs) (0.2.4)\n",
            "Requirement already satisfied: idna<3,>=2.5 in /usr/local/lib/python3.6/dist-packages (from requests<3,>=2.21.0->tensorboard<2.3.0,>=2.2.0->tensorflow-cpu>=2.1.0<3->tensorflowjs) (2.9)\n",
            "Requirement already satisfied: chardet<4,>=3.0.2 in /usr/local/lib/python3.6/dist-packages (from requests<3,>=2.21.0->tensorboard<2.3.0,>=2.2.0->tensorflow-cpu>=2.1.0<3->tensorflowjs) (3.0.4)\n",
            "Requirement already satisfied: certifi>=2017.4.17 in /usr/local/lib/python3.6/dist-packages (from requests<3,>=2.21.0->tensorboard<2.3.0,>=2.2.0->tensorflow-cpu>=2.1.0<3->tensorflowjs) (2020.4.5.2)\n",
            "Requirement already satisfied: urllib3!=1.25.0,!=1.25.1,<1.26,>=1.21.1 in /usr/local/lib/python3.6/dist-packages (from requests<3,>=2.21.0->tensorboard<2.3.0,>=2.2.0->tensorflow-cpu>=2.1.0<3->tensorflowjs) (1.24.3)\n",
            "Requirement already satisfied: rsa<5,>=3.1.4; python_version >= \"3\" in /usr/local/lib/python3.6/dist-packages (from google-auth<2,>=1.6.3->tensorboard<2.3.0,>=2.2.0->tensorflow-cpu>=2.1.0<3->tensorflowjs) (4.6)\n",
            "Requirement already satisfied: cachetools<5.0,>=2.0.0 in /usr/local/lib/python3.6/dist-packages (from google-auth<2,>=1.6.3->tensorboard<2.3.0,>=2.2.0->tensorflow-cpu>=2.1.0<3->tensorflowjs) (4.1.0)\n",
            "Requirement already satisfied: pyasn1-modules>=0.2.1 in /usr/local/lib/python3.6/dist-packages (from google-auth<2,>=1.6.3->tensorboard<2.3.0,>=2.2.0->tensorflow-cpu>=2.1.0<3->tensorflowjs) (0.2.8)\n",
            "Requirement already satisfied: requests-oauthlib>=0.7.0 in /usr/local/lib/python3.6/dist-packages (from google-auth-oauthlib<0.5,>=0.4.1->tensorboard<2.3.0,>=2.2.0->tensorflow-cpu>=2.1.0<3->tensorflowjs) (1.3.0)\n",
            "Requirement already satisfied: importlib-metadata; python_version < \"3.8\" in /usr/local/lib/python3.6/dist-packages (from markdown>=2.6.8->tensorboard<2.3.0,>=2.2.0->tensorflow-cpu>=2.1.0<3->tensorflowjs) (1.6.1)\n",
            "Requirement already satisfied: pyasn1>=0.1.3 in /usr/local/lib/python3.6/dist-packages (from rsa<5,>=3.1.4; python_version >= \"3\"->google-auth<2,>=1.6.3->tensorboard<2.3.0,>=2.2.0->tensorflow-cpu>=2.1.0<3->tensorflowjs) (0.4.8)\n",
            "Requirement already satisfied: oauthlib>=3.0.0 in /usr/local/lib/python3.6/dist-packages (from requests-oauthlib>=0.7.0->google-auth-oauthlib<0.5,>=0.4.1->tensorboard<2.3.0,>=2.2.0->tensorflow-cpu>=2.1.0<3->tensorflowjs) (3.1.0)\n",
            "Requirement already satisfied: zipp>=0.5 in /usr/local/lib/python3.6/dist-packages (from importlib-metadata; python_version < \"3.8\"->markdown>=2.6.8->tensorboard<2.3.0,>=2.2.0->tensorflow-cpu>=2.1.0<3->tensorflowjs) (3.1.0)\n",
            "Building wheels for collected packages: PyInquirer\n",
            "  Building wheel for PyInquirer (setup.py) ... \u001b[?25l\u001b[?25hdone\n",
            "  Created wheel for PyInquirer: filename=PyInquirer-1.0.3-cp36-none-any.whl size=32851 sha256=28f617682bfa8f7b975e41c982696f9119158f66a517d401686326e83367cda9\n",
            "  Stored in directory: /root/.cache/pip/wheels/52/6c/b1/3e4b0e8daf42a92883c7641c0ea8ffb62e0490ebed2faa55ad\n",
            "Successfully built PyInquirer\n",
            "\u001b[31mERROR: datascience 0.10.6 has requirement folium==0.2.1, but you'll have folium 0.8.3 which is incompatible.\u001b[0m\n",
            "Installing collected packages: tensorflow-hub, tensorflow-cpu, prompt-toolkit, Pygments, PyInquirer, tensorflowjs\n",
            "  Found existing installation: tensorflow-hub 0.8.0\n",
            "    Uninstalling tensorflow-hub-0.8.0:\n",
            "      Successfully uninstalled tensorflow-hub-0.8.0\n",
            "  Found existing installation: prompt-toolkit 1.0.18\n",
            "    Uninstalling prompt-toolkit-1.0.18:\n",
            "      Successfully uninstalled prompt-toolkit-1.0.18\n",
            "  Found existing installation: Pygments 2.1.3\n",
            "    Uninstalling Pygments-2.1.3:\n",
            "      Successfully uninstalled Pygments-2.1.3\n",
            "Successfully installed PyInquirer-1.0.3 Pygments-2.6.1 prompt-toolkit-1.0.14 tensorflow-cpu-2.2.0 tensorflow-hub-0.7.0 tensorflowjs-2.0.1\n"
          ],
          "name": "stdout"
        },
        {
          "output_type": "display_data",
          "data": {
            "application/vnd.colab-display-data+json": {
              "pip_warning": {
                "packages": [
                  "prompt_toolkit",
                  "pygments",
                  "tensorflow"
                ]
              }
            }
          },
          "metadata": {
            "tags": []
          }
        }
      ]
    },
    {
      "cell_type": "code",
      "metadata": {
        "id": "uL6HUmCYlD_Q",
        "colab_type": "code",
        "colab": {}
      },
      "source": [
        "import json\n",
        "with open('easyCategories.json', 'w') as outputFile:\n",
        "  json.dump(async_categories, outputFile)"
      ],
      "execution_count": 36,
      "outputs": []
    },
    {
      "cell_type": "code",
      "metadata": {
        "id": "5Y947a_Ommsf",
        "colab_type": "code",
        "colab": {}
      },
      "source": [
        "model.save('kerasEasy30_ver2.h5')"
      ],
      "execution_count": 37,
      "outputs": []
    },
    {
      "cell_type": "code",
      "metadata": {
        "id": "f9-Ph5Ayuf_w",
        "colab_type": "code",
        "colab": {}
      },
      "source": [
        "!mkdir model"
      ],
      "execution_count": 38,
      "outputs": []
    },
    {
      "cell_type": "code",
      "metadata": {
        "id": "_6qrDjYrmqGL",
        "colab_type": "code",
        "colab": {}
      },
      "source": [
        "!tensorflowjs_converter --input_format keras kerasEasy30_ver2.h5 model/"
      ],
      "execution_count": 39,
      "outputs": []
    },
    {
      "cell_type": "code",
      "metadata": {
        "id": "5qQKsq01m22z",
        "colab_type": "code",
        "colab": {}
      },
      "source": [
        "!cp easyCategories.json model/easyCategories.json"
      ],
      "execution_count": 40,
      "outputs": []
    },
    {
      "cell_type": "code",
      "metadata": {
        "id": "xFLmXinUnmQ8",
        "colab_type": "code",
        "colab": {
          "base_uri": "https://localhost:8080/",
          "height": 87
        },
        "outputId": "6050592d-7706-492b-b81c-d0213688a7b5"
      },
      "source": [
        "!zip -r modelEasy30_ver2.zip model"
      ],
      "execution_count": 41,
      "outputs": [
        {
          "output_type": "stream",
          "text": [
            "  adding: model/ (stored 0%)\n",
            "  adding: model/easyCategories.json (deflated 46%)\n",
            "  adding: model/group1-shard1of1.bin (deflated 7%)\n",
            "  adding: model/model.json (deflated 87%)\n"
          ],
          "name": "stdout"
        }
      ]
    },
    {
      "cell_type": "code",
      "metadata": {
        "id": "My1A62VGnvyj",
        "colab_type": "code",
        "colab": {}
      },
      "source": [
        "from google.colab import files\n",
        "files.download('modelEasy30.zip')"
      ],
      "execution_count": null,
      "outputs": []
    },
    {
      "cell_type": "code",
      "metadata": {
        "id": "uR93iPE24Ghp",
        "colab_type": "code",
        "colab": {
          "base_uri": "https://localhost:8080/",
          "height": 139
        },
        "outputId": "d4ea464e-b437-48a5-e086-c2a371f3890c"
      },
      "source": [
        "ones =np.ones([28,28])\n",
        "ones=ones.reshape(1,28,28,1)\n",
        "model.predict(ones)"
      ],
      "execution_count": 29,
      "outputs": [
        {
          "output_type": "execute_result",
          "data": {
            "text/plain": [
              "array([[0.02976173, 0.00521549, 0.03880269, 0.02081672, 0.01554635,\n",
              "        0.04821545, 0.02835448, 0.1195489 , 0.00601889, 0.00950548,\n",
              "        0.13610965, 0.00592991, 0.08776312, 0.03884516, 0.02105447,\n",
              "        0.01004505, 0.0051024 , 0.06252667, 0.05235381, 0.00473287,\n",
              "        0.03498382, 0.09226883, 0.01975525, 0.00689708, 0.00394559,\n",
              "        0.00384679, 0.06649587, 0.00530068, 0.0092143 , 0.01104247]],\n",
              "      dtype=float32)"
            ]
          },
          "metadata": {
            "tags": []
          },
          "execution_count": 29
        }
      ]
    },
    {
      "cell_type": "code",
      "metadata": {
        "id": "lRkNecLVC_KP",
        "colab_type": "code",
        "colab": {
          "base_uri": "https://localhost:8080/",
          "height": 139
        },
        "outputId": "8f5a770a-9580-468e-dcc7-11e06d5d7203"
      },
      "source": [
        "zeros =np.zeros([28,28])\n",
        "zeros=zeros.reshape(1,28,28,1)\n",
        "model.predict(zeros)"
      ],
      "execution_count": 30,
      "outputs": [
        {
          "output_type": "execute_result",
          "data": {
            "text/plain": [
              "array([[0.03748277, 0.05103352, 0.03753025, 0.10061171, 0.02849682,\n",
              "        0.0181957 , 0.04055725, 0.02064783, 0.013049  , 0.01791842,\n",
              "        0.0377751 , 0.01604728, 0.02343873, 0.02597049, 0.01219068,\n",
              "        0.03633172, 0.0191812 , 0.03719921, 0.07304627, 0.03606874,\n",
              "        0.03265548, 0.03480417, 0.04497977, 0.05807493, 0.0463791 ,\n",
              "        0.00861024, 0.01847744, 0.03150827, 0.01812468, 0.02361332]],\n",
              "      dtype=float32)"
            ]
          },
          "metadata": {
            "tags": []
          },
          "execution_count": 30
        }
      ]
    },
    {
      "cell_type": "code",
      "metadata": {
        "id": "ImxfGxkaDI_y",
        "colab_type": "code",
        "colab": {
          "base_uri": "https://localhost:8080/",
          "height": 283
        },
        "outputId": "05c266b1-3cf3-4970-ab84-bfe70c6c915c"
      },
      "source": [
        "testI=25\n",
        "plt.imshow(X_test[testI].reshape(28,28), cmap='binary')"
      ],
      "execution_count": 31,
      "outputs": [
        {
          "output_type": "execute_result",
          "data": {
            "text/plain": [
              "<matplotlib.image.AxesImage at 0x7fe5427cffd0>"
            ]
          },
          "metadata": {
            "tags": []
          },
          "execution_count": 31
        },
        {
          "output_type": "display_data",
          "data": {
            "image/png": "[encoded data removed]",
            "text/plain": [
              "<Figure size 432x288 with 1 Axes>"
            ]
          },
          "metadata": {
            "tags": [],
            "needs_background": "light"
          }
        }
      ]
    },
    {
      "cell_type": "code",
      "metadata": {
        "id": "d3V5-BFcDuTB",
        "colab_type": "code",
        "colab": {
          "base_uri": "https://localhost:8080/",
          "height": 69
        },
        "outputId": "5f411c10-9d55-4770-9519-7bd207425ca4"
      },
      "source": [
        "prediction = model.predict(tf.expand_dims(tf.reshape(X_test[testI],[28,28,1]),0))\n",
        "i=0\n",
        "maxI = 0\n",
        "max = prediction[0][0]\n",
        "for i in range(len(prediction[0])):\n",
        "  if (prediction[0][i]>max):\n",
        "    max = prediction[0][i]\n",
        "    maxI=i\n",
        "  i+=1\n",
        "print(async_categories[maxI])\n",
        "# print(categories[y_test[150]])\n",
        "print(max)\n",
        "for ind in range(len(y_test[testI])):\n",
        "  if y_test[testI][ind]==1:\n",
        "    print(async_categories[ind])"
      ],
      "execution_count": 32,
      "outputs": [
        {
          "output_type": "stream",
          "text": [
            "grapes\n",
            "0.9998017\n",
            "grapes\n"
          ],
          "name": "stdout"
        }
      ]
    },
    {
      "cell_type": "code",
      "metadata": {
        "id": "LQVhHnwjQP37",
        "colab_type": "code",
        "colab": {}
      },
      "source": [
        "# convol1=model.layer[0]\n",
        "# convol1.get_weights()"
      ],
      "execution_count": 33,
      "outputs": []
    },
    {
      "cell_type": "code",
      "metadata": {
        "id": "ZoUty4e1Mjn6",
        "colab_type": "code",
        "colab": {}
      },
      "source": [
        ""
      ],
      "execution_count": 33,
      "outputs": []
    },
    {
      "cell_type": "code",
      "metadata": {
        "id": "03LeOY1XJocL",
        "colab_type": "code",
        "colab": {}
      },
      "source": [
        ""
      ],
      "execution_count": 33,
      "outputs": []
    }
  ]
}