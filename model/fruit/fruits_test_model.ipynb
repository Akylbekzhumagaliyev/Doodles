{
 "cells": [
  {
   "cell_type": "code",
   "execution_count": 1,
   "metadata": {
    "colab": {},
    "colab_type": "code",
    "executionInfo": {
     "elapsed": 1743,
     "status": "ok",
     "timestamp": 1592437464554,
     "user": {
      "displayName": "Brian Perry",
      "photoUrl": "",
      "userId": "10921880190671207311"
     },
     "user_tz": 420
    },
    "id": "HMS4M6WQTOox"
   },
   "outputs": [],
   "source": [
    "# loca test train script\n",
    "import os\n",
    "import numpy as np\n",
    "from tensorflow.keras import layers\n",
    "from tensorflow import keras\n",
    "import tensorflow as tf "
   ]
  },
  {
   "cell_type": "code",
   "execution_count": 6,
   "metadata": {
    "colab": {
     "base_uri": "https://localhost:8080/",
     "height": 34
    },
    "colab_type": "code",
    "executionInfo": {
     "elapsed": 2788,
     "status": "ok",
     "timestamp": 1592437465629,
     "user": {
      "displayName": "Brian Perry",
      "photoUrl": "",
      "userId": "10921880190671207311"
     },
     "user_tz": 420
    },
    "id": "6OyrBJpyVy-W",
    "outputId": "00309f04-0c3f-454e-ab0b-a8c65070a322"
   },
   "outputs": [],
   "source": [
    "fruits =['apple','banana','blackberry','blueberry','grapes','pear','pineapple','strawberry','watermelon']\n",
    "data_loc = '../../data/full_numpy_bitmap_'"
   ]
  },
  {
   "cell_type": "code",
   "execution_count": 4,
   "metadata": {},
   "outputs": [],
   "source": [
    "test = np.load(data_loc+fruits[0]+'.npy')"
   ]
  },
  {
   "cell_type": "code",
   "execution_count": 5,
   "metadata": {},
   "outputs": [
    {
     "output_type": "execute_result",
     "data": {
      "text/plain": "array([  0,   0,   0,   0,   0,   0,   0,   0,   0,   0,   0,   0,   0,\n         0,   0,   0,   0,   0,   0,   0,   0,   0,   0,   0,   0,   0,\n         0,   0,   0,   0,   0,   0,   0,   0,   0,   0,   0,   0,   0,\n         0,   0,   0,  11,  21,  12,   0,   0,   0,   0,   0,   0,   0,\n         0,  92,  20,   0,   0,   0,   0,   0,   0,   0,   0,   0,   0,\n         0,   0,   0,  91, 213, 253, 255, 255, 222,  95,   3,   0,   0,\n         0,   0,   7, 255, 222,   0,   0,   0,   0,   0,   0,   0,   0,\n         0,   0,   0,  24, 190, 255, 196, 118, 100, 109, 196, 255, 121,\n         0,   0,   0,   0,   0, 141,  35,   0,   0,   0,   0,   0,   0,\n         0,   0,   0,   0,   1, 185, 241,  94,   1,   0,   0,   0,   0,\n        63,  25,   0,   0,   0,   0,   0,   0,   0,   0,   0,   0,   0,\n         0,   0,   0,   0,   0,   0,  89, 255, 115, 133, 150,  37,   0,\n         0,   0,   0,   0,   0,   0,   0,   0,   0,   0,   0,   0,   0,\n         0,   0,   0,   0,   0,   0,   0,   0, 207, 241, 252, 255, 250,\n       199,   0,   0,   0,   0,   0,   0,   0,   0,   0,   0,   0,   0,\n         0,   0,   0,   0,   0,   0,   0,   0,  30, 200, 255, 242, 149,\n       252, 232, 195,   3,   0,   0,   0,   0,   0,   0,   0,   0,   0,\n         0,   0,   0,   0,   0,   0,   0,   0,   0,  39, 225, 238, 255,\n        85,   0, 119, 255,  83,   0,   0,   0,   0,   0,   0,   0,   0,\n         0,   0,   0,   0,   0,   0,   0,   0,   0,   0,  43, 229, 231,\n       106, 255,  49,   0,   1, 201, 222,   7,   0,   0,   0,   0,   0,\n         0,   0,   0,   0,   0,   0,   0,   0,   0,   0,   0,  33, 237,\n       220,  33,  79, 255,  75,   0,   0,  61, 255,  94,   0,   0,   0,\n         0,   0,   0,   0,   0,   0,   0,   0,   0,   0,   0,   0,   4,\n       197, 235,  28,   0,   4, 210, 166,   0,   0,   1, 250, 127,   0,\n         0,   0,   0,   0,   0,   0,   0,   0,   0,   0,   0,   0,   0,\n         0, 128, 255,  85,   0,   0,   0,  17,  16,   0,   0,   0, 231,\n       146,   0,   0,   0,   0,   0,   0,   0,   0,   0,   0,   0,   0,\n         0,   0,  56, 251, 153,   0,   0,   0,   0,   0,   0,   0,   0,\n         0, 228, 148,   0,   0,   0,   0,   0,   0,   0,   0,   0,   0,\n         0,   0,   0,   0, 162, 229,  11,   0,   0,   0,   0,   0,   0,\n         0,   0,   0, 246, 131,   0,   0,   0,   0,   0,   0,   0,   0,\n         0,   0,   0,   0,   0,   0, 219, 165,   0,   0,   0,   0,   0,\n         0,   0,   0,   0,  13, 255, 111,   0,   0,   0,   0,   0,   0,\n         0,   0,   0,   0,   0,   0,   0,  21, 254, 109,   0,   0,   0,\n         0,   0,   0,   0,   0,   0,  78, 255,  58,   0,   0,   0,   0,\n         0,   0,   0,   0,   0,   0,   0,   0,   0,  78, 255,  51,   0,\n         0,   0,   0,   0,   0,   0,   0,   0, 152, 237,   3,   0,   0,\n         0,   0,   0,   0,   0,   0,   0,   0,   0,   0,   0, 120, 254,\n         5,   0,   0,   0,   0,   0,   0,   0,   0,   3, 228, 165,   0,\n         0,   0,   0,   0,   0,   0,   0,   0,   0,   0,   0,   0,   0,\n       123, 254,   0,   0,   0,   0,   0,   0,   0,   0,   0,  72, 255,\n        74,   0,   0,   0,   0,   0,   0,   0,   0,   0,   0,   0,   0,\n         0,   0, 114, 255,  13,   0,   0,   0,   0,   0,   0,   0,   0,\n       169, 229,   3,   0,   0,   0,   0,   0,   0,   0,   0,   0,   0,\n         0,   0,   0,   0,  60, 255,  70,   0,   0,   0,   0,   0,   0,\n         0,  53, 252, 129,   0,   0,   0,   0,   0,   0,   0,   0,   0,\n         0,   0,   0,   0,   0,   0,   7, 239, 174,   0,   0,   0,   0,\n         0,   0,   6, 208, 222,  11,   0,   0,   0,   0,   0,   0,   0,\n         0,   0,   0,   0,   0,   0,   0,   0,   0, 110, 255, 100,   0,\n         0,   0,   0,   3, 170, 253,  70,   0,   0,   0,   0,   0,   0,\n         0,   0,   0,   0,   0,   0,   0,   0,   0,   0,   0,   3, 180,\n       255, 178,  99,  68,  91, 200, 254, 104,   0,   0,   0,   0,   0,\n         0,   0,   0,   0,   0,   0,   0,   0,   0,   0,   0,   0,   0,\n         0,   2, 116, 222, 255, 255, 255, 213,  87,   0,   0,   0,   0,\n         0,   0,   0,   0,   0,   0,   0,   0,   0,   0,   0,   0,   0,\n         0,   0,   0,   0,   0,   0,  32,  51,  44,   1,   0,   0,   0,\n         0,   0,   0,   0,   0,   0,   0,   0,   0,   0,   0,   0,   0,\n         0,   0,   0,   0,   0,   0,   0,   0,   0,   0,   0,   0,   0,\n         0,   0,   0,   0,   0,   0,   0,   0,   0,   0,   0,   0,   0,\n         0,   0,   0,   0], dtype=uint8)"
     },
     "metadata": {},
     "execution_count": 5
    }
   ],
   "source": [
    "test[0]"
   ]
  },
  {
   "cell_type": "code",
   "execution_count": 6,
   "metadata": {},
   "outputs": [],
   "source": [
    "X = np.empty([0, 784])\n",
    "y = np.empty([0])\n",
    "i=0\n",
    "for fruit in fruits:\n",
    "    drawings = np.load(data_loc+fruit+'.npy')\n",
    "    # drawings = drawings[0: 5000, :]\n",
    "\n",
    "    labels = np.full(drawings.shape[0], i)\n",
    "\n",
    "    X = np.concatenate((X, drawings), axis=0)\n",
    "    y = np.append(y, labels)\n",
    "\n",
    "    X /= 255.0\n",
    "    i += 1"
   ]
  },
  {
   "cell_type": "code",
   "execution_count": 7,
   "metadata": {
    "colab": {
     "base_uri": "https://localhost:8080/",
     "height": 299
    },
    "colab_type": "code",
    "executionInfo": {
     "elapsed": 6449,
     "status": "ok",
     "timestamp": 1592437469318,
     "user": {
      "displayName": "Brian Perry",
      "photoUrl": "",
      "userId": "10921880190671207311"
     },
     "user_tz": 420
    },
    "id": "NR-ZLL8QriUO",
    "outputId": "e7cb3f48-b6f2-44c4-bd42-0cfe83dccf48",
    "tags": []
   },
   "outputs": [
    {
     "output_type": "stream",
     "name": "stdout",
     "text": "138825\napple\n"
    },
    {
     "output_type": "display_data",
     "data": {
      "text/plain": "<Figure size 432x288 with 1 Axes>",
      "image/svg+xml": "<?xml version=\"1.0\" encoding=\"utf-8\" standalone=\"no\"?>\r\n<!DOCTYPE svg PUBLIC \"-//W3C//DTD SVG 1.1//EN\"\r\n  \"http://www.w3.org/Graphics/SVG/1.1/DTD/svg11.dtd\">\r\n<!-- Created with matplotlib (https://matplotlib.org/) -->\r\n<svg height=\"248.518125pt\" version=\"1.1\" viewBox=\"0 0 251.565 248.518125\" width=\"251.565pt\" xmlns=\"http://www.w3.org/2000/svg\" xmlns:xlink=\"http://www.w3.org/1999/xlink\">\r\n <defs>\r\n  <style type=\"text/css\">\r\n*{stroke-linecap:butt;stroke-linejoin:round;}\r\n  </style>\r\n </defs>\r\n <g id=\"figure_1\">\r\n  <g id=\"patch_1\">\r\n   <path d=\"M 0 248.518125 \r\nL 251.565 248.518125 \r\nL 251.565 0 \r\nL 0 0 \r\nz\r\n\" style=\"fill:none;\"/>\r\n  </g>\r\n  <g id=\"axes_1\">\r\n   <g id=\"patch_2\">\r\n    <path d=\"M 26.925 224.64 \r\nL 244.365 224.64 \r\nL 244.365 7.2 \r\nL 26.925 7.2 \r\nz\r\n\" style=\"fill:#ffffff;\"/>\r\n   </g>\r\n   <g clip-path=\"url(#pcbfdeac46e)\">\r\n    <image height=\"218\" id=\"imageef792e1c65\" transform=\"scale(1 -1)translate(0 -218)\" width=\"218\" x=\"26.925\" xlink:href=\"data:image/png;base64,\r\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\" y=\"-6.64\"/>\r\n   </g>\r\n   <g id=\"matplotlib.axis_1\">\r\n    <g id=\"xtick_1\">\r\n     <g id=\"line2d_1\">\r\n      <defs>\r\n       <path d=\"M 0 0 \r\nL 0 3.5 \r\n\" id=\"m683b30b8f4\" style=\"stroke:#000000;stroke-width:0.8;\"/>\r\n      </defs>\r\n      <g>\r\n       <use style=\"stroke:#000000;stroke-width:0.8;\" x=\"30.807857\" xlink:href=\"#m683b30b8f4\" y=\"224.64\"/>\r\n      </g>\r\n     </g>\r\n     <g id=\"text_1\">\r\n      <!-- 0 -->\r\n      <defs>\r\n       <path d=\"M 31.78125 66.40625 \r\nQ 24.171875 66.40625 20.328125 58.90625 \r\nQ 16.5 51.421875 16.5 36.375 \r\nQ 16.5 21.390625 20.328125 13.890625 \r\nQ 24.171875 6.390625 31.78125 6.390625 \r\nQ 39.453125 6.390625 43.28125 13.890625 \r\nQ 47.125 21.390625 47.125 36.375 \r\nQ 47.125 51.421875 43.28125 58.90625 \r\nQ 39.453125 66.40625 31.78125 66.40625 \r\nz\r\nM 31.78125 74.21875 \r\nQ 44.046875 74.21875 50.515625 64.515625 \r\nQ 56.984375 54.828125 56.984375 36.375 \r\nQ 56.984375 17.96875 50.515625 8.265625 \r\nQ 44.046875 -1.421875 31.78125 -1.421875 \r\nQ 19.53125 -1.421875 13.0625 8.265625 \r\nQ 6.59375 17.96875 6.59375 36.375 \r\nQ 6.59375 54.828125 13.0625 64.515625 \r\nQ 19.53125 74.21875 31.78125 74.21875 \r\nz\r\n\" id=\"DejaVuSans-48\"/>\r\n      </defs>\r\n      <g transform=\"translate(27.626607 239.238437)scale(0.1 -0.1)\">\r\n       <use xlink:href=\"#DejaVuSans-48\"/>\r\n      </g>\r\n     </g>\r\n    </g>\r\n    <g id=\"xtick_2\">\r\n     <g id=\"line2d_2\">\r\n      <g>\r\n       <use style=\"stroke:#000000;stroke-width:0.8;\" x=\"69.636429\" xlink:href=\"#m683b30b8f4\" y=\"224.64\"/>\r\n      </g>\r\n     </g>\r\n     <g id=\"text_2\">\r\n      <!-- 5 -->\r\n      <defs>\r\n       <path d=\"M 10.796875 72.90625 \r\nL 49.515625 72.90625 \r\nL 49.515625 64.59375 \r\nL 19.828125 64.59375 \r\nL 19.828125 46.734375 \r\nQ 21.96875 47.46875 24.109375 47.828125 \r\nQ 26.265625 48.1875 28.421875 48.1875 \r\nQ 40.625 48.1875 47.75 41.5 \r\nQ 54.890625 34.8125 54.890625 23.390625 \r\nQ 54.890625 11.625 47.5625 5.09375 \r\nQ 40.234375 -1.421875 26.90625 -1.421875 \r\nQ 22.3125 -1.421875 17.546875 -0.640625 \r\nQ 12.796875 0.140625 7.71875 1.703125 \r\nL 7.71875 11.625 \r\nQ 12.109375 9.234375 16.796875 8.0625 \r\nQ 21.484375 6.890625 26.703125 6.890625 \r\nQ 35.15625 6.890625 40.078125 11.328125 \r\nQ 45.015625 15.765625 45.015625 23.390625 \r\nQ 45.015625 31 40.078125 35.4375 \r\nQ 35.15625 39.890625 26.703125 39.890625 \r\nQ 22.75 39.890625 18.8125 39.015625 \r\nQ 14.890625 38.140625 10.796875 36.28125 \r\nz\r\n\" id=\"DejaVuSans-53\"/>\r\n      </defs>\r\n      <g transform=\"translate(66.455179 239.238437)scale(0.1 -0.1)\">\r\n       <use xlink:href=\"#DejaVuSans-53\"/>\r\n      </g>\r\n     </g>\r\n    </g>\r\n    <g id=\"xtick_3\">\r\n     <g id=\"line2d_3\">\r\n      <g>\r\n       <use style=\"stroke:#000000;stroke-width:0.8;\" x=\"108.465\" xlink:href=\"#m683b30b8f4\" y=\"224.64\"/>\r\n      </g>\r\n     </g>\r\n     <g id=\"text_3\">\r\n      <!-- 10 -->\r\n      <defs>\r\n       <path d=\"M 12.40625 8.296875 \r\nL 28.515625 8.296875 \r\nL 28.515625 63.921875 \r\nL 10.984375 60.40625 \r\nL 10.984375 69.390625 \r\nL 28.421875 72.90625 \r\nL 38.28125 72.90625 \r\nL 38.28125 8.296875 \r\nL 54.390625 8.296875 \r\nL 54.390625 0 \r\nL 12.40625 0 \r\nz\r\n\" id=\"DejaVuSans-49\"/>\r\n      </defs>\r\n      <g transform=\"translate(102.1025 239.238437)scale(0.1 -0.1)\">\r\n       <use xlink:href=\"#DejaVuSans-49\"/>\r\n       <use x=\"63.623047\" xlink:href=\"#DejaVuSans-48\"/>\r\n      </g>\r\n     </g>\r\n    </g>\r\n    <g id=\"xtick_4\">\r\n     <g id=\"line2d_4\">\r\n      <g>\r\n       <use style=\"stroke:#000000;stroke-width:0.8;\" x=\"147.293571\" xlink:href=\"#m683b30b8f4\" y=\"224.64\"/>\r\n      </g>\r\n     </g>\r\n     <g id=\"text_4\">\r\n      <!-- 15 -->\r\n      <g transform=\"translate(140.931071 239.238437)scale(0.1 -0.1)\">\r\n       <use xlink:href=\"#DejaVuSans-49\"/>\r\n       <use x=\"63.623047\" xlink:href=\"#DejaVuSans-53\"/>\r\n      </g>\r\n     </g>\r\n    </g>\r\n    <g id=\"xtick_5\">\r\n     <g id=\"line2d_5\">\r\n      <g>\r\n       <use style=\"stroke:#000000;stroke-width:0.8;\" x=\"186.122143\" xlink:href=\"#m683b30b8f4\" y=\"224.64\"/>\r\n      </g>\r\n     </g>\r\n     <g id=\"text_5\">\r\n      <!-- 20 -->\r\n      <defs>\r\n       <path d=\"M 19.1875 8.296875 \r\nL 53.609375 8.296875 \r\nL 53.609375 0 \r\nL 7.328125 0 \r\nL 7.328125 8.296875 \r\nQ 12.9375 14.109375 22.625 23.890625 \r\nQ 32.328125 33.6875 34.8125 36.53125 \r\nQ 39.546875 41.84375 41.421875 45.53125 \r\nQ 43.3125 49.21875 43.3125 52.78125 \r\nQ 43.3125 58.59375 39.234375 62.25 \r\nQ 35.15625 65.921875 28.609375 65.921875 \r\nQ 23.96875 65.921875 18.8125 64.3125 \r\nQ 13.671875 62.703125 7.8125 59.421875 \r\nL 7.8125 69.390625 \r\nQ 13.765625 71.78125 18.9375 73 \r\nQ 24.125 74.21875 28.421875 74.21875 \r\nQ 39.75 74.21875 46.484375 68.546875 \r\nQ 53.21875 62.890625 53.21875 53.421875 \r\nQ 53.21875 48.921875 51.53125 44.890625 \r\nQ 49.859375 40.875 45.40625 35.40625 \r\nQ 44.1875 33.984375 37.640625 27.21875 \r\nQ 31.109375 20.453125 19.1875 8.296875 \r\nz\r\n\" id=\"DejaVuSans-50\"/>\r\n      </defs>\r\n      <g transform=\"translate(179.759643 239.238437)scale(0.1 -0.1)\">\r\n       <use xlink:href=\"#DejaVuSans-50\"/>\r\n       <use x=\"63.623047\" xlink:href=\"#DejaVuSans-48\"/>\r\n      </g>\r\n     </g>\r\n    </g>\r\n    <g id=\"xtick_6\">\r\n     <g id=\"line2d_6\">\r\n      <g>\r\n       <use style=\"stroke:#000000;stroke-width:0.8;\" x=\"224.950714\" xlink:href=\"#m683b30b8f4\" y=\"224.64\"/>\r\n      </g>\r\n     </g>\r\n     <g id=\"text_6\">\r\n      <!-- 25 -->\r\n      <g transform=\"translate(218.588214 239.238437)scale(0.1 -0.1)\">\r\n       <use xlink:href=\"#DejaVuSans-50\"/>\r\n       <use x=\"63.623047\" xlink:href=\"#DejaVuSans-53\"/>\r\n      </g>\r\n     </g>\r\n    </g>\r\n   </g>\r\n   <g id=\"matplotlib.axis_2\">\r\n    <g id=\"ytick_1\">\r\n     <g id=\"line2d_7\">\r\n      <defs>\r\n       <path d=\"M 0 0 \r\nL -3.5 0 \r\n\" id=\"mce7a6e8aa8\" style=\"stroke:#000000;stroke-width:0.8;\"/>\r\n      </defs>\r\n      <g>\r\n       <use style=\"stroke:#000000;stroke-width:0.8;\" x=\"26.925\" xlink:href=\"#mce7a6e8aa8\" y=\"11.082857\"/>\r\n      </g>\r\n     </g>\r\n     <g id=\"text_7\">\r\n      <!-- 0 -->\r\n      <g transform=\"translate(13.5625 14.882076)scale(0.1 -0.1)\">\r\n       <use xlink:href=\"#DejaVuSans-48\"/>\r\n      </g>\r\n     </g>\r\n    </g>\r\n    <g id=\"ytick_2\">\r\n     <g id=\"line2d_8\">\r\n      <g>\r\n       <use style=\"stroke:#000000;stroke-width:0.8;\" x=\"26.925\" xlink:href=\"#mce7a6e8aa8\" y=\"49.911429\"/>\r\n      </g>\r\n     </g>\r\n     <g id=\"text_8\">\r\n      <!-- 5 -->\r\n      <g transform=\"translate(13.5625 53.710647)scale(0.1 -0.1)\">\r\n       <use xlink:href=\"#DejaVuSans-53\"/>\r\n      </g>\r\n     </g>\r\n    </g>\r\n    <g id=\"ytick_3\">\r\n     <g id=\"line2d_9\">\r\n      <g>\r\n       <use style=\"stroke:#000000;stroke-width:0.8;\" x=\"26.925\" xlink:href=\"#mce7a6e8aa8\" y=\"88.74\"/>\r\n      </g>\r\n     </g>\r\n     <g id=\"text_9\">\r\n      <!-- 10 -->\r\n      <g transform=\"translate(7.2 92.539219)scale(0.1 -0.1)\">\r\n       <use xlink:href=\"#DejaVuSans-49\"/>\r\n       <use x=\"63.623047\" xlink:href=\"#DejaVuSans-48\"/>\r\n      </g>\r\n     </g>\r\n    </g>\r\n    <g id=\"ytick_4\">\r\n     <g id=\"line2d_10\">\r\n      <g>\r\n       <use style=\"stroke:#000000;stroke-width:0.8;\" x=\"26.925\" xlink:href=\"#mce7a6e8aa8\" y=\"127.568571\"/>\r\n      </g>\r\n     </g>\r\n     <g id=\"text_10\">\r\n      <!-- 15 -->\r\n      <g transform=\"translate(7.2 131.36779)scale(0.1 -0.1)\">\r\n       <use xlink:href=\"#DejaVuSans-49\"/>\r\n       <use x=\"63.623047\" xlink:href=\"#DejaVuSans-53\"/>\r\n      </g>\r\n     </g>\r\n    </g>\r\n    <g id=\"ytick_5\">\r\n     <g id=\"line2d_11\">\r\n      <g>\r\n       <use style=\"stroke:#000000;stroke-width:0.8;\" x=\"26.925\" xlink:href=\"#mce7a6e8aa8\" y=\"166.397143\"/>\r\n      </g>\r\n     </g>\r\n     <g id=\"text_11\">\r\n      <!-- 20 -->\r\n      <g transform=\"translate(7.2 170.196362)scale(0.1 -0.1)\">\r\n       <use xlink:href=\"#DejaVuSans-50\"/>\r\n       <use x=\"63.623047\" xlink:href=\"#DejaVuSans-48\"/>\r\n      </g>\r\n     </g>\r\n    </g>\r\n    <g id=\"ytick_6\">\r\n     <g id=\"line2d_12\">\r\n      <g>\r\n       <use style=\"stroke:#000000;stroke-width:0.8;\" x=\"26.925\" xlink:href=\"#mce7a6e8aa8\" y=\"205.225714\"/>\r\n      </g>\r\n     </g>\r\n     <g id=\"text_12\">\r\n      <!-- 25 -->\r\n      <g transform=\"translate(7.2 209.024933)scale(0.1 -0.1)\">\r\n       <use xlink:href=\"#DejaVuSans-50\"/>\r\n       <use x=\"63.623047\" xlink:href=\"#DejaVuSans-53\"/>\r\n      </g>\r\n     </g>\r\n    </g>\r\n   </g>\r\n   <g id=\"patch_3\">\r\n    <path d=\"M 26.925 224.64 \r\nL 26.925 7.2 \r\n\" style=\"fill:none;stroke:#000000;stroke-linecap:square;stroke-linejoin:miter;stroke-width:0.8;\"/>\r\n   </g>\r\n   <g id=\"patch_4\">\r\n    <path d=\"M 244.365 224.64 \r\nL 244.365 7.2 \r\n\" style=\"fill:none;stroke:#000000;stroke-linecap:square;stroke-linejoin:miter;stroke-width:0.8;\"/>\r\n   </g>\r\n   <g id=\"patch_5\">\r\n    <path d=\"M 26.925 224.64 \r\nL 244.365 224.64 \r\n\" style=\"fill:none;stroke:#000000;stroke-linecap:square;stroke-linejoin:miter;stroke-width:0.8;\"/>\r\n   </g>\r\n   <g id=\"patch_6\">\r\n    <path d=\"M 26.925 7.2 \r\nL 244.365 7.2 \r\n\" style=\"fill:none;stroke:#000000;stroke-linecap:square;stroke-linejoin:miter;stroke-width:0.8;\"/>\r\n   </g>\r\n  </g>\r\n </g>\r\n <defs>\r\n  <clipPath id=\"pcbfdeac46e\">\r\n   <rect height=\"217.44\" width=\"217.44\" x=\"26.925\" y=\"7.2\"/>\r\n  </clipPath>\r\n </defs>\r\n</svg>\r\n",
      "image/png": "[encoded data removed]"
     },
     "metadata": {
      "needs_background": "light"
     }
    }
   ],
   "source": [
    "import matplotlib.pyplot as plt\n",
    "%matplotlib inline\n",
    "i =10\n",
    "print(i)\n",
    "plt.imshow(X[i].reshape(28,28), cmap='binary')\n",
    "print(fruits[int(y[i].item())])\n"
   ]
  },
  {
   "cell_type": "code",
   "execution_count": 8,
   "metadata": {
    "colab": {
     "base_uri": "https://localhost:8080/",
     "height": 34
    },
    "colab_type": "code",
    "executionInfo": {
     "elapsed": 6442,
     "status": "ok",
     "timestamp": 1592437469319,
     "user": {
      "displayName": "Brian Perry",
      "photoUrl": "",
      "userId": "10921880190671207311"
     },
     "user_tz": 420
    },
    "id": "Ljv6IoRvukkR",
    "outputId": "74203eee-4a85-4877-871e-f1a2fa3f7c88"
   },
   "outputs": [
    {
     "output_type": "execute_result",
     "data": {
      "text/plain": "1361209"
     },
     "metadata": {},
     "execution_count": 8
    }
   ],
   "source": [
    "y.shape[0]"
   ]
  },
  {
   "cell_type": "code",
   "execution_count": 9,
   "metadata": {
    "colab": {},
    "colab_type": "code",
    "executionInfo": {
     "elapsed": 6979,
     "status": "ok",
     "timestamp": 1592437469866,
     "user": {
      "displayName": "Brian Perry",
      "photoUrl": "",
      "userId": "10921880190671207311"
     },
     "user_tz": 420
    },
    "id": "SdVMH3bZFYqr"
   },
   "outputs": [],
   "source": [
    "from sklearn.model_selection import train_test_split\n",
    "\n",
    "X_train, X_test, y_train, y_test = train_test_split(\n",
    "   X, y, test_size=0.20, random_state=24)\n"
   ]
  },
  {
   "cell_type": "code",
   "execution_count": 10,
   "metadata": {
    "colab": {},
    "colab_type": "code",
    "executionInfo": {
     "elapsed": 407,
     "status": "ok",
     "timestamp": 1592437519817,
     "user": {
      "displayName": "Brian Perry",
      "photoUrl": "",
      "userId": "10921880190671207311"
     },
     "user_tz": 420
    },
    "id": "mqfAClCdvdXD"
   },
   "outputs": [],
   "source": [
    "X_train_tf = tf.reshape(X_train, [-1,28,28,1])\n",
    "X_test_tf = tf.reshape(X_test, [-1,28,28,1])"
   ]
  },
  {
   "cell_type": "code",
   "execution_count": 12,
   "metadata": {
    "colab": {},
    "colab_type": "code",
    "executionInfo": {
     "elapsed": 6961,
     "status": "ok",
     "timestamp": 1592437469875,
     "user": {
      "displayName": "Brian Perry",
      "photoUrl": "",
      "userId": "10921880190671207311"
     },
     "user_tz": 420
    },
    "id": "wU0aEzgoGU9I"
   },
   "outputs": [],
   "source": [
    "y_train = tf.keras.utils.to_categorical(y_train, num_classes=len(fruits))\n",
    "y_test = tf.keras.utils.to_categorical(y_test, num_classes=len(fruits))\n",
    "y_train = tf.convert_to_tensor(y_train)\n",
    "y_test = tf.convert_to_tensor(y_test)"
   ]
  },
  {
   "cell_type": "code",
   "execution_count": 13,
   "metadata": {
    "colab": {
     "base_uri": "https://localhost:8080/",
     "height": 68
    },
    "colab_type": "code",
    "executionInfo": {
     "elapsed": 6955,
     "status": "ok",
     "timestamp": 1592437469876,
     "user": {
      "displayName": "Brian Perry",
      "photoUrl": "",
      "userId": "10921880190671207311"
     },
     "user_tz": 420
    },
    "id": "J3U4yuFtRQD4",
    "outputId": "44e9185f-06dc-4435-84dc-95dedab93e88",
    "tags": []
   },
   "outputs": [
    {
     "output_type": "stream",
     "name": "stdout",
     "text": "(272242, 9).(1088967, 9)\n(272242, 28, 28, 1),(1088967, 28, 28, 1)\n"
    },
    {
     "output_type": "execute_result",
     "data": {
      "text/plain": "TensorShape([1088967, 9])"
     },
     "metadata": {},
     "execution_count": 13
    }
   ],
   "source": [
    "print(f'{y_test.shape}.{y_train.shape}')\n",
    "print(f'{X_test_tf.shape},{X_train_tf.shape}')\n",
    "y_train.shape"
   ]
  },
  {
   "cell_type": "code",
   "execution_count": 14,
   "metadata": {
    "colab": {
     "base_uri": "https://localhost:8080/",
     "height": 476
    },
    "colab_type": "code",
    "executionInfo": {
     "elapsed": 7098,
     "status": "ok",
     "timestamp": 1592437470033,
     "user": {
      "displayName": "Brian Perry",
      "photoUrl": "",
      "userId": "10921880190671207311"
     },
     "user_tz": 420
    },
    "id": "LkOrSkyLIWuA",
    "outputId": "184c113c-eb09-4094-ef55-31cc4b2bccf5",
    "tags": []
   },
   "outputs": [
    {
     "output_type": "stream",
     "name": "stdout",
     "text": "Model: \"sequential\"\n_________________________________________________________________\nLayer (type)                 Output Shape              Param #   \n=================================================================\nconv2d (Conv2D)              (None, 28, 28, 16)        160       \n_________________________________________________________________\nmax_pooling2d (MaxPooling2D) (None, 14, 14, 16)        0         \n_________________________________________________________________\nconv2d_1 (Conv2D)            (None, 14, 14, 32)        4640      \n_________________________________________________________________\nmax_pooling2d_1 (MaxPooling2 (None, 7, 7, 32)          0         \n_________________________________________________________________\nconv2d_2 (Conv2D)            (None, 7, 7, 64)          18496     \n_________________________________________________________________\nmax_pooling2d_2 (MaxPooling2 (None, 3, 3, 64)          0         \n_________________________________________________________________\nflatten (Flatten)            (None, 576)               0         \n_________________________________________________________________\ndense (Dense)                (None, 150)               86550     \n_________________________________________________________________\ndense_1 (Dense)              (None, 9)                 1359      \n=================================================================\nTotal params: 111,205\nTrainable params: 111,205\nNon-trainable params: 0\n_________________________________________________________________\nNone\n"
    }
   ],
   "source": [
    "model = keras.Sequential()\n",
    "model.add(layers.Convolution2D(16, (3,3),\n",
    "                               padding='same',\n",
    "                               input_shape=X_train_tf.shape[1:], activation='relu'))\n",
    "model.add(layers.MaxPooling2D(pool_size=(2,2)))\n",
    "model.add(layers.Convolution2D(32, (3,3), padding='same', activation='relu'))\n",
    "model.add(layers.MaxPooling2D(pool_size=(2,2)))\n",
    "model.add(layers.Convolution2D(64, (3,3), padding='same', activation='relu'))\n",
    "model.add(layers.MaxPooling2D(pool_size=(2,2)))\n",
    "model.add(layers.Flatten())\n",
    "model.add(layers.Dense(150, activation='relu'))\n",
    "model.add(layers.Dense(9, activation='softmax'))\n",
    "\n",
    "adam = tf.optimizers.Adam()\n",
    "model.compile(loss='categorical_crossentropy', optimizer='adam', metrics=['accuracy'])\n",
    "            \n",
    "print(model.summary())"
   ]
  },
  {
   "cell_type": "code",
   "execution_count": 15,
   "metadata": {
    "colab": {
     "base_uri": "https://localhost:8080/",
     "height": 748
    },
    "colab_type": "code",
    "executionInfo": {
     "elapsed": 7564,
     "status": "error",
     "timestamp": 1592437470512,
     "user": {
      "displayName": "Brian Perry",
      "photoUrl": "",
      "userId": "10921880190671207311"
     },
     "user_tz": 420
    },
    "id": "qTSuiEjzIYnG",
    "outputId": "c34a6e15-00c6-434f-c6d8-ce0f1740ca51",
    "tags": []
   },
   "outputs": [
    {
     "output_type": "stream",
     "name": "stdout",
     "text": "Epoch 1/6\n3829/3829 - 193s - loss: 1.6322 - accuracy: 0.3841 - val_loss: 1.5313 - val_accuracy: 0.4127\nEpoch 2/6\n3829/3829 - 188s - loss: 1.5318 - accuracy: 0.4138 - val_loss: 1.5313 - val_accuracy: 0.4127\nEpoch 3/6\n3829/3829 - 195s - loss: 1.5282 - accuracy: 0.4142 - val_loss: 1.5310 - val_accuracy: 0.4127\nEpoch 4/6\n3829/3829 - 191s - loss: 1.5280 - accuracy: 0.4142 - val_loss: 1.5304 - val_accuracy: 0.4127\nEpoch 5/6\n3829/3829 - 191s - loss: 1.5278 - accuracy: 0.4142 - val_loss: 1.5297 - val_accuracy: 0.4127\nEpoch 6/6\n3829/3829 - 191s - loss: 1.5320 - accuracy: 0.4141 - val_loss: 1.5298 - val_accuracy: 0.4127\n"
    },
    {
     "output_type": "execute_result",
     "data": {
      "text/plain": "<tensorflow.python.keras.callbacks.History at 0x25216bf9208>"
     },
     "metadata": {},
     "execution_count": 15
    }
   ],
   "source": [
    "model.fit(x=X_train_tf, y=y_train, batch_size=256, validation_split=0.1, verbose=2, epochs=6)"
   ]
  },
  {
   "cell_type": "markdown",
   "metadata": {
    "colab_type": "text",
    "id": "oz9adQjIPN_o"
   },
   "source": []
  },
  {
   "cell_type": "code",
   "execution_count": 16,
   "metadata": {
    "colab": {},
    "colab_type": "code",
    "executionInfo": {
     "elapsed": 7545,
     "status": "aborted",
     "timestamp": 1592437470508,
     "user": {
      "displayName": "Brian Perry",
      "photoUrl": "",
      "userId": "10921880190671207311"
     },
     "user_tz": 420
    },
    "id": "rU6lQVLhMAN8",
    "tags": []
   },
   "outputs": [
    {
     "output_type": "stream",
     "name": "stdout",
     "text": "Test accuracy: 41.23%\n"
    }
   ],
   "source": [
    "score = model.evaluate(X_test_tf, y_test, verbose=0)\n",
    "print('Test accuracy: {:0.2f}%'.format(score[1] * 100))"
   ]
  },
  {
   "cell_type": "code",
   "execution_count": 124,
   "metadata": {},
   "outputs": [
    {
     "data": {
      "text/plain": [
       "<matplotlib.image.AxesImage at 0x201ac211508>"
      ]
     },
     "execution_count": 124,
     "metadata": {},
     "output_type": "execute_result"
    },
    {
     "data": {
      "image/png": "[encoded data removed]",
      "image/svg+xml": [
       "<?xml version=\"1.0\" encoding=\"utf-8\" standalone=\"no\"?>\r\n",
       "<!DOCTYPE svg PUBLIC \"-//W3C//DTD SVG 1.1//EN\"\r\n",
       "  \"http://www.w3.org/Graphics/SVG/1.1/DTD/svg11.dtd\">\r\n",
       "<!-- Created with matplotlib (https://matplotlib.org/) -->\r\n",
       "<svg height=\"248.518125pt\" version=\"1.1\" viewBox=\"0 0 251.565 248.518125\" width=\"251.565pt\" xmlns=\"http://www.w3.org/2000/svg\" xmlns:xlink=\"http://www.w3.org/1999/xlink\">\r\n",
       " <defs>\r\n",
       "  <style type=\"text/css\">\r\n",
       "*{stroke-linecap:butt;stroke-linejoin:round;}\r\n",
       "  </style>\r\n",
       " </defs>\r\n",
       " <g id=\"figure_1\">\r\n",
       "  <g id=\"patch_1\">\r\n",
       "   <path d=\"M 0 248.518125 \r\n",
       "L 251.565 248.518125 \r\n",
       "L 251.565 0 \r\n",
       "L 0 0 \r\n",
       "z\r\n",
       "\" style=\"fill:none;\"/>\r\n",
       "  </g>\r\n",
       "  <g id=\"axes_1\">\r\n",
       "   <g id=\"patch_2\">\r\n",
       "    <path d=\"M 26.925 224.64 \r\n",
       "L 244.365 224.64 \r\n",
       "L 244.365 7.2 \r\n",
       "L 26.925 7.2 \r\n",
       "z\r\n",
       "\" style=\"fill:#ffffff;\"/>\r\n",
       "   </g>\r\n",
       "   <g clip-path=\"url(#p3ba1bce0d2)\">\r\n",
       "    <image height=\"218\" id=\"image8d217e9b16\" transform=\"scale(1 -1)translate(0 -218)\" width=\"218\" x=\"26.925\" xlink:href=\"data:image/png;base64,\r\n",
       "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\" y=\"-6.64\"/>\r\n",
       "   </g>\r\n",
       "   <g id=\"matplotlib.axis_1\">\r\n",
       "    <g id=\"xtick_1\">\r\n",
       "     <g id=\"line2d_1\">\r\n",
       "      <defs>\r\n",
       "       <path d=\"M 0 0 \r\n",
       "L 0 3.5 \r\n",
       "\" id=\"m02e8d97e46\" style=\"stroke:#000000;stroke-width:0.8;\"/>\r\n",
       "      </defs>\r\n",
       "      <g>\r\n",
       "       <use style=\"stroke:#000000;stroke-width:0.8;\" x=\"30.807857\" xlink:href=\"#m02e8d97e46\" y=\"224.64\"/>\r\n",
       "      </g>\r\n",
       "     </g>\r\n",
       "     <g id=\"text_1\">\r\n",
       "      <!-- 0 -->\r\n",
       "      <defs>\r\n",
       "       <path d=\"M 31.78125 66.40625 \r\n",
       "Q 24.171875 66.40625 20.328125 58.90625 \r\n",
       "Q 16.5 51.421875 16.5 36.375 \r\n",
       "Q 16.5 21.390625 20.328125 13.890625 \r\n",
       "Q 24.171875 6.390625 31.78125 6.390625 \r\n",
       "Q 39.453125 6.390625 43.28125 13.890625 \r\n",
       "Q 47.125 21.390625 47.125 36.375 \r\n",
       "Q 47.125 51.421875 43.28125 58.90625 \r\n",
       "Q 39.453125 66.40625 31.78125 66.40625 \r\n",
       "z\r\n",
       "M 31.78125 74.21875 \r\n",
       "Q 44.046875 74.21875 50.515625 64.515625 \r\n",
       "Q 56.984375 54.828125 56.984375 36.375 \r\n",
       "Q 56.984375 17.96875 50.515625 8.265625 \r\n",
       "Q 44.046875 -1.421875 31.78125 -1.421875 \r\n",
       "Q 19.53125 -1.421875 13.0625 8.265625 \r\n",
       "Q 6.59375 17.96875 6.59375 36.375 \r\n",
       "Q 6.59375 54.828125 13.0625 64.515625 \r\n",
       "Q 19.53125 74.21875 31.78125 74.21875 \r\n",
       "z\r\n",
       "\" id=\"DejaVuSans-48\"/>\r\n",
       "      </defs>\r\n",
       "      <g transform=\"translate(27.626607 239.238437)scale(0.1 -0.1)\">\r\n",
       "       <use xlink:href=\"#DejaVuSans-48\"/>\r\n",
       "      </g>\r\n",
       "     </g>\r\n",
       "    </g>\r\n",
       "    <g id=\"xtick_2\">\r\n",
       "     <g id=\"line2d_2\">\r\n",
       "      <g>\r\n",
       "       <use style=\"stroke:#000000;stroke-width:0.8;\" x=\"69.636429\" xlink:href=\"#m02e8d97e46\" y=\"224.64\"/>\r\n",
       "      </g>\r\n",
       "     </g>\r\n",
       "     <g id=\"text_2\">\r\n",
       "      <!-- 5 -->\r\n",
       "      <defs>\r\n",
       "       <path d=\"M 10.796875 72.90625 \r\n",
       "L 49.515625 72.90625 \r\n",
       "L 49.515625 64.59375 \r\n",
       "L 19.828125 64.59375 \r\n",
       "L 19.828125 46.734375 \r\n",
       "Q 21.96875 47.46875 24.109375 47.828125 \r\n",
       "Q 26.265625 48.1875 28.421875 48.1875 \r\n",
       "Q 40.625 48.1875 47.75 41.5 \r\n",
       "Q 54.890625 34.8125 54.890625 23.390625 \r\n",
       "Q 54.890625 11.625 47.5625 5.09375 \r\n",
       "Q 40.234375 -1.421875 26.90625 -1.421875 \r\n",
       "Q 22.3125 -1.421875 17.546875 -0.640625 \r\n",
       "Q 12.796875 0.140625 7.71875 1.703125 \r\n",
       "L 7.71875 11.625 \r\n",
       "Q 12.109375 9.234375 16.796875 8.0625 \r\n",
       "Q 21.484375 6.890625 26.703125 6.890625 \r\n",
       "Q 35.15625 6.890625 40.078125 11.328125 \r\n",
       "Q 45.015625 15.765625 45.015625 23.390625 \r\n",
       "Q 45.015625 31 40.078125 35.4375 \r\n",
       "Q 35.15625 39.890625 26.703125 39.890625 \r\n",
       "Q 22.75 39.890625 18.8125 39.015625 \r\n",
       "Q 14.890625 38.140625 10.796875 36.28125 \r\n",
       "z\r\n",
       "\" id=\"DejaVuSans-53\"/>\r\n",
       "      </defs>\r\n",
       "      <g transform=\"translate(66.455179 239.238437)scale(0.1 -0.1)\">\r\n",
       "       <use xlink:href=\"#DejaVuSans-53\"/>\r\n",
       "      </g>\r\n",
       "     </g>\r\n",
       "    </g>\r\n",
       "    <g id=\"xtick_3\">\r\n",
       "     <g id=\"line2d_3\">\r\n",
       "      <g>\r\n",
       "       <use style=\"stroke:#000000;stroke-width:0.8;\" x=\"108.465\" xlink:href=\"#m02e8d97e46\" y=\"224.64\"/>\r\n",
       "      </g>\r\n",
       "     </g>\r\n",
       "     <g id=\"text_3\">\r\n",
       "      <!-- 10 -->\r\n",
       "      <defs>\r\n",
       "       <path d=\"M 12.40625 8.296875 \r\n",
       "L 28.515625 8.296875 \r\n",
       "L 28.515625 63.921875 \r\n",
       "L 10.984375 60.40625 \r\n",
       "L 10.984375 69.390625 \r\n",
       "L 28.421875 72.90625 \r\n",
       "L 38.28125 72.90625 \r\n",
       "L 38.28125 8.296875 \r\n",
       "L 54.390625 8.296875 \r\n",
       "L 54.390625 0 \r\n",
       "L 12.40625 0 \r\n",
       "z\r\n",
       "\" id=\"DejaVuSans-49\"/>\r\n",
       "      </defs>\r\n",
       "      <g transform=\"translate(102.1025 239.238437)scale(0.1 -0.1)\">\r\n",
       "       <use xlink:href=\"#DejaVuSans-49\"/>\r\n",
       "       <use x=\"63.623047\" xlink:href=\"#DejaVuSans-48\"/>\r\n",
       "      </g>\r\n",
       "     </g>\r\n",
       "    </g>\r\n",
       "    <g id=\"xtick_4\">\r\n",
       "     <g id=\"line2d_4\">\r\n",
       "      <g>\r\n",
       "       <use style=\"stroke:#000000;stroke-width:0.8;\" x=\"147.293571\" xlink:href=\"#m02e8d97e46\" y=\"224.64\"/>\r\n",
       "      </g>\r\n",
       "     </g>\r\n",
       "     <g id=\"text_4\">\r\n",
       "      <!-- 15 -->\r\n",
       "      <g transform=\"translate(140.931071 239.238437)scale(0.1 -0.1)\">\r\n",
       "       <use xlink:href=\"#DejaVuSans-49\"/>\r\n",
       "       <use x=\"63.623047\" xlink:href=\"#DejaVuSans-53\"/>\r\n",
       "      </g>\r\n",
       "     </g>\r\n",
       "    </g>\r\n",
       "    <g id=\"xtick_5\">\r\n",
       "     <g id=\"line2d_5\">\r\n",
       "      <g>\r\n",
       "       <use style=\"stroke:#000000;stroke-width:0.8;\" x=\"186.122143\" xlink:href=\"#m02e8d97e46\" y=\"224.64\"/>\r\n",
       "      </g>\r\n",
       "     </g>\r\n",
       "     <g id=\"text_5\">\r\n",
       "      <!-- 20 -->\r\n",
       "      <defs>\r\n",
       "       <path d=\"M 19.1875 8.296875 \r\n",
       "L 53.609375 8.296875 \r\n",
       "L 53.609375 0 \r\n",
       "L 7.328125 0 \r\n",
       "L 7.328125 8.296875 \r\n",
       "Q 12.9375 14.109375 22.625 23.890625 \r\n",
       "Q 32.328125 33.6875 34.8125 36.53125 \r\n",
       "Q 39.546875 41.84375 41.421875 45.53125 \r\n",
       "Q 43.3125 49.21875 43.3125 52.78125 \r\n",
       "Q 43.3125 58.59375 39.234375 62.25 \r\n",
       "Q 35.15625 65.921875 28.609375 65.921875 \r\n",
       "Q 23.96875 65.921875 18.8125 64.3125 \r\n",
       "Q 13.671875 62.703125 7.8125 59.421875 \r\n",
       "L 7.8125 69.390625 \r\n",
       "Q 13.765625 71.78125 18.9375 73 \r\n",
       "Q 24.125 74.21875 28.421875 74.21875 \r\n",
       "Q 39.75 74.21875 46.484375 68.546875 \r\n",
       "Q 53.21875 62.890625 53.21875 53.421875 \r\n",
       "Q 53.21875 48.921875 51.53125 44.890625 \r\n",
       "Q 49.859375 40.875 45.40625 35.40625 \r\n",
       "Q 44.1875 33.984375 37.640625 27.21875 \r\n",
       "Q 31.109375 20.453125 19.1875 8.296875 \r\n",
       "z\r\n",
       "\" id=\"DejaVuSans-50\"/>\r\n",
       "      </defs>\r\n",
       "      <g transform=\"translate(179.759643 239.238437)scale(0.1 -0.1)\">\r\n",
       "       <use xlink:href=\"#DejaVuSans-50\"/>\r\n",
       "       <use x=\"63.623047\" xlink:href=\"#DejaVuSans-48\"/>\r\n",
       "      </g>\r\n",
       "     </g>\r\n",
       "    </g>\r\n",
       "    <g id=\"xtick_6\">\r\n",
       "     <g id=\"line2d_6\">\r\n",
       "      <g>\r\n",
       "       <use style=\"stroke:#000000;stroke-width:0.8;\" x=\"224.950714\" xlink:href=\"#m02e8d97e46\" y=\"224.64\"/>\r\n",
       "      </g>\r\n",
       "     </g>\r\n",
       "     <g id=\"text_6\">\r\n",
       "      <!-- 25 -->\r\n",
       "      <g transform=\"translate(218.588214 239.238437)scale(0.1 -0.1)\">\r\n",
       "       <use xlink:href=\"#DejaVuSans-50\"/>\r\n",
       "       <use x=\"63.623047\" xlink:href=\"#DejaVuSans-53\"/>\r\n",
       "      </g>\r\n",
       "     </g>\r\n",
       "    </g>\r\n",
       "   </g>\r\n",
       "   <g id=\"matplotlib.axis_2\">\r\n",
       "    <g id=\"ytick_1\">\r\n",
       "     <g id=\"line2d_7\">\r\n",
       "      <defs>\r\n",
       "       <path d=\"M 0 0 \r\n",
       "L -3.5 0 \r\n",
       "\" id=\"m2a17c43e7c\" style=\"stroke:#000000;stroke-width:0.8;\"/>\r\n",
       "      </defs>\r\n",
       "      <g>\r\n",
       "       <use style=\"stroke:#000000;stroke-width:0.8;\" x=\"26.925\" xlink:href=\"#m2a17c43e7c\" y=\"11.082857\"/>\r\n",
       "      </g>\r\n",
       "     </g>\r\n",
       "     <g id=\"text_7\">\r\n",
       "      <!-- 0 -->\r\n",
       "      <g transform=\"translate(13.5625 14.882076)scale(0.1 -0.1)\">\r\n",
       "       <use xlink:href=\"#DejaVuSans-48\"/>\r\n",
       "      </g>\r\n",
       "     </g>\r\n",
       "    </g>\r\n",
       "    <g id=\"ytick_2\">\r\n",
       "     <g id=\"line2d_8\">\r\n",
       "      <g>\r\n",
       "       <use style=\"stroke:#000000;stroke-width:0.8;\" x=\"26.925\" xlink:href=\"#m2a17c43e7c\" y=\"49.911429\"/>\r\n",
       "      </g>\r\n",
       "     </g>\r\n",
       "     <g id=\"text_8\">\r\n",
       "      <!-- 5 -->\r\n",
       "      <g transform=\"translate(13.5625 53.710647)scale(0.1 -0.1)\">\r\n",
       "       <use xlink:href=\"#DejaVuSans-53\"/>\r\n",
       "      </g>\r\n",
       "     </g>\r\n",
       "    </g>\r\n",
       "    <g id=\"ytick_3\">\r\n",
       "     <g id=\"line2d_9\">\r\n",
       "      <g>\r\n",
       "       <use style=\"stroke:#000000;stroke-width:0.8;\" x=\"26.925\" xlink:href=\"#m2a17c43e7c\" y=\"88.74\"/>\r\n",
       "      </g>\r\n",
       "     </g>\r\n",
       "     <g id=\"text_9\">\r\n",
       "      <!-- 10 -->\r\n",
       "      <g transform=\"translate(7.2 92.539219)scale(0.1 -0.1)\">\r\n",
       "       <use xlink:href=\"#DejaVuSans-49\"/>\r\n",
       "       <use x=\"63.623047\" xlink:href=\"#DejaVuSans-48\"/>\r\n",
       "      </g>\r\n",
       "     </g>\r\n",
       "    </g>\r\n",
       "    <g id=\"ytick_4\">\r\n",
       "     <g id=\"line2d_10\">\r\n",
       "      <g>\r\n",
       "       <use style=\"stroke:#000000;stroke-width:0.8;\" x=\"26.925\" xlink:href=\"#m2a17c43e7c\" y=\"127.568571\"/>\r\n",
       "      </g>\r\n",
       "     </g>\r\n",
       "     <g id=\"text_10\">\r\n",
       "      <!-- 15 -->\r\n",
       "      <g transform=\"translate(7.2 131.36779)scale(0.1 -0.1)\">\r\n",
       "       <use xlink:href=\"#DejaVuSans-49\"/>\r\n",
       "       <use x=\"63.623047\" xlink:href=\"#DejaVuSans-53\"/>\r\n",
       "      </g>\r\n",
       "     </g>\r\n",
       "    </g>\r\n",
       "    <g id=\"ytick_5\">\r\n",
       "     <g id=\"line2d_11\">\r\n",
       "      <g>\r\n",
       "       <use style=\"stroke:#000000;stroke-width:0.8;\" x=\"26.925\" xlink:href=\"#m2a17c43e7c\" y=\"166.397143\"/>\r\n",
       "      </g>\r\n",
       "     </g>\r\n",
       "     <g id=\"text_11\">\r\n",
       "      <!-- 20 -->\r\n",
       "      <g transform=\"translate(7.2 170.196362)scale(0.1 -0.1)\">\r\n",
       "       <use xlink:href=\"#DejaVuSans-50\"/>\r\n",
       "       <use x=\"63.623047\" xlink:href=\"#DejaVuSans-48\"/>\r\n",
       "      </g>\r\n",
       "     </g>\r\n",
       "    </g>\r\n",
       "    <g id=\"ytick_6\">\r\n",
       "     <g id=\"line2d_12\">\r\n",
       "      <g>\r\n",
       "       <use style=\"stroke:#000000;stroke-width:0.8;\" x=\"26.925\" xlink:href=\"#m2a17c43e7c\" y=\"205.225714\"/>\r\n",
       "      </g>\r\n",
       "     </g>\r\n",
       "     <g id=\"text_12\">\r\n",
       "      <!-- 25 -->\r\n",
       "      <g transform=\"translate(7.2 209.024933)scale(0.1 -0.1)\">\r\n",
       "       <use xlink:href=\"#DejaVuSans-50\"/>\r\n",
       "       <use x=\"63.623047\" xlink:href=\"#DejaVuSans-53\"/>\r\n",
       "      </g>\r\n",
       "     </g>\r\n",
       "    </g>\r\n",
       "   </g>\r\n",
       "   <g id=\"patch_3\">\r\n",
       "    <path d=\"M 26.925 224.64 \r\n",
       "L 26.925 7.2 \r\n",
       "\" style=\"fill:none;stroke:#000000;stroke-linecap:square;stroke-linejoin:miter;stroke-width:0.8;\"/>\r\n",
       "   </g>\r\n",
       "   <g id=\"patch_4\">\r\n",
       "    <path d=\"M 244.365 224.64 \r\n",
       "L 244.365 7.2 \r\n",
       "\" style=\"fill:none;stroke:#000000;stroke-linecap:square;stroke-linejoin:miter;stroke-width:0.8;\"/>\r\n",
       "   </g>\r\n",
       "   <g id=\"patch_5\">\r\n",
       "    <path d=\"M 26.925 224.64 \r\n",
       "L 244.365 224.64 \r\n",
       "\" style=\"fill:none;stroke:#000000;stroke-linecap:square;stroke-linejoin:miter;stroke-width:0.8;\"/>\r\n",
       "   </g>\r\n",
       "   <g id=\"patch_6\">\r\n",
       "    <path d=\"M 26.925 7.2 \r\n",
       "L 244.365 7.2 \r\n",
       "\" style=\"fill:none;stroke:#000000;stroke-linecap:square;stroke-linejoin:miter;stroke-width:0.8;\"/>\r\n",
       "   </g>\r\n",
       "  </g>\r\n",
       " </g>\r\n",
       " <defs>\r\n",
       "  <clipPath id=\"p3ba1bce0d2\">\r\n",
       "   <rect height=\"217.44\" width=\"217.44\" x=\"26.925\" y=\"7.2\"/>\r\n",
       "  </clipPath>\r\n",
       " </defs>\r\n",
       "</svg>\r\n"
      ],
      "text/plain": [
       "<Figure size 432x288 with 1 Axes>"
      ]
     },
     "metadata": {
      "needs_background": "light"
     },
     "output_type": "display_data"
    }
   ],
   "source": [
    "plt.imshow(X_test[150].reshape(28,28), cmap='binary')"
   ]
  },
  {
   "cell_type": "code",
   "execution_count": 125,
   "metadata": {},
   "outputs": [],
   "source": [
    "testPic = X_test[150].reshape(1,28, 28,1).astype('float32')"
   ]
  },
  {
   "cell_type": "code",
   "execution_count": 100,
   "metadata": {},
   "outputs": [
    {
     "data": {
      "text/plain": [
       "array([0.], dtype=float32)"
      ]
     },
     "execution_count": 100,
     "metadata": {},
     "output_type": "execute_result"
    }
   ],
   "source": [
    "testPic[0][0]"
   ]
  },
  {
   "cell_type": "code",
   "execution_count": 81,
   "metadata": {},
   "outputs": [
    {
     "data": {
      "text/plain": [
       "(28, 28, 1)"
      ]
     },
     "execution_count": 81,
     "metadata": {},
     "output_type": "execute_result"
    }
   ],
   "source": [
    "X_train_28.shape[1:]"
   ]
  },
  {
   "cell_type": "code",
   "execution_count": 108,
   "metadata": {},
   "outputs": [
    {
     "data": {
      "text/plain": [
       "array([0.], dtype=float32)"
      ]
     },
     "execution_count": 108,
     "metadata": {},
     "output_type": "execute_result"
    }
   ],
   "source": [
    "testPic[0][0][0]"
   ]
  },
  {
   "cell_type": "code",
   "execution_count": 126,
   "metadata": {},
   "outputs": [
    {
     "data": {
      "text/plain": [
       "array([[1.3380073e-01, 2.7204397e-01, 1.1891171e-01, 1.1766133e-01,\n",
       "        1.3962823e-01, 1.0592937e-01, 1.1197846e-01, 4.5252724e-05,\n",
       "        9.0928364e-07]], dtype=float32)"
      ]
     },
     "execution_count": 126,
     "metadata": {},
     "output_type": "execute_result"
    }
   ],
   "source": [
    "model.predict(testPic)"
   ]
  },
  {
   "cell_type": "code",
   "execution_count": 18,
   "metadata": {},
   "outputs": [],
   "source": [
    "zeros =np.zeros([28,28])"
   ]
  },
  {
   "cell_type": "code",
   "execution_count": 19,
   "metadata": {},
   "outputs": [],
   "source": [
    "zeros_tf=tf.reshape(zeros, [-1,28,28,1])"
   ]
  },
  {
   "cell_type": "code",
   "execution_count": 129,
   "metadata": {},
   "outputs": [
    {
     "data": {
      "text/plain": [
       "array([[1.3380073e-01, 2.7204397e-01, 1.1891171e-01, 1.1766133e-01,\n",
       "        1.3962823e-01, 1.0592937e-01, 1.1197846e-01, 4.5252724e-05,\n",
       "        9.0928364e-07]], dtype=float32)"
      ]
     },
     "execution_count": 129,
     "metadata": {},
     "output_type": "execute_result"
    }
   ],
   "source": [
    "model.predict(zeros.reshape(1,28, 28,1).astype('float32'))"
   ]
  },
  {
   "cell_type": "code",
   "execution_count": 130,
   "metadata": {},
   "outputs": [],
   "source": [
    "model.save('fruits.h5')"
   ]
  },
  {
   "cell_type": "code",
   "execution_count": 131,
   "metadata": {},
   "outputs": [],
   "source": [
    "import tensorflowjs as tfjs"
   ]
  },
  {
   "cell_type": "code",
   "execution_count": 132,
   "metadata": {},
   "outputs": [],
   "source": [
    "tfjs.converters.save_keras_model(model, './fruit/')"
   ]
  },
  {
   "cell_type": "code",
   "execution_count": 2,
   "metadata": {},
   "outputs": [],
   "source": [
    "model25 = tf.keras.models.load_model('../easy30/kerasEasy30.h5')"
   ]
  },
  {
   "cell_type": "code",
   "execution_count": 6,
   "metadata": {},
   "outputs": [
    {
     "output_type": "error",
     "ename": "NameError",
     "evalue": "name 'zeros_tf' is not defined",
     "traceback": [
      "\u001b[1;31m---------------------------------------------------------------------------\u001b[0m",
      "\u001b[1;31mNameError\u001b[0m                                 Traceback (most recent call last)",
      "\u001b[1;32m<ipython-input-6-80ac93dbf5c0>\u001b[0m in \u001b[0;36m<module>\u001b[1;34m\u001b[0m\n\u001b[1;32m----> 1\u001b[1;33m \u001b[0mmodel25\u001b[0m\u001b[1;33m.\u001b[0m\u001b[0mpredict\u001b[0m\u001b[1;33m(\u001b[0m\u001b[0mzeros_tf\u001b[0m\u001b[1;33m)\u001b[0m\u001b[1;33m\u001b[0m\u001b[1;33m\u001b[0m\u001b[0m\n\u001b[0m",
      "\u001b[1;31mNameError\u001b[0m: name 'zeros_tf' is not defined"
     ]
    }
   ],
   "source": [
    "model25.predict(zeros_tf)"
   ]
  },
  {
   "cell_type": "code",
   "execution_count": 30,
   "metadata": {},
   "outputs": [],
   "source": [
    "ones =np.ones([28,28])\n",
    "ones_tf=tf.reshape(ones, [-1,28,28,1])"
   ]
  },
  {
   "cell_type": "code",
   "execution_count": 31,
   "metadata": {},
   "outputs": [
    {
     "output_type": "execute_result",
     "data": {
      "text/plain": "array([[0.01077043, 0.00528294, 0.0422294 , 0.00478501, 0.00784956,\n        0.00446659, 0.00449696, 0.00616009, 0.01704045, 0.01679914,\n        0.09740496, 0.01264831, 0.07147717, 0.00620979, 0.00905091,\n        0.01469143, 0.02118823, 0.06661362, 0.11920557, 0.00950107,\n        0.21063401, 0.13450651, 0.02310882, 0.01046708, 0.01300051,\n        0.02887199, 0.01105629, 0.00411572, 0.00579259, 0.01057484]],\n      dtype=float32)"
     },
     "metadata": {},
     "execution_count": 31
    }
   ],
   "source": [
    "model25.predict(ones_tf)"
   ]
  },
  {
   "cell_type": "code",
   "execution_count": 7,
   "metadata": {},
   "outputs": [],
   "source": [
    "test = np.load(data_loc+'bird'+'.npy')"
   ]
  },
  {
   "cell_type": "code",
   "execution_count": 8,
   "metadata": {},
   "outputs": [
    {
     "output_type": "execute_result",
     "data": {
      "text/plain": "<matplotlib.image.AxesImage at 0x234db72ff48>"
     },
     "metadata": {},
     "execution_count": 8
    },
    {
     "output_type": "display_data",
     "data": {
      "text/plain": "<Figure size 432x288 with 1 Axes>",
      "image/svg+xml": "<?xml version=\"1.0\" encoding=\"utf-8\" standalone=\"no\"?>\r\n<!DOCTYPE svg PUBLIC \"-//W3C//DTD SVG 1.1//EN\"\r\n  \"http://www.w3.org/Graphics/SVG/1.1/DTD/svg11.dtd\">\r\n<!-- Created with matplotlib (https://matplotlib.org/) -->\r\n<svg height=\"248.518125pt\" version=\"1.1\" viewBox=\"0 0 251.565 248.518125\" width=\"251.565pt\" xmlns=\"http://www.w3.org/2000/svg\" xmlns:xlink=\"http://www.w3.org/1999/xlink\">\r\n <defs>\r\n  <style type=\"text/css\">\r\n*{stroke-linecap:butt;stroke-linejoin:round;}\r\n  </style>\r\n </defs>\r\n <g id=\"figure_1\">\r\n  <g id=\"patch_1\">\r\n   <path d=\"M 0 248.518125 \r\nL 251.565 248.518125 \r\nL 251.565 0 \r\nL 0 0 \r\nz\r\n\" style=\"fill:none;\"/>\r\n  </g>\r\n  <g id=\"axes_1\">\r\n   <g id=\"patch_2\">\r\n    <path d=\"M 26.925 224.64 \r\nL 244.365 224.64 \r\nL 244.365 7.2 \r\nL 26.925 7.2 \r\nz\r\n\" style=\"fill:#ffffff;\"/>\r\n   </g>\r\n   <g clip-path=\"url(#p5b5c60d14a)\">\r\n    <image height=\"218\" id=\"image016788edc2\" transform=\"scale(1 -1)translate(0 -218)\" width=\"218\" x=\"26.925\" xlink:href=\"data:image/png;base64,\r\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\" y=\"-6.64\"/>\r\n   </g>\r\n   <g id=\"matplotlib.axis_1\">\r\n    <g id=\"xtick_1\">\r\n     <g id=\"line2d_1\">\r\n      <defs>\r\n       <path d=\"M 0 0 \r\nL 0 3.5 \r\n\" id=\"mb62a980d6a\" style=\"stroke:#000000;stroke-width:0.8;\"/>\r\n      </defs>\r\n      <g>\r\n       <use style=\"stroke:#000000;stroke-width:0.8;\" x=\"30.807857\" xlink:href=\"#mb62a980d6a\" y=\"224.64\"/>\r\n      </g>\r\n     </g>\r\n     <g id=\"text_1\">\r\n      <!-- 0 -->\r\n      <defs>\r\n       <path d=\"M 31.78125 66.40625 \r\nQ 24.171875 66.40625 20.328125 58.90625 \r\nQ 16.5 51.421875 16.5 36.375 \r\nQ 16.5 21.390625 20.328125 13.890625 \r\nQ 24.171875 6.390625 31.78125 6.390625 \r\nQ 39.453125 6.390625 43.28125 13.890625 \r\nQ 47.125 21.390625 47.125 36.375 \r\nQ 47.125 51.421875 43.28125 58.90625 \r\nQ 39.453125 66.40625 31.78125 66.40625 \r\nz\r\nM 31.78125 74.21875 \r\nQ 44.046875 74.21875 50.515625 64.515625 \r\nQ 56.984375 54.828125 56.984375 36.375 \r\nQ 56.984375 17.96875 50.515625 8.265625 \r\nQ 44.046875 -1.421875 31.78125 -1.421875 \r\nQ 19.53125 -1.421875 13.0625 8.265625 \r\nQ 6.59375 17.96875 6.59375 36.375 \r\nQ 6.59375 54.828125 13.0625 64.515625 \r\nQ 19.53125 74.21875 31.78125 74.21875 \r\nz\r\n\" id=\"DejaVuSans-48\"/>\r\n      </defs>\r\n      <g transform=\"translate(27.626607 239.238437)scale(0.1 -0.1)\">\r\n       <use xlink:href=\"#DejaVuSans-48\"/>\r\n      </g>\r\n     </g>\r\n    </g>\r\n    <g id=\"xtick_2\">\r\n     <g id=\"line2d_2\">\r\n      <g>\r\n       <use style=\"stroke:#000000;stroke-width:0.8;\" x=\"69.636429\" xlink:href=\"#mb62a980d6a\" y=\"224.64\"/>\r\n      </g>\r\n     </g>\r\n     <g id=\"text_2\">\r\n      <!-- 5 -->\r\n      <defs>\r\n       <path d=\"M 10.796875 72.90625 \r\nL 49.515625 72.90625 \r\nL 49.515625 64.59375 \r\nL 19.828125 64.59375 \r\nL 19.828125 46.734375 \r\nQ 21.96875 47.46875 24.109375 47.828125 \r\nQ 26.265625 48.1875 28.421875 48.1875 \r\nQ 40.625 48.1875 47.75 41.5 \r\nQ 54.890625 34.8125 54.890625 23.390625 \r\nQ 54.890625 11.625 47.5625 5.09375 \r\nQ 40.234375 -1.421875 26.90625 -1.421875 \r\nQ 22.3125 -1.421875 17.546875 -0.640625 \r\nQ 12.796875 0.140625 7.71875 1.703125 \r\nL 7.71875 11.625 \r\nQ 12.109375 9.234375 16.796875 8.0625 \r\nQ 21.484375 6.890625 26.703125 6.890625 \r\nQ 35.15625 6.890625 40.078125 11.328125 \r\nQ 45.015625 15.765625 45.015625 23.390625 \r\nQ 45.015625 31 40.078125 35.4375 \r\nQ 35.15625 39.890625 26.703125 39.890625 \r\nQ 22.75 39.890625 18.8125 39.015625 \r\nQ 14.890625 38.140625 10.796875 36.28125 \r\nz\r\n\" id=\"DejaVuSans-53\"/>\r\n      </defs>\r\n      <g transform=\"translate(66.455179 239.238437)scale(0.1 -0.1)\">\r\n       <use xlink:href=\"#DejaVuSans-53\"/>\r\n      </g>\r\n     </g>\r\n    </g>\r\n    <g id=\"xtick_3\">\r\n     <g id=\"line2d_3\">\r\n      <g>\r\n       <use style=\"stroke:#000000;stroke-width:0.8;\" x=\"108.465\" xlink:href=\"#mb62a980d6a\" y=\"224.64\"/>\r\n      </g>\r\n     </g>\r\n     <g id=\"text_3\">\r\n      <!-- 10 -->\r\n      <defs>\r\n       <path d=\"M 12.40625 8.296875 \r\nL 28.515625 8.296875 \r\nL 28.515625 63.921875 \r\nL 10.984375 60.40625 \r\nL 10.984375 69.390625 \r\nL 28.421875 72.90625 \r\nL 38.28125 72.90625 \r\nL 38.28125 8.296875 \r\nL 54.390625 8.296875 \r\nL 54.390625 0 \r\nL 12.40625 0 \r\nz\r\n\" id=\"DejaVuSans-49\"/>\r\n      </defs>\r\n      <g transform=\"translate(102.1025 239.238437)scale(0.1 -0.1)\">\r\n       <use xlink:href=\"#DejaVuSans-49\"/>\r\n       <use x=\"63.623047\" xlink:href=\"#DejaVuSans-48\"/>\r\n      </g>\r\n     </g>\r\n    </g>\r\n    <g id=\"xtick_4\">\r\n     <g id=\"line2d_4\">\r\n      <g>\r\n       <use style=\"stroke:#000000;stroke-width:0.8;\" x=\"147.293571\" xlink:href=\"#mb62a980d6a\" y=\"224.64\"/>\r\n      </g>\r\n     </g>\r\n     <g id=\"text_4\">\r\n      <!-- 15 -->\r\n      <g transform=\"translate(140.931071 239.238437)scale(0.1 -0.1)\">\r\n       <use xlink:href=\"#DejaVuSans-49\"/>\r\n       <use x=\"63.623047\" xlink:href=\"#DejaVuSans-53\"/>\r\n      </g>\r\n     </g>\r\n    </g>\r\n    <g id=\"xtick_5\">\r\n     <g id=\"line2d_5\">\r\n      <g>\r\n       <use style=\"stroke:#000000;stroke-width:0.8;\" x=\"186.122143\" xlink:href=\"#mb62a980d6a\" y=\"224.64\"/>\r\n      </g>\r\n     </g>\r\n     <g id=\"text_5\">\r\n      <!-- 20 -->\r\n      <defs>\r\n       <path d=\"M 19.1875 8.296875 \r\nL 53.609375 8.296875 \r\nL 53.609375 0 \r\nL 7.328125 0 \r\nL 7.328125 8.296875 \r\nQ 12.9375 14.109375 22.625 23.890625 \r\nQ 32.328125 33.6875 34.8125 36.53125 \r\nQ 39.546875 41.84375 41.421875 45.53125 \r\nQ 43.3125 49.21875 43.3125 52.78125 \r\nQ 43.3125 58.59375 39.234375 62.25 \r\nQ 35.15625 65.921875 28.609375 65.921875 \r\nQ 23.96875 65.921875 18.8125 64.3125 \r\nQ 13.671875 62.703125 7.8125 59.421875 \r\nL 7.8125 69.390625 \r\nQ 13.765625 71.78125 18.9375 73 \r\nQ 24.125 74.21875 28.421875 74.21875 \r\nQ 39.75 74.21875 46.484375 68.546875 \r\nQ 53.21875 62.890625 53.21875 53.421875 \r\nQ 53.21875 48.921875 51.53125 44.890625 \r\nQ 49.859375 40.875 45.40625 35.40625 \r\nQ 44.1875 33.984375 37.640625 27.21875 \r\nQ 31.109375 20.453125 19.1875 8.296875 \r\nz\r\n\" id=\"DejaVuSans-50\"/>\r\n      </defs>\r\n      <g transform=\"translate(179.759643 239.238437)scale(0.1 -0.1)\">\r\n       <use xlink:href=\"#DejaVuSans-50\"/>\r\n       <use x=\"63.623047\" xlink:href=\"#DejaVuSans-48\"/>\r\n      </g>\r\n     </g>\r\n    </g>\r\n    <g id=\"xtick_6\">\r\n     <g id=\"line2d_6\">\r\n      <g>\r\n       <use style=\"stroke:#000000;stroke-width:0.8;\" x=\"224.950714\" xlink:href=\"#mb62a980d6a\" y=\"224.64\"/>\r\n      </g>\r\n     </g>\r\n     <g id=\"text_6\">\r\n      <!-- 25 -->\r\n      <g transform=\"translate(218.588214 239.238437)scale(0.1 -0.1)\">\r\n       <use xlink:href=\"#DejaVuSans-50\"/>\r\n       <use x=\"63.623047\" xlink:href=\"#DejaVuSans-53\"/>\r\n      </g>\r\n     </g>\r\n    </g>\r\n   </g>\r\n   <g id=\"matplotlib.axis_2\">\r\n    <g id=\"ytick_1\">\r\n     <g id=\"line2d_7\">\r\n      <defs>\r\n       <path d=\"M 0 0 \r\nL -3.5 0 \r\n\" id=\"m89e3440c6f\" style=\"stroke:#000000;stroke-width:0.8;\"/>\r\n      </defs>\r\n      <g>\r\n       <use style=\"stroke:#000000;stroke-width:0.8;\" x=\"26.925\" xlink:href=\"#m89e3440c6f\" y=\"11.082857\"/>\r\n      </g>\r\n     </g>\r\n     <g id=\"text_7\">\r\n      <!-- 0 -->\r\n      <g transform=\"translate(13.5625 14.882076)scale(0.1 -0.1)\">\r\n       <use xlink:href=\"#DejaVuSans-48\"/>\r\n      </g>\r\n     </g>\r\n    </g>\r\n    <g id=\"ytick_2\">\r\n     <g id=\"line2d_8\">\r\n      <g>\r\n       <use style=\"stroke:#000000;stroke-width:0.8;\" x=\"26.925\" xlink:href=\"#m89e3440c6f\" y=\"49.911429\"/>\r\n      </g>\r\n     </g>\r\n     <g id=\"text_8\">\r\n      <!-- 5 -->\r\n      <g transform=\"translate(13.5625 53.710647)scale(0.1 -0.1)\">\r\n       <use xlink:href=\"#DejaVuSans-53\"/>\r\n      </g>\r\n     </g>\r\n    </g>\r\n    <g id=\"ytick_3\">\r\n     <g id=\"line2d_9\">\r\n      <g>\r\n       <use style=\"stroke:#000000;stroke-width:0.8;\" x=\"26.925\" xlink:href=\"#m89e3440c6f\" y=\"88.74\"/>\r\n      </g>\r\n     </g>\r\n     <g id=\"text_9\">\r\n      <!-- 10 -->\r\n      <g transform=\"translate(7.2 92.539219)scale(0.1 -0.1)\">\r\n       <use xlink:href=\"#DejaVuSans-49\"/>\r\n       <use x=\"63.623047\" xlink:href=\"#DejaVuSans-48\"/>\r\n      </g>\r\n     </g>\r\n    </g>\r\n    <g id=\"ytick_4\">\r\n     <g id=\"line2d_10\">\r\n      <g>\r\n       <use style=\"stroke:#000000;stroke-width:0.8;\" x=\"26.925\" xlink:href=\"#m89e3440c6f\" y=\"127.568571\"/>\r\n      </g>\r\n     </g>\r\n     <g id=\"text_10\">\r\n      <!-- 15 -->\r\n      <g transform=\"translate(7.2 131.36779)scale(0.1 -0.1)\">\r\n       <use xlink:href=\"#DejaVuSans-49\"/>\r\n       <use x=\"63.623047\" xlink:href=\"#DejaVuSans-53\"/>\r\n      </g>\r\n     </g>\r\n    </g>\r\n    <g id=\"ytick_5\">\r\n     <g id=\"line2d_11\">\r\n      <g>\r\n       <use style=\"stroke:#000000;stroke-width:0.8;\" x=\"26.925\" xlink:href=\"#m89e3440c6f\" y=\"166.397143\"/>\r\n      </g>\r\n     </g>\r\n     <g id=\"text_11\">\r\n      <!-- 20 -->\r\n      <g transform=\"translate(7.2 170.196362)scale(0.1 -0.1)\">\r\n       <use xlink:href=\"#DejaVuSans-50\"/>\r\n       <use x=\"63.623047\" xlink:href=\"#DejaVuSans-48\"/>\r\n      </g>\r\n     </g>\r\n    </g>\r\n    <g id=\"ytick_6\">\r\n     <g id=\"line2d_12\">\r\n      <g>\r\n       <use style=\"stroke:#000000;stroke-width:0.8;\" x=\"26.925\" xlink:href=\"#m89e3440c6f\" y=\"205.225714\"/>\r\n      </g>\r\n     </g>\r\n     <g id=\"text_12\">\r\n      <!-- 25 -->\r\n      <g transform=\"translate(7.2 209.024933)scale(0.1 -0.1)\">\r\n       <use xlink:href=\"#DejaVuSans-50\"/>\r\n       <use x=\"63.623047\" xlink:href=\"#DejaVuSans-53\"/>\r\n      </g>\r\n     </g>\r\n    </g>\r\n   </g>\r\n   <g id=\"patch_3\">\r\n    <path d=\"M 26.925 224.64 \r\nL 26.925 7.2 \r\n\" style=\"fill:none;stroke:#000000;stroke-linecap:square;stroke-linejoin:miter;stroke-width:0.8;\"/>\r\n   </g>\r\n   <g id=\"patch_4\">\r\n    <path d=\"M 244.365 224.64 \r\nL 244.365 7.2 \r\n\" style=\"fill:none;stroke:#000000;stroke-linecap:square;stroke-linejoin:miter;stroke-width:0.8;\"/>\r\n   </g>\r\n   <g id=\"patch_5\">\r\n    <path d=\"M 26.925 224.64 \r\nL 244.365 224.64 \r\n\" style=\"fill:none;stroke:#000000;stroke-linecap:square;stroke-linejoin:miter;stroke-width:0.8;\"/>\r\n   </g>\r\n   <g id=\"patch_6\">\r\n    <path d=\"M 26.925 7.2 \r\nL 244.365 7.2 \r\n\" style=\"fill:none;stroke:#000000;stroke-linecap:square;stroke-linejoin:miter;stroke-width:0.8;\"/>\r\n   </g>\r\n  </g>\r\n </g>\r\n <defs>\r\n  <clipPath id=\"p5b5c60d14a\">\r\n   <rect height=\"217.44\" width=\"217.44\" x=\"26.925\" y=\"7.2\"/>\r\n  </clipPath>\r\n </defs>\r\n</svg>\r\n",
      "image/png": "[encoded data removed]"
     },
     "metadata": {
      "needs_background": "light"
     }
    }
   ],
   "source": [
    "import matplotlib.pyplot as plt\n",
    "%matplotlib inline\n",
    "plt.imshow(test[15].reshape(28,28), cmap='binary')"
   ]
  },
  {
   "cell_type": "code",
   "execution_count": 9,
   "metadata": {},
   "outputs": [
    {
     "output_type": "execute_result",
     "data": {
      "text/plain": "array([[0., 0., 0., 0., 0., 0., 0., 0., 0., 0., 0., 0., 0., 0., 0., 0.,\n        0., 0., 0., 0., 0., 0., 0., 0., 0., 0., 1., 0., 0., 0.]],\n      dtype=float32)"
     },
     "metadata": {},
     "execution_count": 9
    }
   ],
   "source": [
    "prediction = model25.predict(tf.expand_dims(tf.reshape(test[15].astype('float32'),[28,28,1]),0))\n",
    "prediction"
   ]
  },
  {
   "cell_type": "code",
   "execution_count": 18,
   "metadata": {},
   "outputs": [],
   "source": [
    "earlyPredictor = tf.keras.Model(model25.input, model25.layers[0].output)"
   ]
  },
  {
   "cell_type": "code",
   "execution_count": 16,
   "metadata": {},
   "outputs": [
    {
     "output_type": "execute_result",
     "data": {
      "text/plain": "<tf.Tensor 'conv2d/Identity:0' shape=(None, 28, 28, 16) dtype=float32>"
     },
     "metadata": {},
     "execution_count": 16
    }
   ],
   "source": [
    "model25.layers[0].output"
   ]
  },
  {
   "cell_type": "code",
   "execution_count": 26,
   "metadata": {},
   "outputs": [
    {
     "output_type": "execute_result",
     "data": {
      "text/plain": "<tf.Tensor: shape=(28, 28, 16), dtype=float32, numpy=\narray([[[0.0033396, 0.       , 0.       , ..., 0.       , 0.       ,\n         0.       ],\n        [0.0033396, 0.       , 0.       , ..., 0.       , 0.       ,\n         0.       ],\n        [0.0033396, 0.       , 0.       , ..., 0.       , 0.       ,\n         0.       ],\n        ...,\n        [0.0033396, 0.       , 0.       , ..., 0.       , 0.       ,\n         0.       ],\n        [0.0033396, 0.       , 0.       , ..., 0.       , 0.       ,\n         0.       ],\n        [0.0033396, 0.       , 0.       , ..., 0.       , 0.       ,\n         0.       ]],\n\n       [[0.0033396, 0.       , 0.       , ..., 0.       , 0.       ,\n         0.       ],\n        [0.0033396, 0.       , 0.       , ..., 0.       , 0.       ,\n         0.       ],\n        [0.0033396, 0.       , 0.       , ..., 0.       , 0.       ,\n         0.       ],\n        ...,\n        [0.0033396, 0.       , 0.       , ..., 0.       , 0.       ,\n         0.       ],\n        [0.0033396, 0.       , 0.       , ..., 0.       , 0.       ,\n         0.       ],\n        [0.0033396, 0.       , 0.       , ..., 0.       , 0.       ,\n         0.       ]],\n\n       [[0.0033396, 0.       , 0.       , ..., 0.       , 0.       ,\n         0.       ],\n        [0.0033396, 0.       , 0.       , ..., 0.       , 0.       ,\n         0.       ],\n        [0.0033396, 0.       , 0.       , ..., 0.       , 0.       ,\n         0.       ],\n        ...,\n        [0.0033396, 0.       , 0.       , ..., 0.       , 0.       ,\n         0.       ],\n        [0.0033396, 0.       , 0.       , ..., 0.       , 0.       ,\n         0.       ],\n        [0.0033396, 0.       , 0.       , ..., 0.       , 0.       ,\n         0.       ]],\n\n       ...,\n\n       [[0.0033396, 0.       , 0.       , ..., 0.       , 0.       ,\n         0.       ],\n        [0.0033396, 0.       , 0.       , ..., 0.       , 0.       ,\n         0.       ],\n        [0.0033396, 0.       , 0.       , ..., 0.       , 0.       ,\n         0.       ],\n        ...,\n        [0.0033396, 0.       , 0.       , ..., 0.       , 0.       ,\n         0.       ],\n        [0.0033396, 0.       , 0.       , ..., 0.       , 0.       ,\n         0.       ],\n        [0.0033396, 0.       , 0.       , ..., 0.       , 0.       ,\n         0.       ]],\n\n       [[0.0033396, 0.       , 0.       , ..., 0.       , 0.       ,\n         0.       ],\n        [0.0033396, 0.       , 0.       , ..., 0.       , 0.       ,\n         0.       ],\n        [0.0033396, 0.       , 0.       , ..., 0.       , 0.       ,\n         0.       ],\n        ...,\n        [0.0033396, 0.       , 0.       , ..., 0.       , 0.       ,\n         0.       ],\n        [0.0033396, 0.       , 0.       , ..., 0.       , 0.       ,\n         0.       ],\n        [0.0033396, 0.       , 0.       , ..., 0.       , 0.       ,\n         0.       ]],\n\n       [[0.0033396, 0.       , 0.       , ..., 0.       , 0.       ,\n         0.       ],\n        [0.0033396, 0.       , 0.       , ..., 0.       , 0.       ,\n         0.       ],\n        [0.0033396, 0.       , 0.       , ..., 0.       , 0.       ,\n         0.       ],\n        ...,\n        [0.0033396, 0.       , 0.       , ..., 0.       , 0.       ,\n         0.       ],\n        [0.0033396, 0.       , 0.       , ..., 0.       , 0.       ,\n         0.       ],\n        [0.0033396, 0.       , 0.       , ..., 0.       , 0.       ,\n         0.       ]]], dtype=float32)>"
     },
     "metadata": {},
     "execution_count": 26
    }
   ],
   "source": [
    "earlyPredictor(tf.expand_dims(tf.reshape(test[15].astype('float32'),[28,28,1]),0))[0]"
   ]
  },
  {
   "cell_type": "code",
   "execution_count": 48,
   "metadata": {},
   "outputs": [
    {
     "output_type": "execute_result",
     "data": {
      "text/plain": "array([ 0.0033396 , -0.00656337, -0.002486  , -0.22032948, -0.18139   ,\n       -0.15815274, -0.15932396, -0.03122642, -0.0243921 , -0.21433252,\n       -0.11201883, -0.01685519, -0.0723272 , -0.01468499, -0.01628011,\n       -0.00715846], dtype=float32)"
     },
     "metadata": {},
     "execution_count": 48
    }
   ],
   "source": [
    "weights=model25.layers[0].get_weights()\n",
    "weights[1]"
   ]
  },
  {
   "cell_type": "code",
   "execution_count": 49,
   "metadata": {},
   "outputs": [
    {
     "output_type": "execute_result",
     "data": {
      "text/plain": "array([[[[-0.16053987, -0.01696151, -0.13195609, -0.1007449 ,\n           0.04488418,  0.12038724, -0.05424661, -0.09064208,\n           0.10231151,  0.06592949,  0.09882298, -0.31661108,\n          -0.09143399,  0.15551819, -0.14046447,  0.15649532]],\n\n        [[ 0.21475159, -0.11610334,  0.33608988, -0.08478241,\n           0.1148032 ,  0.05999648,  0.14592205, -0.14693746,\n           0.29830799,  0.07562134,  0.08061723,  0.16737232,\n           0.07044883,  0.03287732, -0.2543688 ,  0.08179861]],\n\n        [[-0.07714632,  0.13068104, -0.22261408,  0.14402829,\n          -0.06249876,  0.0916011 ,  0.03560975, -0.24664691,\n           0.14914635,  0.04527962, -0.10653634,  0.09615467,\n           0.14309093, -0.21669047,  0.09087022, -0.13092278]]],\n\n\n       [[[ 0.2075569 ,  0.13374732, -0.21564665, -0.14430381,\n           0.12677598,  0.10928212,  0.01151757,  0.07105356,\n          -0.34568447,  0.09585033, -0.15463929,  0.06031884,\n          -0.21149297,  0.02783475, -0.04297303, -0.18093102]],\n\n        [[-0.32151532, -0.10651133,  0.36152327,  0.22945212,\n          -0.0055629 ,  0.1969292 ,  0.18460648,  0.133045  ,\n          -0.40060654,  0.06364202,  0.21069266,  0.26942158,\n           0.04118338,  0.25856698,  0.36363274,  0.1630195 ]],\n\n        [[ 0.11968186, -0.10327473, -0.13650529,  0.07321194,\n           0.15193553,  0.16067623, -0.04724551,  0.15171422,\n           0.09001631, -0.10199978,  0.07637256, -0.3010979 ,\n           0.20508634, -0.27384695,  0.12103128,  0.1827139 ]]],\n\n\n       [[[-0.01518477,  0.20805089, -0.10219191,  0.16300312,\n           0.0653553 , -0.011967  ,  0.04963473,  0.0595025 ,\n           0.22580379,  0.05300339, -0.15621367, -0.00622363,\n          -0.221049  , -0.04579631,  0.11149046, -0.03439267]],\n\n        [[ 0.03122852, -0.10019924,  0.11247143,  0.1335251 ,\n           0.09838437, -0.08707221,  0.18382008,  0.03836781,\n           0.0135489 ,  0.08785096, -0.07419799, -0.0284722 ,\n           0.07245618, -0.05366809, -0.05690382, -0.21159805]],\n\n        [[-0.02916737, -0.11388462, -0.025207  , -0.04387628,\n           0.12154119, -0.14726636, -0.17226169,  0.07595437,\n          -0.11799548,  0.04935279,  0.20416535, -0.03180416,\n           0.18014304,  0.09032403, -0.24364841, -0.01443027]]]],\n      dtype=float32)"
     },
     "metadata": {},
     "execution_count": 49
    }
   ],
   "source": [
    "weights[0]"
   ]
  },
  {
   "cell_type": "code",
   "execution_count": 41,
   "metadata": {
    "tags": []
   },
   "outputs": [
    {
     "output_type": "execute_result",
     "data": {
      "text/plain": "<tf.Tensor: shape=(16,), dtype=float32, numpy=\narray([0.        , 0.        , 0.30979642, 0.17198338, 0.1849082 ,\n       0.        , 0.        , 0.36785498, 0.        , 0.        ,\n       0.30501375, 0.        , 0.42654175, 0.00669096, 0.16783169,\n       0.11254662], dtype=float32)>"
     },
     "metadata": {},
     "execution_count": 41
    }
   ],
   "source": [
    "earlyPredictor(ones_tf)[0][0][0]"
   ]
  },
  {
   "cell_type": "code",
   "execution_count": null,
   "metadata": {},
   "outputs": [],
   "source": []
  }
 ],
 "metadata": {
  "colab": {
   "authorship_tag": "ABX9TyPbky/MZI5B+jQ7VO2a1HNt",
   "collapsed_sections": [],
   "mount_file_id": "1e2hSF3UVyQ0Qs18OqotWK9CGeSV8US7G",
   "name": "doodle2.ipynb",
   "provenance": []
  },
  "kernelspec": {
   "display_name": "Python 3.7.4 64-bit ('base': conda)",
   "language": "python",
   "name": "python37464bitbaseconda6b55c75a92594a4496380a81f2f453fd"
  }
 },
 "nbformat": 4,
 "nbformat_minor": 1
}